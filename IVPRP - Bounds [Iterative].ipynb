{
 "cells": [
  {
   "cell_type": "code",
   "execution_count": 1,
   "metadata": {
    "code_folding": [
     0
    ],
    "deletable": false,
    "editable": false,
    "run_control": {
     "frozen": true
    }
   },
   "outputs": [
    {
     "data": {
      "text/html": [
       "<style>.container { width:90% !important; }</style>"
      ],
      "text/plain": [
       "<IPython.core.display.HTML object>"
      ]
     },
     "metadata": {},
     "output_type": "display_data"
    },
    {
     "data": {
      "text/html": [
       "<style>.output_result { width:90% !important; }</style>"
      ],
      "text/plain": [
       "<IPython.core.display.HTML object>"
      ]
     },
     "metadata": {},
     "output_type": "display_data"
    },
    {
     "data": {
      "text/html": [
       " <style>\n",
       ".output_png {\n",
       "    display: table-cell;\n",
       "    text-align: center;\n",
       "    vertical-align: middle;\n",
       "}\n",
       "</style> "
      ],
      "text/plain": [
       "<IPython.core.display.HTML object>"
      ]
     },
     "metadata": {},
     "output_type": "display_data"
    }
   ],
   "source": [
    "# Window\n",
    "from IPython.display import display, HTML\n",
    "display(HTML(\"<style>.container { width:90% !important; }</style>\"))\n",
    "display(HTML(\"<style>.output_result { width:90% !important; }</style>\"))\n",
    "display(HTML(\"\"\" <style>\n",
    ".output_png {\n",
    "    display: table-cell;\n",
    "    text-align: center;\n",
    "    vertical-align: middle;\n",
    "}\n",
    "</style> \"\"\"))"
   ]
  },
  {
   "cell_type": "markdown",
   "metadata": {},
   "source": [
    "# Bounds – Integrated model for routing pollsters and vehicles"
   ]
  },
  {
   "cell_type": "markdown",
   "metadata": {},
   "source": [
    "<div class=\"alert alert-block alert-info\">\n",
    "This notebook contains the iterative code to determine bounds on a set of instances for the Integrated Vehicles and Polsters Routing Problem (IVPRP).\n",
    "</div>"
   ]
  },
  {
   "cell_type": "code",
   "execution_count": 1,
   "metadata": {
    "code_folding": [
     0
    ]
   },
   "outputs": [],
   "source": [
    "# Packages\n",
    "import numpy  as np\n",
    "import pandas as pd\n",
    "import time\n",
    "from collections import deque"
   ]
  },
  {
   "cell_type": "code",
   "execution_count": 2,
   "metadata": {
    "code_folding": [
     0
    ]
   },
   "outputs": [],
   "source": [
    "# Aliases\n",
    "append, arange, around, asarray, loadtxt, zeros = np.append, np.arange, np.around, np.asarray, np.loadtxt, np.zeros\n",
    "DataFrame, concat = pd.DataFrame, pd.concat"
   ]
  },
  {
   "cell_type": "code",
   "execution_count": 3,
   "metadata": {
    "code_folding": [
     0
    ]
   },
   "outputs": [],
   "source": [
    "# General functions for reading and writing\n",
    "def Reader(nom):    return loadtxt('Instances/'+ nom + '.txt' )\n",
    "def P_Reader(n):    return  Reader('Pollster_' + str(n))\n",
    "def V_Reader(n):    return  Reader( 'Vehicle_' + str(n))\n",
    "def S_Reader(n):    return  Reader( 'Service_' + str(n))\n",
    "def T_Reader(n):    return  Reader(    'Time_' + str(n))\n",
    "\n",
    "def Write(df,nom):  return DataFrame(df).to_csv('Instances/'+ nom +'.txt', header=None, index=None, sep=' ', mode='a')"
   ]
  },
  {
   "cell_type": "code",
   "execution_count": 4,
   "metadata": {},
   "outputs": [
    {
     "name": "stdout",
     "output_type": "stream",
     "text": [
      "NumPy: 1.26.4, Pandas: 2.2.3\n"
     ]
    }
   ],
   "source": [
    "print('NumPy: {0}, Pandas: {1}'.format(np.__version__, pd.__version__))"
   ]
  },
  {
   "cell_type": "markdown",
   "metadata": {},
   "source": [
    "## Basics"
   ]
  },
  {
   "cell_type": "markdown",
   "metadata": {},
   "source": [
    "<div class=\"alert alert-block alert-warning\">\n",
    "A general list is needed to call and run all the IP's at once. This list will store:\n",
    "    \n",
    "* $n$ is the number of stores to be visited,\n",
    "* $E$ is the set of available pollsters,\n",
    "* $K$ is the set of available vehicles,\n",
    "* $Q$ is the vehicle's capacity,\n",
    "* $S$ is the number of days.\n",
    "</div>"
   ]
  },
  {
   "cell_type": "code",
   "execution_count": 5,
   "metadata": {},
   "outputs": [],
   "source": [
    "#      (n, K, E, S, Q)\n",
    "Γ = ( (10, 3, 3, 1, 1), (12, 2, 2, 2, 1), (14, 2, 2, 2, 1), (16, 2, 3, 2, 2), (18, 2, 3, 2, 2), \n",
    "      (20, 3, 4, 1, 2), (25, 2, 2, 2, 3), (30, 2, 2, 2, 3), (40, 2, 4, 2, 4), (50, 3, 5, 2, 4),\n",
    "      (60, 3, 5, 2, 4), (70, 3, 5, 3, 4), (80, 3, 5, 3, 4), (90, 3, 5, 3, 4), (100, 3, 5, 4, 4)\n",
    "    )"
   ]
  },
  {
   "cell_type": "markdown",
   "metadata": {},
   "source": [
    "# Iterative code"
   ]
  },
  {
   "cell_type": "markdown",
   "metadata": {},
   "source": [
    "Now we iterate over the set of instances and compute lower and upper bounds based on the expressions from the paper."
   ]
  },
  {
   "cell_type": "markdown",
   "metadata": {},
   "source": [
    "<div class=\"alert alert-block alert-warning\">\n",
    "At last costs are fixed in advance, as they are not instance dependent:\n",
    "    \n",
    "* $\\kappa_0$ is the daily cost of operations,\n",
    "* $\\kappa_1$ is the cost of hiring a vehicle,\n",
    "* $\\kappa_2$ is the cost of hiring a pollster.\n",
    "</div>"
   ]
  },
  {
   "cell_type": "code",
   "execution_count": 6,
   "metadata": {},
   "outputs": [],
   "source": [
    "κ_0 = 200.0\n",
    "κ_1 = 100.0\n",
    "κ_2 = 40.0"
   ]
  },
  {
   "cell_type": "markdown",
   "metadata": {},
   "source": [
    "<div class=\"alert alert-block alert-success\">\n",
    "Using the generator created above, we build the basic index sets to build the model and read data.\n",
    "</div>\n",
    "<div class=\"alert alert-block alert-warning\">\n",
    "The read matrices are processed:\n",
    "    \n",
    "* $d$ captures pollstering times,\n",
    "* $t$ is the time that a pollster takes to walk among pairs of stores,\n",
    "* $\\tau$ is the time that vehicles take to move between pairs of stores,\n",
    "\n",
    "* $[\\rho_0,\\rho_1]$ is the time window for breaks,\n",
    "* $P$ is the length of the pause,\n",
    "* $\\beta$ is the time horizon limit.\n",
    "</div>\n",
    "</div>"
   ]
  },
  {
   "cell_type": "markdown",
   "metadata": {},
   "source": [
    "## Upper bounds\n",
    "\\begin{align}\n",
    "    &\\min_{m} \\quad \\kappa_0 m_S + \\kappa_1 m_K m_S + \\kappa_{2} m_E m_S\n",
    "    \\\\\n",
    "    \\text{subject to} \\qquad &\n",
    "    \\\\\n",
    "    & P + \\dfrac{ \\sum_{i\\in C_-} t_{i,i+n} }{m_E m_S} + \\dfrac{ \\left( \\sum \\max_{i} \\tau_{} + \\max_{j} \\tau \\right) }{ m_K m_S } \\leq B_{\\max},\n",
    "    \\\\\n",
    "    & m_K \\leq m_E \\leq Q m_K,\n",
    "    \\\\\n",
    "    & m = (m_S, m_K, m_E) \\in \\big[1:|S|\\big] \\times \\big[1:|K|\\big] \\times \\big[1:|E|\\big].\n",
    "\\end{align}\n",
    "\n",
    "## Lower bounds\n",
    "\\begin{align}\n",
    "    \\ell_E &= \\operatorname{arg max} \\left\\{ \\frac{1}{\\ell_e} \\sum_{i\\in C_-} t_{i,i+n} : \\, \\sum_{i\\in C_-} t_{i,i+n} \\leq (B_{\\max} - P) \\, \\ell_e \\wedge \\ell_e \\in \\big[1:|S||E|\\big] \\right\\},\n",
    "    \\\\\n",
    "    \\ell_S &= \\operatorname{arg min}  \\left\\{ \\ell_E \\in \\big[s:s |E| \\big] : \\, s \\in \\big[1:|S| \\big] \\right\\},\n",
    "    \\\\\n",
    "    \\ell_K &= \\min \\left\\{ \\ell_k : \\, \\ell_E \\leq Q \\ell_k \\wedge \\ell_k \\in \\big[\\ell_S:\\ell_S |K|\\big] \\right\\}.\n",
    "\\end{align}"
   ]
  },
  {
   "cell_type": "markdown",
   "metadata": {},
   "source": [
    "Now we find the bounds. For each quantity, we present the values $[\\ell,m]$ next to the given parameter of the instance. For example, the vehicle information will display $[\\ell_K, m_K](K)$."
   ]
  },
  {
   "cell_type": "code",
   "execution_count": 7,
   "metadata": {
    "code_folding": [
     3
    ]
   },
   "outputs": [
    {
     "name": "stdout",
     "output_type": "stream",
     "text": [
      " Stores | Vehicles | Pollsters |   Days   | Capacity \n",
      "   n    |    K     |     E     |    S     |    Q     \n",
      "–––––––––––––––––––––––––––––––––––––––––––––––––––––\n",
      "   10   | [2,3](3) | [2,3](3)  | [1,1](1) |    1     \n",
      "   12   | [2,2](2) | [2,2](2)  | [1,2](2) |    1     \n",
      "   14   | [2,2](2) | [2,2](2)  | [1,2](2) |    1     \n",
      "   16   | [1,2](2) | [2,3](3)  | [1,2](2) |    2     \n",
      "   18   | [1,2](2) | [2,3](3)  | [1,2](2) |    2     \n",
      "   20   | [1,3](3) | [2,4](4)  | [1,1](1) |    2     \n",
      "   25   | [1,2](2) | [2,2](2)  | [1,2](2) |    3     \n",
      "   30   | [1,2](2) | [2,2](2)  | [1,2](2) |    3     \n",
      "   40   | [1,2](2) | [3,4](4)  | [1,2](2) |    4     \n",
      "   50   | [2,3](3) | [6,5](5)  | [2,2](2) |    4     \n",
      "   60   | [1,2](3) | [3,3](5)  | [1,2](2) |    4     \n",
      "   70   | [1,2](3) | [3,3](5)  | [1,2](3) |    4     \n",
      "   80   | [1,2](3) | [4,4](5)  | [1,2](3) |    4     \n",
      "   90   | [1,2](3) | [4,4](5)  | [1,2](3) |    4     \n",
      "  100   | [1,2](3) | [4,5](5)  | [1,2](4) |    4     \n",
      "–––––––––––––––––––––––––––––––––––––––––––––––––––––\n"
     ]
    }
   ],
   "source": [
    "print('{0:^8}|{1:^10}|{2:^11}|{3:^10}|{4:^10}'.format('Stores','Vehicles','Pollsters','Days','Capacity'))\n",
    "print('{0:^8}|{1:^10}|{2:^11}|{3:^10}|{4:^10}'.format('n','K','E','S','Q'))\n",
    "print('–'*53)\n",
    "for γ in Γ:\n",
    "    n = γ[0];    E = arange(γ[2]);    K = arange(γ[1]);    Q = γ[-1];    S = arange(γ[3])\n",
    "    #print('*** Bounds for instance of size:', n, ' ***\\n')\n",
    "    \n",
    "    '''Reading data'''\n",
    "    Service  = S_Reader(n)\n",
    "    Poll     = P_Reader(n)\n",
    "    Vehicles = V_Reader(n)\n",
    "    Time     = T_Reader(n)\n",
    "    \n",
    "    '''Processing data'''\n",
    "    d = append(around(Service, 2), 0.0)\n",
    "    t = around(Poll, 2)\n",
    "    τ = around(Vehicles, 2)\n",
    "    ρ_0, ρ_1, P, β = Time.ravel()\n",
    "    \n",
    "    # Upper bounds\n",
    "    Feas = {(e+1,k+1,s+1): (d.sum() + (e+1)*(s+1)*P)/((e+1)*(s+1)) \n",
    "                + (τ.max(axis=0) + τ.max(axis=1)).sum()/((k+1)*(s+1)*(1)) for e in E for k in K for s in S}\n",
    "    Feas = {aa: κ_2 * aa[0] * aa[2] + κ_1 * aa[1] * aa[2] + κ_0 * aa[2] for aa,bb in Feas.items() if (bb < β) and (aa[1] <= aa[0] <= Q * (aa[1]))}\n",
    "    m_E, m_K, m_S = min(Feas, key=Feas.get)\n",
    "    \n",
    "\n",
    "    # Lower bounds\n",
    "    Λ   = [ np.append(a, arange(a.size + b + 1, (b+1)*a.size + 1) ) for b,a in enumerate([(E+1)+s for s in S]) ]\n",
    "    Λ_β = {λ: d.sum()/λ for λ in np.unique(np.concatenate(Λ)) if d.sum()/λ <= β - P}\n",
    "\n",
    "    ℓ_E, T_1 = max(Λ_β.items(), key=lambda x: x[1]) \n",
    "    ℓ_S = next(a for a,b in enumerate(Λ) if ℓ_E in b) + 1\n",
    "    ℓ_K = [k for k in arange(ℓ_S, K.size * ℓ_S + 1) if ℓ_E <= Q * k].pop(0)\n",
    "    #print('Lower bounds found: |S| >=', ℓ_S, '|K| >=',ℓ_K, '|E| >=', ℓ_E)\n",
    "    \n",
    "    #print('\\n\\n')\n",
    "    print('{0:^8}|{1:^10}|{2:^11}|{3:^10}|{4:^10}'.format(n,  '[{0:1d},{1:1d}]({2})'.format(ℓ_K, m_K, γ[1]),  \n",
    "                                             '[{0:1d},{1:1d}]({2})'.format(ℓ_E, m_E, γ[2]),  \n",
    "                                             '[{0:1d},{1:1d}]({2})'.format(ℓ_S, m_S, γ[3]),   γ[-1] ))\n",
    "    \n",
    "print('–'*53)"
   ]
  },
  {
   "cell_type": "markdown",
   "metadata": {},
   "source": [
    "Notice that we do not necessarily have that $\\ell_E \\leq m_E$. This is because the value of $\\ell_E$ bounds the cummulative number of pollsters across the time span. Instead, $m_E$ is independent of the number of days."
   ]
  },
  {
   "cell_type": "markdown",
   "metadata": {},
   "source": [
    "---"
   ]
  }
 ],
 "metadata": {
  "kernelspec": {
   "display_name": "A - Python 3",
   "language": "python",
   "name": "python3"
  },
  "language_info": {
   "codemirror_mode": {
    "name": "ipython",
    "version": 3
   },
   "file_extension": ".py",
   "mimetype": "text/x-python",
   "name": "python",
   "nbconvert_exporter": "python",
   "pygments_lexer": "ipython3",
   "version": "3.10.14"
  },
  "nbTranslate": {
   "displayLangs": [
    "*"
   ],
   "hotkey": "alt-t",
   "langInMainMenu": true,
   "sourceLang": "en",
   "targetLang": "fr",
   "useGoogleTranslate": true
  }
 },
 "nbformat": 4,
 "nbformat_minor": 2
}
