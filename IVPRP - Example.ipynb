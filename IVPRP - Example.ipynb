{
 "cells": [
  {
   "cell_type": "code",
   "execution_count": 1,
   "metadata": {
    "code_folding": [
     0
    ],
    "deletable": false,
    "editable": false,
    "run_control": {
     "frozen": true
    }
   },
   "outputs": [
    {
     "data": {
      "text/html": [
       "<style>.container { width:90% !important; }</style>"
      ],
      "text/plain": [
       "<IPython.core.display.HTML object>"
      ]
     },
     "metadata": {},
     "output_type": "display_data"
    },
    {
     "data": {
      "text/html": [
       "<style>.output_result { width:90% !important; }</style>"
      ],
      "text/plain": [
       "<IPython.core.display.HTML object>"
      ]
     },
     "metadata": {},
     "output_type": "display_data"
    },
    {
     "data": {
      "text/html": [
       " <style>\n",
       ".output_png {\n",
       "    display: table-cell;\n",
       "    text-align: center;\n",
       "    vertical-align: middle;\n",
       "}\n",
       "</style> "
      ],
      "text/plain": [
       "<IPython.core.display.HTML object>"
      ]
     },
     "metadata": {},
     "output_type": "display_data"
    }
   ],
   "source": [
    "# Window\n",
    "from IPython.display import display, HTML\n",
    "display(HTML(\"<style>.container { width:90% !important; }</style>\"))\n",
    "display(HTML(\"<style>.output_result { width:90% !important; }</style>\"))\n",
    "display(HTML(\"\"\" <style>\n",
    ".output_png {\n",
    "    display: table-cell;\n",
    "    text-align: center;\n",
    "    vertical-align: middle;\n",
    "}\n",
    "</style> \"\"\"))"
   ]
  },
  {
   "cell_type": "markdown",
   "metadata": {},
   "source": [
    "# Integrated model for routing pollsters and vehicles"
   ]
  },
  {
   "cell_type": "markdown",
   "metadata": {},
   "source": [
    "<div class=\"alert alert-block alert-info\">\n",
    "This notebook contains the code to build and solve the Integrated Vehicles and Polsters Routing Problem (IVPRP). \n",
    "</div>"
   ]
  },
  {
   "cell_type": "code",
   "execution_count": 1,
   "metadata": {},
   "outputs": [],
   "source": [
    "from gurobipy import *"
   ]
  },
  {
   "cell_type": "code",
   "execution_count": 2,
   "metadata": {},
   "outputs": [],
   "source": [
    "# Packages\n",
    "import numpy  as np\n",
    "import pandas as pd\n",
    "import time\n",
    "from collections import deque"
   ]
  },
  {
   "cell_type": "code",
   "execution_count": 3,
   "metadata": {},
   "outputs": [
    {
     "name": "stdout",
     "output_type": "stream",
     "text": [
      "NumPy: 1.26.4, Pandas: 2.2.3, Gurobi: (12, 0, 0)\n"
     ]
    }
   ],
   "source": [
    "print('NumPy: {0}, Pandas: {1}, Gurobi: {2}'.format(np.__version__, pd.__version__, gurobi.version() ))"
   ]
  },
  {
   "cell_type": "code",
   "execution_count": 4,
   "metadata": {},
   "outputs": [],
   "source": [
    "# Aliases\n",
    "append, arange, around, asarray, loadtxt, zeros = np.append, np.arange, np.around, np.asarray, np.loadtxt, np.zeros\n",
    "DataFrame, concat = pd.DataFrame, pd.concat"
   ]
  },
  {
   "cell_type": "code",
   "execution_count": 5,
   "metadata": {},
   "outputs": [],
   "source": [
    "# General functions for writing\n",
    "def Write(df,nom):  return DataFrame(df).to_csv( nom +'.txt', header=None, index=None, sep=' ', mode='a')"
   ]
  },
  {
   "cell_type": "markdown",
   "metadata": {},
   "source": [
    "<div class=\"alert alert-block alert-warning\">\n",
    "First, basic data is registered:\n",
    "    \n",
    "* $n$ is the number of stores to be visited,\n",
    "* $E$ is the set of available pollsters,\n",
    "* $K$ is the set of available vehicles,\n",
    "* $Q$ is the vehicle's capacity,\n",
    "* $S$ is the number of days.\n",
    "</div>"
   ]
  },
  {
   "cell_type": "code",
   "execution_count": 6,
   "metadata": {},
   "outputs": [],
   "source": [
    "n = 4\n",
    "E = arange(2);    K = arange(2);    Q = 2;    S = arange(2)"
   ]
  },
  {
   "cell_type": "markdown",
   "metadata": {},
   "source": [
    "<div class=\"alert alert-block alert-warning\">\n",
    "\n",
    "* $[\\rho_0,\\rho_1]$ is the time window for breaks,\n",
    "* $P$ is the length of the pause,\n",
    "* $\\beta$ is the time horizon limit,\n",
    "    \n",
    "* $d$ captures pollstering times,\n",
    "* $t$ is the time that a pollster takes to walk among pairs of stores,\n",
    "* $\\tau$ is the time that vehicles take to move between pairs of stores.\n",
    "</div>"
   ]
  },
  {
   "cell_type": "code",
   "execution_count": 7,
   "metadata": {},
   "outputs": [],
   "source": [
    "ρ_0, ρ_1, P, β = [ 20., 30.,  1., 30.]"
   ]
  },
  {
   "cell_type": "code",
   "execution_count": 8,
   "metadata": {
    "code_folding": []
   },
   "outputs": [],
   "source": [
    "d = asarray([ 0., 1., 17., 1., 1.,  0.])\n",
    "t = asarray([[ 0.,  2.,  3., 14.],\n",
    "             [ 2.,  0.,  8., 20.],\n",
    "             [ 3.,  8.,  0., 15.],\n",
    "             [15., 20., 15.,  0.]])\n",
    "τ = asarray([[0., 1., 4., 6.,  2. ],\n",
    "             [2., 0., 1., 2., 10. ],\n",
    "             [1., 1., 0., 4., 15. ],\n",
    "             [7., 2., 5., 0.,  9. ],\n",
    "             [1.,15.,11., 9.,  0. ]])"
   ]
  },
  {
   "cell_type": "code",
   "execution_count": 9,
   "metadata": {},
   "outputs": [
    {
     "name": "stdout",
     "output_type": "stream",
     "text": [
      "Pollstering time\n"
     ]
    },
    {
     "data": {
      "text/html": [
       "<div>\n",
       "<style scoped>\n",
       "    .dataframe tbody tr th:only-of-type {\n",
       "        vertical-align: middle;\n",
       "    }\n",
       "\n",
       "    .dataframe tbody tr th {\n",
       "        vertical-align: top;\n",
       "    }\n",
       "\n",
       "    .dataframe thead th {\n",
       "        text-align: right;\n",
       "    }\n",
       "</style>\n",
       "<table border=\"1\" class=\"dataframe\">\n",
       "  <thead>\n",
       "    <tr style=\"text-align: right;\">\n",
       "      <th></th>\n",
       "      <th>1</th>\n",
       "      <th>2</th>\n",
       "      <th>3</th>\n",
       "      <th>4</th>\n",
       "    </tr>\n",
       "  </thead>\n",
       "  <tbody>\n",
       "    <tr>\n",
       "      <th>0</th>\n",
       "      <td>1</td>\n",
       "      <td>17</td>\n",
       "      <td>1</td>\n",
       "      <td>1</td>\n",
       "    </tr>\n",
       "  </tbody>\n",
       "</table>\n",
       "</div>"
      ],
      "text/plain": [
       "   1   2  3  4\n",
       "0  1  17  1  1"
      ]
     },
     "metadata": {},
     "output_type": "display_data"
    },
    {
     "name": "stdout",
     "output_type": "stream",
     "text": [
      "\n",
      "Walking time\n"
     ]
    },
    {
     "data": {
      "text/html": [
       "<div>\n",
       "<style scoped>\n",
       "    .dataframe tbody tr th:only-of-type {\n",
       "        vertical-align: middle;\n",
       "    }\n",
       "\n",
       "    .dataframe tbody tr th {\n",
       "        vertical-align: top;\n",
       "    }\n",
       "\n",
       "    .dataframe thead th {\n",
       "        text-align: right;\n",
       "    }\n",
       "</style>\n",
       "<table border=\"1\" class=\"dataframe\">\n",
       "  <thead>\n",
       "    <tr style=\"text-align: right;\">\n",
       "      <th></th>\n",
       "      <th>1</th>\n",
       "      <th>2</th>\n",
       "      <th>3</th>\n",
       "      <th>4</th>\n",
       "    </tr>\n",
       "  </thead>\n",
       "  <tbody>\n",
       "    <tr>\n",
       "      <th>1</th>\n",
       "      <td>0</td>\n",
       "      <td>2</td>\n",
       "      <td>3</td>\n",
       "      <td>14</td>\n",
       "    </tr>\n",
       "    <tr>\n",
       "      <th>2</th>\n",
       "      <td>2</td>\n",
       "      <td>0</td>\n",
       "      <td>8</td>\n",
       "      <td>20</td>\n",
       "    </tr>\n",
       "    <tr>\n",
       "      <th>3</th>\n",
       "      <td>3</td>\n",
       "      <td>8</td>\n",
       "      <td>0</td>\n",
       "      <td>15</td>\n",
       "    </tr>\n",
       "    <tr>\n",
       "      <th>4</th>\n",
       "      <td>15</td>\n",
       "      <td>20</td>\n",
       "      <td>15</td>\n",
       "      <td>0</td>\n",
       "    </tr>\n",
       "  </tbody>\n",
       "</table>\n",
       "</div>"
      ],
      "text/plain": [
       "    1   2   3   4\n",
       "1   0   2   3  14\n",
       "2   2   0   8  20\n",
       "3   3   8   0  15\n",
       "4  15  20  15   0"
      ]
     },
     "metadata": {},
     "output_type": "display_data"
    },
    {
     "name": "stdout",
     "output_type": "stream",
     "text": [
      "\n",
      "Vehicle time\n"
     ]
    },
    {
     "data": {
      "text/html": [
       "<div>\n",
       "<style scoped>\n",
       "    .dataframe tbody tr th:only-of-type {\n",
       "        vertical-align: middle;\n",
       "    }\n",
       "\n",
       "    .dataframe tbody tr th {\n",
       "        vertical-align: top;\n",
       "    }\n",
       "\n",
       "    .dataframe thead th {\n",
       "        text-align: right;\n",
       "    }\n",
       "</style>\n",
       "<table border=\"1\" class=\"dataframe\">\n",
       "  <thead>\n",
       "    <tr style=\"text-align: right;\">\n",
       "      <th></th>\n",
       "      <th>0</th>\n",
       "      <th>1</th>\n",
       "      <th>2</th>\n",
       "      <th>3</th>\n",
       "      <th>4</th>\n",
       "    </tr>\n",
       "  </thead>\n",
       "  <tbody>\n",
       "    <tr>\n",
       "      <th>0</th>\n",
       "      <td>0</td>\n",
       "      <td>1</td>\n",
       "      <td>4</td>\n",
       "      <td>6</td>\n",
       "      <td>2</td>\n",
       "    </tr>\n",
       "    <tr>\n",
       "      <th>1</th>\n",
       "      <td>2</td>\n",
       "      <td>0</td>\n",
       "      <td>1</td>\n",
       "      <td>2</td>\n",
       "      <td>10</td>\n",
       "    </tr>\n",
       "    <tr>\n",
       "      <th>2</th>\n",
       "      <td>1</td>\n",
       "      <td>1</td>\n",
       "      <td>0</td>\n",
       "      <td>4</td>\n",
       "      <td>15</td>\n",
       "    </tr>\n",
       "    <tr>\n",
       "      <th>3</th>\n",
       "      <td>7</td>\n",
       "      <td>2</td>\n",
       "      <td>5</td>\n",
       "      <td>0</td>\n",
       "      <td>9</td>\n",
       "    </tr>\n",
       "    <tr>\n",
       "      <th>4</th>\n",
       "      <td>1</td>\n",
       "      <td>15</td>\n",
       "      <td>11</td>\n",
       "      <td>9</td>\n",
       "      <td>0</td>\n",
       "    </tr>\n",
       "  </tbody>\n",
       "</table>\n",
       "</div>"
      ],
      "text/plain": [
       "   0   1   2  3   4\n",
       "0  0   1   4  6   2\n",
       "1  2   0   1  2  10\n",
       "2  1   1   0  4  15\n",
       "3  7   2   5  0   9\n",
       "4  1  15  11  9   0"
      ]
     },
     "metadata": {},
     "output_type": "display_data"
    }
   ],
   "source": [
    "print('Pollstering time')\n",
    "df = DataFrame(DataFrame(d[1:-1].reshape(1,-1)));    df.columns = arange(1,n+1)\n",
    "display(df.astype(int))\n",
    "\n",
    "df = DataFrame(t);    df.index = arange(1,n+1);    df.columns = arange(1,n+1)\n",
    "print('\\nWalking time')\n",
    "display(df.astype(int))\n",
    "\n",
    "print('\\nVehicle time')\n",
    "display(DataFrame(τ).astype(int))"
   ]
  },
  {
   "cell_type": "markdown",
   "metadata": {},
   "source": [
    "We can plot the nodes in a way that is proportional to the given distances:"
   ]
  },
  {
   "cell_type": "code",
   "execution_count": 10,
   "metadata": {},
   "outputs": [],
   "source": [
    "import matplotlib.pyplot as plt\n",
    "import networkx as nx\n",
    "from sklearn.manifold import MDS"
   ]
  },
  {
   "cell_type": "code",
   "execution_count": 11,
   "metadata": {},
   "outputs": [],
   "source": [
    "# Compute positions using Multidimensional Scaling (MDS)\n",
    "mds = MDS(n_components=2, dissimilarity=\"precomputed\", random_state=42)\n",
    "positions = mds.fit_transform((τ + τ.T)/2)"
   ]
  },
  {
   "cell_type": "code",
   "execution_count": 12,
   "metadata": {
    "code_folding": [
     0
    ]
   },
   "outputs": [
    {
     "data": {
      "image/png": "[encoded data removed]",
      "text/plain": [
       "<Figure size 600x300 with 1 Axes>"
      ]
     },
     "metadata": {},
     "output_type": "display_data"
    }
   ],
   "source": [
    "# Create a complete graph\n",
    "G_plot = nx.complete_graph(n+1)\n",
    "# Draw the graph\n",
    "plt.figure(figsize=(6,3))\n",
    "nx.draw(G_plot, pos={i: positions[i] for i in range(n+1)}, with_labels=True, node_color='xkcd:black', edge_color='xkcd:plum', node_size=500, font_color='xkcd:off white')\n",
    "plt.title(\"Graph layout mirroring distances\")\n",
    "plt.show()"
   ]
  },
  {
   "cell_type": "markdown",
   "metadata": {},
   "source": [
    "<div class=\"alert alert-block alert-warning\">\n",
    "At last costs are fixed:\n",
    "    \n",
    "* $\\kappa_0$ is the daily cost of operations,\n",
    "* $\\kappa_1$ is the cost of hiring a vehicle,\n",
    "* $\\kappa_2$ is the cost of hiring a pollster.\n",
    "</div>"
   ]
  },
  {
   "cell_type": "code",
   "execution_count": 13,
   "metadata": {},
   "outputs": [],
   "source": [
    "κ_0 = 300.0\n",
    "κ_1 = 100.0\n",
    "κ_2 = 80.0"
   ]
  },
  {
   "cell_type": "markdown",
   "metadata": {},
   "source": [
    "## Multigraph"
   ]
  },
  {
   "cell_type": "markdown",
   "metadata": {},
   "source": [
    "<div class=\"alert alert-block alert-warning\">\n",
    "The networks for vehicles and pollsters is defined.\n",
    "</div>"
   ]
  },
  {
   "cell_type": "code",
   "execution_count": 14,
   "metadata": {},
   "outputs": [],
   "source": [
    "m = 2*n\n",
    "\n",
    "# Domain for vehicles.                         Graph size:    (2*n) * (n + 1) + (2*n-1) * n = 4*(n**2) + n\n",
    "dom_v  = [ (0,j)   for j in range(1,m+1) ] \n",
    "dom_v += [ (j,m+1) for j in range(1,m+1) ]\n",
    "dom_v += [ (i,j)   for i in range(1,m+1) for j in range(1,m+1) if j not in [i,i-n]]\n",
    "\n",
    "# Domain for pollsters.                        Graph size:    (n-1)**2 + (n-1) + n = n**2\n",
    "dom_e  = [ (i,i+n) for i in range(  1,n+1) ]\n",
    "dom_e += [ (i,j)   for i in range(1+n,m+1) for j in range(1,n+1) if j!=i-n ]"
   ]
  },
  {
   "cell_type": "code",
   "execution_count": 15,
   "metadata": {},
   "outputs": [],
   "source": [
    "C_minus, C_plus, C_0, C_m, C = range(1,n+1), range(n+1,2*n+1),  range(0,n+1), range(1,2*n+2),  range(1,2*n+1)"
   ]
  },
  {
   "cell_type": "markdown",
   "metadata": {},
   "source": [
    "## Integer Programming Model"
   ]
  },
  {
   "cell_type": "code",
   "execution_count": 16,
   "metadata": {},
   "outputs": [
    {
     "name": "stdout",
     "output_type": "stream",
     "text": [
      "Set parameter Username\n",
      "Academic license - for non-commercial use only - expires 2025-11-19\n"
     ]
    }
   ],
   "source": [
    "mo = Model()\n",
    "x, y, z, b, f, w, B, u = {}, {}, {}, {}, {}, {}, {}, {}"
   ]
  },
  {
   "cell_type": "markdown",
   "metadata": {},
   "source": [
    "### Variables and Objective"
   ]
  },
  {
   "cell_type": "code",
   "execution_count": 17,
   "metadata": {},
   "outputs": [],
   "source": [
    "# Pollster variables\n",
    "## Nodes\n",
    "b = mo.addVars( C_minus, E, S, vtype = 'B', name ='b')             # **begining**    n * |S|*|E|\n",
    "f = mo.addVars( C_plus,  E, S, vtype = 'B', name ='f')             # **ending**      n * |S|*|E|\n",
    "w = mo.addVars( C_minus, E, S, vtype = 'B', name ='w')             # **break**       n * |S|*|E|\n",
    "## Arcs\n",
    "x = mo.addVars( dom_e, E, S, vtype = 'B', name = 'x')              # **Walking paths**     n^2 * |S|*|E|\n",
    "\n",
    "# Vehicle variables\n",
    "y = mo.addVars( dom_v, K, S, vtype = 'B', name = 'y')               # **Vehicle-paths**     (4*n^2+n)*|K|*|S|\n",
    "z = mo.addVars( dom_v, E, S, vtype = 'B', name = 'z')               # **t-paths**           (4*n^2+n)*|E|*|S|\n",
    "\n",
    "# Time and days variables\n",
    "B = mo.addVars( C, vtype = 'C', name = 'B', ub  = β )               # **In-Out timing**     2*n\n",
    "u = mo.addVars( S, vtype = 'B', name = 'u', obj = κ_0)              # **Day**               |S|\n",
    "\n",
    "deque( (v.setAttr('obj', κ_1) for v in y.select(0,'*')), 0)\n",
    "deque( (v.setAttr('obj', κ_2) for v in z.select(0,'*')), 0)\n",
    "mo.setAttr('ModelSense', GRB.MINIMIZE)\n",
    "mo.update()"
   ]
  },
  {
   "cell_type": "markdown",
   "metadata": {},
   "source": [
    "### Constraints"
   ]
  },
  {
   "cell_type": "markdown",
   "metadata": {},
   "source": [
    "<div class=\"alert alert-block alert-warning\">\n",
    "Pollster routing\n",
    "</div>"
   ]
  },
  {
   "cell_type": "code",
   "execution_count": 18,
   "metadata": {},
   "outputs": [],
   "source": [
    "# x & z vars interaction\n",
    "# 1a - Exclusive attention:\n",
    "mo.addConstrs( (x.sum(i,i+n,'*') == 1 for i in C_minus), name='R-1a');\n",
    "\n",
    "# 1b,c - Flow conservation:\n",
    "mo.addConstrs( (x.sum('*',i,e,s) == x[i,i+n,e,s] - b[i,e,s] for i in C_minus for s in S for e in E), name='R-1b')\n",
    "mo.addConstrs( (x.sum(i,'*',e,s) == x[i-n,i,e,s] - f[i,e,s] for i in C_plus for s in S for e in E), name='R-1c')\n",
    "\n",
    "# 1d,e,f,g — Terminal pick-up and delivery:\n",
    "mo.addConstrs( (z.sum('*',i,e,s) <= 1.0 - x[i,i+n,e,s] + b[i,e,s] for i in C_minus for s in S for e in E), name='R-1d')\n",
    "mo.addConstrs( (z.sum(i,'*',e,s) <= 1.0 - x[i-n,i,e,s] + f[i,e,s] for i in C_plus for s in S for e in E), name='R-1e')\n",
    "\n",
    "mo.addConstrs( (z.sum('*',i,e,s) - z.sum(i,'*',e,s) == b[i,e,s] for i in C_minus for s in S for e in E), name='R-1f')\n",
    "mo.addConstrs( (z.sum('*',i,e,s) - z.sum(i,'*',e,s) == -f[i,e,s] for i in C_plus for s in S for e in E), name='R-1g')\n",
    "\n",
    "# 1h – One trip per day for each pollster\n",
    "mo.addConstrs( (z.sum(0,'*',e,s) <= u[s] for s in S for e in E), name='R-1h');"
   ]
  },
  {
   "cell_type": "markdown",
   "metadata": {},
   "source": [
    "<div class=\"alert alert-block alert-warning\">\n",
    "Vehicle routing\n",
    "</div>"
   ]
  },
  {
   "cell_type": "code",
   "execution_count": 19,
   "metadata": {},
   "outputs": [],
   "source": [
    "# y & z vars interaction\n",
    "# 2a,b - Terminal arrivals:\n",
    "mo.addConstrs( (y.sum(i,'*','*',s) == b.sum(i,'*',s) for i in C_minus for s in S), name='R-2a')\n",
    "mo.addConstrs( (y.sum(i,'*','*',s) == f.sum(i,'*',s) for i in C_plus for s in S), name='R-2b')\n",
    "# 2c,d – Flow conservation:\n",
    "mo.addConstrs( (y.sum('*',i,k,s) == y.sum(i,'*',k,s) for i in C for k in K for s in S ), name='R-2c')\n",
    "mo.addConstrs( (y.sum('*',2*n+1,k,s) == y.sum(0,'*',k,s) for k in K for s in S ), name='R-2d')\n",
    "# 2e – One trip per day for each vehicle:\n",
    "mo.addConstrs( (y.sum(0,'*',k,s) <= u[s] for k in K for s in S ), name='R-2e')\n",
    "# 2f – Capacity load:\n",
    "mo.addConstrs( (z.sum(i,j,'*',s) <= Q*y.sum(i,j,'*',s) for (i,j) in dom_v for s in S ), name='R-2f');"
   ]
  },
  {
   "cell_type": "markdown",
   "metadata": {},
   "source": [
    "<div class=\"alert alert-block alert-warning\">\n",
    "Time management and shift lengths\n",
    "</div>"
   ]
  },
  {
   "cell_type": "code",
   "execution_count": 20,
   "metadata": {},
   "outputs": [],
   "source": [
    "M = 1e+4"
   ]
  },
  {
   "cell_type": "code",
   "execution_count": 21,
   "metadata": {},
   "outputs": [],
   "source": [
    "# B vars enforce connected paths\n",
    "# 3a,b – Arriving marker:\n",
    "mo.addConstrs( (B[i+n] - B[i] - d[i] >= P*w.sum(i,'*') for i in C_minus ), name='R-3a')\n",
    "mo.addConstrs( (B[j] - B[i+n] - t[i-1,j-1] >= -M*(1.0 - x.sum(i+n,j,'*')) \n",
    "               for i in C_minus for j in C_minus if j!=i ), name='R-3b')\n",
    "## Trivial\n",
    "mo.addConstrs( (B[i+n] - B[i] >= 0.0 for i in C_minus ), name='R-3-o')\n",
    "# 3c — Arrival after transport:\n",
    "mo.addConstrs( \n",
    "   (B[j] - B[i] + M*(1.0 - y.sum(i,j,'*')) >= τ[i % (n+1) + (1 if i > n else 0), j % (n+1) + (1 if j > n else 0)] \n",
    "     for (i,j) in dom_v if i!=0 and j!=2*n+1 ), name='R-3c')\n",
    "# 3d — First transportation:\n",
    "mo.addConstrs( (B[i] >= τ[0, i % (n+1) + (1 if i > n else 0)] - β*(1.0 - y.sum(0,i,'*','*')) \n",
    "               for i in C ), name='R-3d')\n",
    "# 3e — Arrival marks:\n",
    "mo.addConstrs( ( β - B[i] >= τ[i % (n+1) + (1 if i > n else 0),0] - M*(1.0 - y.sum(i,2*n+1,'*','*'))\n",
    "               for i in C ), name='R-3e');"
   ]
  },
  {
   "cell_type": "markdown",
   "metadata": {},
   "source": [
    "<div class=\"alert alert-block alert-warning\">\n",
    "Pollster breaks\n",
    "</div>"
   ]
  },
  {
   "cell_type": "code",
   "execution_count": 22,
   "metadata": {},
   "outputs": [],
   "source": [
    "# w vars interact\n",
    "# 4a — Breaks TW:\n",
    "mo.addConstrs( (ρ_0*w.sum(i,'*') - B[i] - d[i] <= 0.0 for i in C_minus ), name='R-4a0')\n",
    "mo.addConstrs( (B[i] + d[i] - ρ_1 - β*(1.0 - w.sum(i,'*')) <= 0.0 for i in C_minus ), name='R-4a1')\n",
    "# 4b – One break per pollster:\n",
    "mo.addConstrs( (w[i,e,s] <= x[i,i+n,e,s] for i in C_minus for e in E for s in S ), name='R-4b')\n",
    "# 5c — Mandatory breaks:\n",
    "mo.addConstrs( (w.sum('*',e,s) == z.sum(0,'*',e,s) for e in E for s in S ), name='R-4b')\n",
    "\n",
    "mo.update()"
   ]
  },
  {
   "cell_type": "markdown",
   "metadata": {},
   "source": [
    "<div class=\"alert alert-block alert-warning\">\n",
    "Symmetry inequalities\n",
    "</div>"
   ]
  },
  {
   "cell_type": "code",
   "execution_count": 23,
   "metadata": {
    "code_folding": [
     0
    ]
   },
   "outputs": [],
   "source": [
    "# More\n",
    "mo.addConstr( z.sum(0,'*',0,0) == 1 , name='R-5a')\n",
    "mo.addConstr( y.sum(0,'*',0,0) == 1 , name='R-5d')\n",
    "\n",
    "if E.size > 1:\n",
    "    mo.addConstrs( (z.sum(0,'*',e,s) <= z.sum(0,'*',e-1,s) for e in E for s in S if e > 0 ), name='R-5b');\n",
    "    \n",
    "    if S.size > 1:\n",
    "        mo.addConstrs( \n",
    "            (b.sum('*',e,s) <= n - quicksum(b[i,e-1,r] for i in C_minus for r in S if r<=s-1) \n",
    "             for e in E for s in S if e > 0 if s > 0 ), name='R-5k')\n",
    "        mo.addConstrs( \n",
    "            (f.sum('*',e,s) <= n - quicksum(f[i,e-1,r] for i in C_plus for r in S if r<=s-1) \n",
    "             for e in E for s in S if e > 0 if s > 0 ), name='R-5l');\n",
    "        \n",
    "if S.size > 1:\n",
    "    mo.addConstrs( (z.sum(0,'*',e,s) <= z.sum(0,'*',e,s-1) for e in E for s in S if s > 0 ), name='R-5c')\n",
    "    mo.addConstrs( (y.sum(0,'*',k,s) <= y.sum(0,'*',k,s-1) for k in K for s in S if s > 0 ), name='R-5f')\n",
    "    mo.addConstrs( (b.sum(i,'*',s) <= 1.0 - b.sum(i,'*',s-1) for i in C_minus for s in S if s > 0 ), name='R-5g')\n",
    "    mo.addConstrs( (f.sum(i,'*',s) <= 1.0 - f.sum(i,'*',s-1) for i in C_plus  for s in S if s > 0 ), name='R-5h')\n",
    "    mo.addConstrs( (x.sum('*',i,'*',s) <= 1.0 - b.sum(i,'*',s-1) for i in C_minus for s in S if s > 0 ), name='R-5i')\n",
    "    mo.addConstrs( (x.sum(i,'*','*',s) <= 1.0 - f.sum(i,'*',s-1) for i in C_plus  for s in S if s > 0 ), name='R-5j')\n",
    "    mo.addConstrs( (u[s] <= u[s-1] for s in S if s > 0), name='R-5m');\n",
    "    \n",
    "if K.size > 1:\n",
    "    mo.addConstrs( (y.sum(0,'*',k,s) <= y.sum(0,'*',k-1,s) for k in K for s in S if k > 0 ), name='R-5e');"
   ]
  },
  {
   "cell_type": "markdown",
   "metadata": {},
   "source": [
    "## Optimization"
   ]
  },
  {
   "cell_type": "code",
   "execution_count": 24,
   "metadata": {
    "scrolled": false
   },
   "outputs": [
    {
     "name": "stdout",
     "output_type": "stream",
     "text": [
      "Set parameter TimeLimit to value 3600\n",
      "Gurobi Optimizer version 12.0.0 build v12.0.0rc1 (mac64[arm] - Darwin 24.2.0 24C101)\n",
      "\n",
      "CPU model: Apple M1\n",
      "Thread count: 8 physical cores, 8 logical processors, using up to 8 threads\n",
      "\n",
      "Non-default parameters:\n",
      "TimeLimit  3600\n",
      "\n",
      "Optimize a model with 441 rows, 666 columns and 3282 nonzeros\n",
      "Model fingerprint: 0xcb87e789\n",
      "Variable types: 8 continuous, 658 integer (658 binary)\n",
      "Coefficient statistics:\n",
      "  Matrix range     [1e+00, 1e+04]\n",
      "  Objective range  [8e+01, 3e+02]\n",
      "  Bounds range     [1e+00, 3e+01]\n",
      "  RHS range        [1e+00, 1e+04]\n",
      "Presolve removed 27 rows and 41 columns\n",
      "Presolve time: 0.02s\n",
      "Presolved: 414 rows, 625 columns, 2950 nonzeros\n",
      "Variable types: 8 continuous, 617 integer (617 binary)\n",
      "\n",
      "Root relaxation: objective 4.800000e+02, 233 iterations, 0.01 seconds (0.00 work units)\n",
      "\n",
      "    Nodes    |    Current Node    |     Objective Bounds      |     Work\n",
      " Expl Unexpl |  Obj  Depth IntInf | Incumbent    BestBd   Gap | It/Node Time\n",
      "\n",
      "     0     0  480.00000    0   12          -  480.00000      -     -    0s\n",
      "H    0     0                     660.0000000  480.00000  27.3%     -    0s\n",
      "     0     0  480.00000    0   74  660.00000  480.00000  27.3%     -    0s\n",
      "     0     0  480.00000    0   13  660.00000  480.00000  27.3%     -    0s\n",
      "     0     0  480.00000    0    6  660.00000  480.00000  27.3%     -    0s\n",
      "     0     0  480.00000    0    6  660.00000  480.00000  27.3%     -    0s\n",
      "     0     0  480.00000    0    6  660.00000  480.00000  27.3%     -    0s\n",
      "     0     0  480.00000    0    4  660.00000  480.00000  27.3%     -    0s\n",
      "     0     0  480.00000    0   15  660.00000  480.00000  27.3%     -    0s\n",
      "     0     0  480.00000    0    4  660.00000  480.00000  27.3%     -    0s\n",
      "     0     0  480.00000    0   18  660.00000  480.00000  27.3%     -    0s\n",
      "     0     0  480.00000    0    9  660.00000  480.00000  27.3%     -    0s\n",
      "     0     0  480.00000    0    9  660.00000  480.00000  27.3%     -    0s\n",
      "     0     0  480.00000    0    4  660.00000  480.00000  27.3%     -    0s\n",
      "     0     0  480.00000    0   23  660.00000  480.00000  27.3%     -    0s\n",
      "     0     0  480.00000    0   23  660.00000  480.00000  27.3%     -    0s\n",
      "H    0     0                     560.0000000  480.00000  14.3%     -    0s\n",
      "     0     0  480.00000    0   13  560.00000  480.00000  14.3%     -    0s\n",
      "     0     0  480.00000    0    8  560.00000  480.00000  14.3%     -    0s\n",
      "     0     0  480.00000    0   10  560.00000  480.00000  14.3%     -    0s\n",
      "     0     0  480.00000    0   10  560.00000  480.00000  14.3%     -    0s\n",
      "     0     0  480.00000    0    6  560.00000  480.00000  14.3%     -    0s\n",
      "     0     0  480.00000    0   15  560.00000  480.00000  14.3%     -    0s\n",
      "     0     0  480.00000    0    4  560.00000  480.00000  14.3%     -    0s\n",
      "     0     2  480.00000    0    4  560.00000  480.00000  14.3%     -    0s\n",
      "\n",
      "Cutting planes:\n",
      "  Learned: 8\n",
      "  Gomory: 2\n",
      "  Cover: 165\n",
      "  Implied bound: 111\n",
      "  Clique: 2\n",
      "  MIR: 7\n",
      "  GUB cover: 2\n",
      "  Inf proof: 8\n",
      "  Zero half: 2\n",
      "  RLT: 22\n",
      "  Relax-and-lift: 3\n",
      "\n",
      "Explored 2440 nodes (92694 simplex iterations) in 1.07 seconds (1.15 work units)\n",
      "Thread count was 8 (of 8 available processors)\n",
      "\n",
      "Solution count 2: 560 660 \n",
      "\n",
      "Optimal solution found (tolerance 1.00e-04)\n",
      "Best objective 5.600000000000e+02, best bound 5.600000000000e+02, gap 0.0000%\n"
     ]
    }
   ],
   "source": [
    "mo.Params.TimeLimit = 3600\n",
    "mo.optimize()"
   ]
  },
  {
   "cell_type": "code",
   "execution_count": 25,
   "metadata": {},
   "outputs": [],
   "source": [
    "#mo.write('Example_Instance_'+ str(n) +'.lp')"
   ]
  },
  {
   "cell_type": "markdown",
   "metadata": {},
   "source": [
    "## Results"
   ]
  },
  {
   "cell_type": "markdown",
   "metadata": {},
   "source": [
    "<div class=\"alert alert-block alert-warning\">\n",
    "We identify variables that have assigned a non-zero value.\n",
    "</div>"
   ]
  },
  {
   "cell_type": "code",
   "execution_count": 26,
   "metadata": {},
   "outputs": [],
   "source": [
    "X = tupledict({nn: v for nn, v in x.items() if v.x > 0.0})\n",
    "Y = tupledict({nn: v for nn, v in y.items() if v.x > 0.0})\n",
    "Z = tupledict({nn: v for nn, v in z.items() if v.x > 0.0})\n",
    "\n",
    "A = tupledict({nn: v for nn, v in b.items() if v.x > 0.0})\n",
    "F = tupledict({nn: v for nn, v in f.items() if v.x > 0.0})\n",
    "W = tupledict({nn: v for nn, v in w.items() if v.x > 0.0})\n",
    "U = tupledict({nn: v for nn, v in u.items() if v.x > 0.0})"
   ]
  },
  {
   "cell_type": "markdown",
   "metadata": {},
   "source": [
    "The last dictionary, `U`, contains which days are active. As a result, we can store only those days. Moreover, this also simplifies iterations. A similar treatment can be done with `E` and `K`."
   ]
  },
  {
   "cell_type": "code",
   "execution_count": 27,
   "metadata": {},
   "outputs": [],
   "source": [
    "Active_Days      = U.keys()\n",
    "Active_Pollsters = {v[1] for v in A.keys()}\n",
    "Active_Vehicles  = {v[2] for v in Y.keys()}"
   ]
  },
  {
   "cell_type": "code",
   "execution_count": 28,
   "metadata": {},
   "outputs": [
    {
     "name": "stdout",
     "output_type": "stream",
     "text": [
      "A solution was found with 2 pollsters, 1 vehicles, and 1 days.\n"
     ]
    }
   ],
   "source": [
    "print('A solution was found with',len(Active_Pollsters),'pollsters,',len(Active_Vehicles),'vehicles, and',len(Active_Days),'days.')"
   ]
  },
  {
   "cell_type": "markdown",
   "metadata": {},
   "source": [
    "We can display the results:"
   ]
  },
  {
   "cell_type": "code",
   "execution_count": 29,
   "metadata": {
    "code_folding": [
     1
    ]
   },
   "outputs": [],
   "source": [
    "E_Routes = {}\n",
    "for a, b, c in [a[:3] for a in X.keys()]:\n",
    "    if c not in E_Routes:\n",
    "        E_Routes[c] = []\n",
    "    E_Routes[c].append((a, b))"
   ]
  },
  {
   "cell_type": "code",
   "execution_count": 30,
   "metadata": {
    "code_folding": [
     0
    ]
   },
   "outputs": [
    {
     "name": "stdout",
     "output_type": "stream",
     "text": [
      "Pollster 0: \n",
      "   Route 0:  1 → 5 → 2 → 6\n",
      "Pollster 1: \n",
      "   Route 0:  3 → 7\n",
      "   Route 1:  4 → 8\n"
     ]
    }
   ],
   "source": [
    "# Represent pedestrian paths\n",
    "for pollster in E_Routes.keys():\n",
    "    print('Pollster {0}: '.format(pollster))\n",
    "    first_elements, second_elements = {a for a, _ in E_Routes[pollster]}, {b for _, b in E_Routes[pollster]}\n",
    "    starting_nodes = list(first_elements - second_elements)\n",
    "\n",
    "    for k in range(len(starting_nodes)):\n",
    "        node = starting_nodes[k]\n",
    "        print('   Route {0}: '.format(k), node,'→ ', end ='')\n",
    "        for a in range(len(E_Routes[pollster])):\n",
    "            find_tuple = next((i for i in E_Routes[pollster] if i[0] == node), None)\n",
    "            node = find_tuple[1]\n",
    "            print(node,'→ ', end ='') if (node in first_elements) else print(node)\n",
    "            if (node not in first_elements):\n",
    "                break"
   ]
  },
  {
   "cell_type": "code",
   "execution_count": 31,
   "metadata": {
    "code_folding": [
     4
    ]
   },
   "outputs": [
    {
     "name": "stdout",
     "output_type": "stream",
     "text": [
      "0 → 1 → 4 → 8 → 3 → 7 → 6 → 9\n"
     ]
    }
   ],
   "source": [
    "V_Visits = [a[:2] for a in Y.keys()]\n",
    "# Represent vehicle path\n",
    "node = 0\n",
    "print(node,'→ ', end ='')\n",
    "for a in range(len(V_Visits)):\n",
    "    find_tuple = next((i for i in V_Visits if i[0] == node), None)\n",
    "    node = find_tuple[1]\n",
    "    print(node,'→ ', end ='') if node < 2*n+1 else print(node)"
   ]
  },
  {
   "cell_type": "code",
   "execution_count": 32,
   "metadata": {},
   "outputs": [
    {
     "name": "stdout",
     "output_type": "stream",
     "text": [
      "Pollster 0: 2\n",
      "Pollster 1: 3\n"
     ]
    }
   ],
   "source": [
    "# Pause at which store?\n",
    "for a in [a[:2] for a in W.keys()]:\n",
    "    print('Pollster {0}: {1}'.format(a[1], a[0]))"
   ]
  },
  {
   "cell_type": "markdown",
   "metadata": {},
   "source": [
    "## Export"
   ]
  },
  {
   "cell_type": "code",
   "execution_count": null,
   "metadata": {},
   "outputs": [],
   "source": [
    "Out_File = 'Results_'+ str(n) +'.xlsx'"
   ]
  },
  {
   "cell_type": "code",
   "execution_count": null,
   "metadata": {
    "code_folding": [
     0
    ]
   },
   "outputs": [],
   "source": [
    "with pd.ExcelWriter(Out_File) as writer:\n",
    "    # General results\n",
    "    Hoja = DataFrame({'0':['Active days','Active pollsters','Active vehicles', 'Objective','GAP'], \n",
    "                      '1':[len(U), len(Active_Pollsters), len(Active_Vehicles), mo.ObjVal, str(around(mo.MIPGap * 100,2)) + ' %']})\n",
    "    Hoja.to_excel(writer, 'Summary', header=False, index= False)\n",
    "    writer.sheets['Summary'].set_column('A:A', 15)\n",
    "    \n",
    "    # Pollster routing\n",
    "    X_visits = [zeros([n+1,n+1], dtype=int) for days in Active_Days]\n",
    "    for days in Active_Days:\n",
    "        X_day = (v[:-1] for v in X.keys() if v[-1] == days)\n",
    "        for pairs in X_day:\n",
    "            coords = tuple([vv if vv <= n else vv%n if vv<2*n else n for vv in pairs[:-1] ])\n",
    "            X_visits[days][coords] = pairs[-1] + 1\n",
    "            \n",
    "    Hoja = concat([DataFrame(X_visits[days]) for days in Active_Days], axis=1).replace({0:''})\n",
    "    Hoja.columns = [str(v) + ' day ' + str(days) for days in Active_Days for v in C_0 ]\n",
    "    Hoja.to_excel(writer, 'Pollster routing')\n",
    "    \n",
    "    # Vehicle routing\n",
    "    Y_visits = [zeros([n+1,n+1], dtype=int) for days in Active_Days]\n",
    "    for days in Active_Days:\n",
    "        Y_day = (v[:-1] for v in Y.keys() if v[-1] == days)\n",
    "        for pairs in Y_day:\n",
    "            coords = tuple([vv if vv <= n else vv%n if vv<2*n else n if vv == 2*n else 0 for vv in pairs[:-1] ])\n",
    "            Y_visits[days][coords] = pairs[-1] + 1\n",
    "    \n",
    "    Hoja = concat([DataFrame(Y_visits[days]) for days in Active_Days], axis=1).replace({0:''})\n",
    "    Hoja.columns = [str(v) + ' day ' + str(days) for days in Active_Days for v in C_0 ]\n",
    "    Hoja.to_excel(writer, 'Vehicle routing')\n",
    "    \n",
    "    # Shared routing\n",
    "    Z_visits = [zeros([n+1,n+1], dtype='<U'+str(2*n)) for days in Active_Days]\n",
    "    for days in Active_Days:\n",
    "        Z_day = (v[:-1] for v in Z.keys() if v[-1] == days)\n",
    "        for pairs in Z_day:\n",
    "            coords = tuple([vv if vv <= n else vv%n if vv<2*n else n if vv == 2*n else 0 for vv in pairs[:-1] ])\n",
    "            if Z_visits[days][coords] == '':\n",
    "                Z_visits[days][coords] = str(pairs[-1] + 1)\n",
    "            else:\n",
    "                Z_visits[days][coords] += ', ' + str(pairs[-1] + 1)\n",
    "    \n",
    "    Hoja = concat([DataFrame(Z_visits[days]) for days in Active_Days], axis=1).replace({0:''})\n",
    "    Hoja.columns = [str(v) + ' day ' + str(days) for days in Active_Days for v in C_0 ]\n",
    "    Hoja.to_excel(writer, 'Shared routing')\n",
    "    \n",
    "    # Times and breaks\n",
    "    W_breaks = [ zeros(n, dtype=int) for days in Active_Days]\n",
    "    for days in Active_Days:\n",
    "        for v in (v[:-1] for v in W.keys() if v[-1] == days):\n",
    "            W_breaks[days][v[0]-1] = v[1]+1\n",
    "    \n",
    "    Hoja = DataFrame({'Time i':[ B[i].x for i in C_minus ], 'Time i+n':[ B[i].x for i in C_plus ]})\n",
    "    Hoja = concat([Hoja]+[DataFrame(W_breaks[days]) for days in Active_Days], axis=1).replace({0:''})\n",
    "    Hoja.columns = list(Hoja.columns[:2]) + ['break day '+str(days) for days in Active_Days]\n",
    "    Hoja.index = arange(1,n+1)\n",
    "    Hoja.to_excel(writer, 'Times and breaks per pollster')\n",
    "    writer.sheets['Times and breaks per pollster'].set_column('D:AA', 15)"
   ]
  },
  {
   "cell_type": "markdown",
   "metadata": {},
   "source": [
    "---"
   ]
  }
 ],
 "metadata": {
  "kernelspec": {
   "display_name": "A - Python 3",
   "language": "python",
   "name": "python3"
  },
  "language_info": {
   "codemirror_mode": {
    "name": "ipython",
    "version": 3
   },
   "file_extension": ".py",
   "mimetype": "text/x-python",
   "name": "python",
   "nbconvert_exporter": "python",
   "pygments_lexer": "ipython3",
   "version": "3.10.14"
  },
  "nbTranslate": {
   "displayLangs": [
    "*"
   ],
   "hotkey": "alt-t",
   "langInMainMenu": true,
   "sourceLang": "en",
   "targetLang": "fr",
   "useGoogleTranslate": true
  }
 },
 "nbformat": 4,
 "nbformat_minor": 4
}
