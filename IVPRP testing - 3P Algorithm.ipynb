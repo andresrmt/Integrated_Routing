{
 "cells": [
  {
   "cell_type": "markdown",
   "metadata": {},
   "source": [
    "# Integrated model for routing pollsters and vehicles"
   ]
  },
  {
   "cell_type": "markdown",
   "metadata": {},
   "source": [
    "<div class=\"alert alert-block alert-info\">\n",
    "This notebook contains the code to build and solve the Integrated Vehicles and Polsters Routing Problem (IVPRP). \n",
    "</div>"
   ]
  },
  {
   "cell_type": "code",
   "execution_count": 1,
   "metadata": {},
   "outputs": [],
   "source": [
    "from gurobipy import *"
   ]
  },
  {
   "cell_type": "code",
   "execution_count": 2,
   "metadata": {
    "code_folding": [
     0
    ]
   },
   "outputs": [],
   "source": [
    "# Packages\n",
    "import numpy  as np\n",
    "import pandas as pd\n",
    "import time\n",
    "from collections import deque"
   ]
  },
  {
   "cell_type": "code",
   "execution_count": 3,
   "metadata": {
    "code_folding": [
     0
    ]
   },
   "outputs": [],
   "source": [
    "# Aliases\n",
    "append, arange, around, asarray, loadtxt, zeros = np.append, np.arange, np.around, np.asarray, np.loadtxt, np.zeros\n",
    "DataFrame, concat = pd.DataFrame, pd.concat"
   ]
  },
  {
   "cell_type": "code",
   "execution_count": 4,
   "metadata": {
    "code_folding": []
   },
   "outputs": [],
   "source": [
    "# General functions for reading and writing\n",
    "def Reader(nom):    return loadtxt('Instances/'+ nom + '.txt' )\n",
    "def P_Reader(n):    return  Reader('Pollster_' + str(n))\n",
    "def V_Reader(n):    return  Reader( 'Vehicle_' + str(n))\n",
    "def S_Reader(n):    return  Reader( 'Service_' + str(n))\n",
    "def T_Reader(n):    return  Reader(    'Time_' + str(n))\n",
    "\n",
    "def Write(df,nom):  return DataFrame(df).to_csv('Instances/'+ nom +'.txt', header=None, index=None, sep=' ', mode='a')"
   ]
  },
  {
   "cell_type": "markdown",
   "metadata": {},
   "source": [
    "## Basics"
   ]
  },
  {
   "cell_type": "markdown",
   "metadata": {},
   "source": [
    "<div class=\"alert alert-block alert-warning\">\n",
    "First, basic data is registered:\n",
    "    \n",
    "* $n$ is the number of stores to be visited,\n",
    "* $E$ is the set of available pollsters,\n",
    "* $K$ is the set of available vehicles,\n",
    "* $Q$ is the vehicle's capacity,\n",
    "* $S$ is the number of days.\n",
    "</div>"
   ]
  },
  {
   "cell_type": "code",
   "execution_count": 5,
   "metadata": {},
   "outputs": [],
   "source": [
    "n = 20\n",
    "E = arange(5);    K = arange(3);    Q = min(1,E.size);    S = arange(15)"
   ]
  },
  {
   "cell_type": "markdown",
   "metadata": {},
   "source": [
    "<div class=\"alert alert-block alert-success\">\n",
    "Now we read the data associated with the instance.\n",
    "</div>"
   ]
  },
  {
   "cell_type": "code",
   "execution_count": 6,
   "metadata": {},
   "outputs": [],
   "source": [
    "Service  = S_Reader(n)\n",
    "Poll     = P_Reader(n)\n",
    "Vehicles = V_Reader(n)\n",
    "Time     = T_Reader(n)"
   ]
  },
  {
   "cell_type": "markdown",
   "metadata": {},
   "source": [
    "<div class=\"alert alert-block alert-warning\">\n",
    "The read matrices are processed:\n",
    "    \n",
    "* $d$ captures pollstering times,\n",
    "* $t$ is the time that a pollster takes to walk among pairs of stores,\n",
    "* $\\tau$ is the time that vehicles take to move between pairs of stores,\n",
    "\n",
    "* $[\\rho_0,\\rho_1]$ is the time window for breaks,\n",
    "* $P$ is the length of the pause,\n",
    "* $\\beta$ is the time horizon limit.\n",
    "</div>"
   ]
  },
  {
   "cell_type": "code",
   "execution_count": 7,
   "metadata": {},
   "outputs": [],
   "source": [
    "d = append(around(Service, 2), 0.0)\n",
    "t = around(Poll, 2)\n",
    "τ = around(Vehicles, 2)\n",
    "ρ_0, ρ_1, P, β = Time.ravel()"
   ]
  },
  {
   "cell_type": "markdown",
   "metadata": {},
   "source": [
    "<div class=\"alert alert-block alert-warning\">\n",
    "At last costs are fixed:\n",
    "    \n",
    "* $\\kappa_0$ is the daily cost of operations,\n",
    "* $\\kappa_1$ is the cost of hiring a vehicle,\n",
    "* $\\kappa_2$ is the cost of hiring a pollster.\n",
    "</div>"
   ]
  },
  {
   "cell_type": "code",
   "execution_count": 8,
   "metadata": {},
   "outputs": [],
   "source": [
    "κ_0 = 200.0\n",
    "κ_1 = 100.0\n",
    "κ_2 = 40.0"
   ]
  },
  {
   "cell_type": "markdown",
   "metadata": {},
   "source": [
    "Finding an upper bound:"
   ]
  },
  {
   "cell_type": "markdown",
   "metadata": {},
   "source": [
    "\\begin{align}\n",
    "    &\\min_{(e\\in E, k\\in K, s\\in S)} \\kappa_0 (s+1) + \\kappa_1 (k+1)(s+1) + \\kappa_{2} (e+1)(s+1)\n",
    "    \\\\\n",
    "    \\text{subject to} \\qquad &\n",
    "    \\\\\n",
    "    & \\dfrac{\\left( \\sum_{i\\in C_-} t_{i,i+n} + (e+1) \\times (s+1) \\times P \\right)}{(e+1)\\times (s+1)} + \\dfrac{ \\left( \\sum \\max_{i} \\tau_{} + \\max_{j} \\tau \\right) }{ (k+1) \\times (s+1) } \\leq B_{\\max}\n",
    "    \\\\\n",
    "    & (e+1) \\leq Q (k+1)\n",
    "\\end{align}"
   ]
  },
  {
   "cell_type": "code",
   "execution_count": 9,
   "metadata": {
    "scrolled": true
   },
   "outputs": [
    {
     "name": "stdout",
     "output_type": "stream",
     "text": [
      "\n",
      "\n",
      "At most there should be 2 pollsters, 2 vehicles, and 2 days.\n"
     ]
    }
   ],
   "source": [
    "Feas = {(e+1,k+1,s+1): (d.sum() + (e+1)*(s+1)*P)/((e+1)*(s+1)) \n",
    "            + (τ.max(axis=0) + τ.max(axis=1)).sum()/((k+1)*(s+1)*(1)) for e in E for k in K for s in S}\n",
    "#{(e+1,k+1,s+1): (d.sum() + (e+1)*(s+1)*P)/((e+1)*(s+1)) + τ.sum()/((k+1)*(s+1)*(e+2)) for e in E for k in K for s in S}\n",
    "#print({aa: (around(bb,2), bb < β) for aa,bb in Feas.items()})\n",
    "print('')\n",
    "Feas = {aa: κ_2 * aa[0] * aa[2] + κ_1 * aa[1] * aa[2] + κ_0 * aa[2] for aa,bb in Feas.items() if (bb < β) and (aa[1] <= aa[0] <= Q * (aa[1]))}\n",
    "mE, mK, mS = min(Feas, key=Feas.get)\n",
    "#print(Feas)\n",
    "print('\\nAt most there should be',mE,'pollsters,',mK,'vehicles, and',mS,'days.')"
   ]
  },
  {
   "cell_type": "code",
   "execution_count": 10,
   "metadata": {},
   "outputs": [],
   "source": [
    "E = arange(mE);    K = arange(mK);    S = arange(mS)"
   ]
  },
  {
   "cell_type": "markdown",
   "metadata": {},
   "source": [
    "## Read partition"
   ]
  },
  {
   "cell_type": "markdown",
   "metadata": {},
   "source": [
    "<div class=\"alert alert-block alert-warning\">\n",
    "We read each partition and reduce the graph size.\n",
    "</div>"
   ]
  },
  {
   "cell_type": "code",
   "execution_count": 11,
   "metadata": {},
   "outputs": [
    {
     "data": {
      "text/html": [
       "<div>\n",
       "<style scoped>\n",
       "    .dataframe tbody tr th:only-of-type {\n",
       "        vertical-align: middle;\n",
       "    }\n",
       "\n",
       "    .dataframe tbody tr th {\n",
       "        vertical-align: top;\n",
       "    }\n",
       "\n",
       "    .dataframe thead th {\n",
       "        text-align: right;\n",
       "    }\n",
       "</style>\n",
       "<table border=\"1\" class=\"dataframe\">\n",
       "  <thead>\n",
       "    <tr style=\"text-align: right;\">\n",
       "      <th></th>\n",
       "      <th>0</th>\n",
       "      <th>1</th>\n",
       "      <th>2</th>\n",
       "      <th>3</th>\n",
       "      <th>4</th>\n",
       "      <th>5</th>\n",
       "      <th>6</th>\n",
       "      <th>7</th>\n",
       "      <th>8</th>\n",
       "      <th>9</th>\n",
       "      <th>10</th>\n",
       "    </tr>\n",
       "  </thead>\n",
       "  <tbody>\n",
       "    <tr>\n",
       "      <th>0</th>\n",
       "      <td>1</td>\n",
       "      <td>2</td>\n",
       "      <td>3</td>\n",
       "      <td>6</td>\n",
       "      <td>7</td>\n",
       "      <td>8</td>\n",
       "      <td>9</td>\n",
       "      <td>12</td>\n",
       "      <td>14</td>\n",
       "      <td>17</td>\n",
       "      <td>19</td>\n",
       "    </tr>\n",
       "  </tbody>\n",
       "</table>\n",
       "</div>"
      ],
      "text/plain": [
       "   0  1  2  3  4  5  6   7   8   9  10\n",
       "0  1  2  3  6  7  8  9  12  14  17  19"
      ]
     },
     "metadata": {},
     "output_type": "display_data"
    },
    {
     "data": {
      "text/html": [
       "<div>\n",
       "<style scoped>\n",
       "    .dataframe tbody tr th:only-of-type {\n",
       "        vertical-align: middle;\n",
       "    }\n",
       "\n",
       "    .dataframe tbody tr th {\n",
       "        vertical-align: top;\n",
       "    }\n",
       "\n",
       "    .dataframe thead th {\n",
       "        text-align: right;\n",
       "    }\n",
       "</style>\n",
       "<table border=\"1\" class=\"dataframe\">\n",
       "  <thead>\n",
       "    <tr style=\"text-align: right;\">\n",
       "      <th></th>\n",
       "      <th>0</th>\n",
       "      <th>1</th>\n",
       "      <th>2</th>\n",
       "      <th>3</th>\n",
       "      <th>4</th>\n",
       "      <th>5</th>\n",
       "      <th>6</th>\n",
       "      <th>7</th>\n",
       "      <th>8</th>\n",
       "    </tr>\n",
       "  </thead>\n",
       "  <tbody>\n",
       "    <tr>\n",
       "      <th>0</th>\n",
       "      <td>4</td>\n",
       "      <td>5</td>\n",
       "      <td>10</td>\n",
       "      <td>11</td>\n",
       "      <td>13</td>\n",
       "      <td>15</td>\n",
       "      <td>16</td>\n",
       "      <td>18</td>\n",
       "      <td>20</td>\n",
       "    </tr>\n",
       "  </tbody>\n",
       "</table>\n",
       "</div>"
      ],
      "text/plain": [
       "   0  1   2   3   4   5   6   7   8\n",
       "0  4  5  10  11  13  15  16  18  20"
      ]
     },
     "metadata": {},
     "output_type": "display_data"
    }
   ],
   "source": [
    "ϵ = 2\n",
    "Partition = pd.read_csv('Instances/'+ 'Partition_'+ str(n) + '_' + str(ϵ) + '.txt', \n",
    "                delimiter = ' ', header = None, skip_blank_lines=True, \n",
    "                skiprows  = [aa for aa in range(14) if aa not in [4,7,10,13]], \n",
    "                   engine = 'python',  index_col=False)\n",
    "\n",
    "part_0 = Partition.iloc[0,:].dropna().values.astype(int)\n",
    "part_1 = Partition.iloc[1,:].dropna().values.astype(int)\n",
    "if ϵ > 2:\n",
    "    part_2 = Partition.iloc[2,:].dropna().values.astype(int)\n",
    "    part_3 = Partition.iloc[3,:].dropna().values.astype(int)\n",
    "display(DataFrame(part_0.reshape(1,-1)))\n",
    "display(DataFrame(part_1.reshape(1,-1)))\n",
    "if ϵ > 2:\n",
    "    display(DataFrame(part_2.reshape(1,-1)))\n",
    "    display(DataFrame(part_3.reshape(1,-1)))"
   ]
  },
  {
   "cell_type": "markdown",
   "metadata": {},
   "source": [
    "Take one part:"
   ]
  },
  {
   "cell_type": "code",
   "execution_count": 12,
   "metadata": {},
   "outputs": [],
   "source": [
    "part = part_0.copy();    N = part.size"
   ]
  },
  {
   "cell_type": "code",
   "execution_count": 13,
   "metadata": {},
   "outputs": [],
   "source": [
    "d_p = d[[0]+list(part)+[-1]]\n",
    "t_p = t[part-1][:,part-1]\n",
    "τ_p = τ[[0]+list(part)][:,[0]+list(part)]\n",
    "α   = 0.5*(β - P)"
   ]
  },
  {
   "cell_type": "markdown",
   "metadata": {},
   "source": [
    "Find new upper bounds (these might fail, yet as the bounds are general, it is still possible to find a feasible solution):"
   ]
  },
  {
   "cell_type": "code",
   "execution_count": 14,
   "metadata": {},
   "outputs": [
    {
     "name": "stdout",
     "output_type": "stream",
     "text": [
      "No tighter bounds found, the instance might be infeasible.\n"
     ]
    }
   ],
   "source": [
    "Feas = {(e+1,k+1): d_p.sum()/(e+1) + (τ_p.max(axis=0) + τ_p.max(axis=1)).sum()/(k+1) for e in E for k in K}\n",
    "Feas = {aa: κ_2 * aa[0] + κ_1 * aa[1] for aa,bb in Feas.items() if (bb < α) and (aa[1] <= aa[0] <= Q * (aa[1]))}\n",
    "if len(Feas) > 0:\n",
    "    mE, mK = min(Feas, key=Feas.get)\n",
    "    print('Tighter bounds found.')\n",
    "    print('At most there should be',mE,'pollsters and',mK,'vehicles.')\n",
    "else:\n",
    "    print('No tighter bounds found, the instance might be infeasible.')"
   ]
  },
  {
   "cell_type": "code",
   "execution_count": 15,
   "metadata": {},
   "outputs": [],
   "source": [
    "E = arange(mE);    K = arange(mK)"
   ]
  },
  {
   "cell_type": "markdown",
   "metadata": {},
   "source": [
    "## Subgraph of $N$ points from actual graph"
   ]
  },
  {
   "cell_type": "markdown",
   "metadata": {},
   "source": [
    "<div class=\"alert alert-block alert-warning\">\n",
    "The multigraph is built.\n",
    "</div>"
   ]
  },
  {
   "cell_type": "code",
   "execution_count": 16,
   "metadata": {},
   "outputs": [],
   "source": [
    "m = 2*n+1\n",
    "\n",
    "# Indices\n",
    "C_minus, C_plus, C_0, C = part.copy(), part + n, append(0,part), append(part,part + n);    C_m = append(C,m)\n",
    "\n",
    "# Domain for vehicles.                         Graph size:    (2*N) * (N + 1) + (2*N-1) * N = 4*(N**2) + N\n",
    "dom_v  = [ (0,j)   for j in C ]\n",
    "dom_v += [ (j,m)   for j in C ]\n",
    "dom_v += [ (i,j)   for i in C for j in C if j not in [i,i-n]]\n",
    "\n",
    "# Domain for pollsters.                        Graph size:    (N-1)**2 + (N-1) + N = N**2\n",
    "dom_e  = [ (i,i+n) for i in C_minus ]\n",
    "dom_e += [ (i,j)   for i in C_plus for j in C_minus if j!=i-n ]"
   ]
  },
  {
   "cell_type": "markdown",
   "metadata": {},
   "source": [
    "## Integer Programming Model"
   ]
  },
  {
   "cell_type": "markdown",
   "metadata": {},
   "source": [
    "<div class=\"alert alert-block alert-warning\">\n",
    "Now we are ready to build the IP model for IVPRP.\n",
    "</div>"
   ]
  },
  {
   "cell_type": "code",
   "execution_count": 17,
   "metadata": {
    "scrolled": true
   },
   "outputs": [
    {
     "name": "stdout",
     "output_type": "stream",
     "text": [
      "Using license file /Users/andy/gurobi.lic\n",
      "Academic license - for non-commercial use only\n"
     ]
    }
   ],
   "source": [
    "mo = Model()\n",
    "x, y, z, b, f, w, B, u = {}, {}, {}, {}, {}, {}, {}, {}"
   ]
  },
  {
   "cell_type": "markdown",
   "metadata": {},
   "source": [
    "### Variables and Objective"
   ]
  },
  {
   "cell_type": "code",
   "execution_count": 18,
   "metadata": {
    "code_folding": [
     0
    ]
   },
   "outputs": [],
   "source": [
    "# Pollster variables\n",
    "## Nodes\n",
    "b = mo.addVars( C_minus, E, vtype = 'B', name ='b')             # **begining**    N * |E|\n",
    "f = mo.addVars( C_plus,  E, vtype = 'B', name ='f')             # **ending**      N * |E|\n",
    "## Arcs\n",
    "x = mo.addVars( dom_e, E, vtype = 'B', name = 'x')              # **Walking paths**       N^2 * |E|\n",
    "\n",
    "# Vehicle variables\n",
    "y = mo.addVars( dom_v, K, vtype = 'B', name = 'y')               # **Vehicle-paths**     (4*N^2+N)*|K|\n",
    "z = mo.addVars( dom_v, E, vtype = 'B', name = 'z')               # **t-paths**           (4*N^2+N)*|E|\n",
    "\n",
    "# Time and days variables\n",
    "B = mo.addVars( C, vtype = 'C', name = 'B', ub  = α )               # **In-Out timing**     2*N\n",
    "\n",
    "mo.update()"
   ]
  },
  {
   "cell_type": "markdown",
   "metadata": {},
   "source": [
    "Additional terms in objective"
   ]
  },
  {
   "cell_type": "code",
   "execution_count": 19,
   "metadata": {},
   "outputs": [],
   "source": [
    "deque( (v.setAttr('obj', κ_1) for v in y.select(0,'*')), 0)\n",
    "deque( (v.setAttr('obj', κ_2) for v in z.select(0,'*')), 0)\n",
    "mo.setAttr('ModelSense', GRB.MINIMIZE)"
   ]
  },
  {
   "cell_type": "code",
   "execution_count": 20,
   "metadata": {},
   "outputs": [],
   "source": [
    "mo.update()"
   ]
  },
  {
   "cell_type": "markdown",
   "metadata": {},
   "source": [
    "### Constraints"
   ]
  },
  {
   "cell_type": "markdown",
   "metadata": {},
   "source": [
    "<div class=\"alert alert-block alert-warning\">\n",
    "We begin with constraints for pollster routing, these are constraints $(1a)$ to $(1h)$.\n",
    "</div>"
   ]
  },
  {
   "cell_type": "code",
   "execution_count": 21,
   "metadata": {
    "code_folding": [
     0
    ]
   },
   "outputs": [
    {
     "name": "stdout",
     "output_type": "stream",
     "text": [
      "First block took 0.12082219123840332 seconds to compute.\n"
     ]
    }
   ],
   "source": [
    "# x & z vars interaction\n",
    "start = time.time()\n",
    "# 1a - Exclusive attention:      sum x[i,i+n] = 1\n",
    "mo.addConstrs( (x.sum(i,i+n,'*') == 1 for i in C_minus), name='R-1a');\n",
    "\n",
    "# 1b,c - Flow conservation:          sum_j x[j,i] - x[i,j] = b[i] - f[i]\n",
    "mo.addConstrs( (x.sum('*',i,e) == x[i,i+n,e] - b[i,e] for i in C_minus for e in E), name='R-1b')\n",
    "mo.addConstrs( (x.sum(i,'*',e) == x[i-n,i,e] - f[i,e] for i in C_plus  for e in E), name='R-1c')\n",
    "\n",
    "# 1d,e,f,g — Terminal pick-up and delivery:  sum_j z[i,j] <= 1\n",
    "mo.addConstrs( (z.sum('*',i,e) <= 1.0 - x[i,i+n,e] + b[i,e] for i in C_minus for e in E), name='R-1d')\n",
    "mo.addConstrs( (z.sum(i,'*',e) <= 1.0 - x[i-n,i,e] + f[i,e] for i in C_plus  for e in E), name='R-1e')\n",
    "\n",
    "mo.addConstrs( (z.sum('*',i,e) - z.sum(i,'*',e) ==  b[i,e] for i in C_minus for e in E), name='R-1f')\n",
    "mo.addConstrs( (z.sum('*',i,e) - z.sum(i,'*',e) == -f[i,e] for i in C_plus  for e in E), name='R-1g')\n",
    "\n",
    "# Additional valid bounds\n",
    "mo.addConstrs( (z.sum('*',i,e) <= 1.0 for i in C for e in E), name='R-1d-add')\n",
    "mo.addConstrs( (z.sum(i,'*',e) <= 1.0 for i in C for e in E), name='R-1d-add')\n",
    "\n",
    "# 1h – One trip per day for each pollster\n",
    "mo.addConstrs( (z.sum(0,'*',e) <= 1 for e in E), name='R-1h')\n",
    "\n",
    "\n",
    "end = time.time()\n",
    "print('First block took {} seconds to compute.'.format(end-start))\n",
    "\n",
    "mo.update()"
   ]
  },
  {
   "cell_type": "markdown",
   "metadata": {},
   "source": [
    "<div class=\"alert alert-block alert-warning\">\n",
    "Then we turn to vehicle routing, these are constraints $(2a)$ to $(2f)$.\n",
    "</div>"
   ]
  },
  {
   "cell_type": "code",
   "execution_count": 22,
   "metadata": {
    "code_folding": [
     0
    ]
   },
   "outputs": [
    {
     "name": "stdout",
     "output_type": "stream",
     "text": [
      "Took 0.21680998802185059 seconds.\n"
     ]
    }
   ],
   "source": [
    "# y & z vars interaction\n",
    "start = time.time()\n",
    "# 2a,b - Terminal arrivals:       sum_(j,k) y[i,j] = sum_e b[i] + f[i]\n",
    "mo.addConstrs( (y.sum(i,'*','*') == b.sum(i,'*') for i in C_minus), name='R-2a')\n",
    "mo.addConstrs( (y.sum(i,'*','*') == f.sum(i,'*') for i in C_plus ), name='R-2b')\n",
    "# 2c,d – Flow conservation:       sum_j y[i,j] - sum_j y[j,i] = 0\n",
    "mo.addConstrs( (y.sum('*',i,k)     == y.sum(i,'*',k) for i in C for k in K ), name='R-2c')\n",
    "mo.addConstrs( (y.sum('*',2*n+1,k) == y.sum(0,'*',k) for k in K ), name='R-2d')\n",
    "# 2e – One trip per day for each vehicle:     sum_i y[0,i] <= 1\n",
    "mo.addConstrs( (y.sum(0,'*',k) <= 1.0 for k in K ), name='R-2e')\n",
    "# 2f – Capacity load:             sum_e z[i,j] <= Q sum_k y[i,j]\n",
    "mo.addConstrs( (z.sum(i,j,'*') <= Q*y.sum(i,j,'*') for (i,j) in dom_v ), name='R-2f')\n",
    "\n",
    "end = time.time()\n",
    "print('Took {} seconds.'.format(end-start))\n",
    "\n",
    "mo.update()"
   ]
  },
  {
   "cell_type": "markdown",
   "metadata": {},
   "source": [
    "<div class=\"alert alert-block alert-warning\">\n",
    "Next are time management and shift lengths $(3a)$ to $(3e)$.\n",
    "</div>"
   ]
  },
  {
   "cell_type": "code",
   "execution_count": 23,
   "metadata": {},
   "outputs": [],
   "source": [
    "M = α + max(τ_p.max(), t.max()) + 10.#1e+4"
   ]
  },
  {
   "cell_type": "code",
   "execution_count": 24,
   "metadata": {
    "code_folding": [
     0
    ]
   },
   "outputs": [
    {
     "name": "stdout",
     "output_type": "stream",
     "text": [
      "Took 0.2230072021484375 seconds.\n"
     ]
    }
   ],
   "source": [
    "# B vars enforce connected paths\n",
    "start = time.time()\n",
    "# 3a,b – Arriving marker:  B[j] >= B[i] + t[i,j] + sum_s w[i] P - M(1 - sum_s x[i,j])\n",
    "mo.addConstrs( (B[i+n] - B[i] - d[i] >= 0.0 for i in C_minus ), name='R-3a')\n",
    "mo.addConstrs( (B[j] - B[i+n] - t[i-1,j-1] >= -M*(1.0 - x.sum(i+n,j,'*')) \n",
    "               for i in C_minus for j in C_minus if j!=i ), name='R-3b')\n",
    "## Trivial\n",
    "mo.addConstrs( (B[i+n] - B[i] >= 0.0 for i in C_minus ), name='R-3-o')\n",
    "# 3c — Arrival after transport: B[j] >= B[i] + τ_{i,j} - M(1 - sum_{s,k} y[i,j] )\n",
    "mo.addConstrs( \n",
    "    (B[j] - B[i] + M*(1.0 - y.sum(i,j,'*')) >= τ[i % (n+1) + (1 if i > n else 0), j % (n+1) + (1 if j > n else 0)]\n",
    "     for (i,j) in dom_v if i!=0 and j!=2*n+1 ), name='R-3c')\n",
    "# 3d — First transportation: B[i] >= tau_{0,i} - M(1 - sum_{s,k} y[0,i]^{k,s} )\n",
    "mo.addConstrs( (B[i] >= τ[0, i % (n+1) + (1 if i > n else 0)] - α*(1.0 - y.sum(0,i,'*','*')) \n",
    "               for i in C ), name='R-3d')\n",
    "\n",
    "# 3e — Arrival marks: B[2n+1]^{s} >= B[i] + tau_{i,2n+1} - M(1-y[i,2n+1])\n",
    "mo.addConstrs( ( α - B[i] >= τ[i % (n+1) + (1 if i > n else 0),0] - M*(1.0 - y.sum(i,2*n+1,'*'))\n",
    "               for i in C), name='R-3e')\n",
    "# 3f – There's no TW information available.\n",
    "end = time.time()\n",
    "print('Took {} seconds.'.format(end-start))\n",
    "\n",
    "mo.update()"
   ]
  },
  {
   "cell_type": "markdown",
   "metadata": {},
   "source": [
    "### Symmetry breaking inequalities"
   ]
  },
  {
   "cell_type": "markdown",
   "metadata": {},
   "source": [
    "<div class=\"alert alert-block alert-warning\">\n",
    "Shorter versions of constraints $(5a)$ to $(5l)$ are added here.\n",
    "</div>"
   ]
  },
  {
   "cell_type": "code",
   "execution_count": 25,
   "metadata": {
    "code_folding": [
     0
    ]
   },
   "outputs": [
    {
     "name": "stdout",
     "output_type": "stream",
     "text": [
      "SI: Took 0.10819292068481445 seconds.\n"
     ]
    }
   ],
   "source": [
    "# More\n",
    "start = time.time()\n",
    "\n",
    "mo.addConstr( z.sum(0,'*',0) == 1 , name='R-5a')\n",
    "mo.addConstr( y.sum(0,'*',0) == 1 , name='R-5d')\n",
    "\n",
    "if E.size > 1:\n",
    "    mo.addConstrs( (z.sum(0,'*',e) <= z.sum(0,'*',e-1) for e in E if e > 0 ), name='R-5b')\n",
    "    mo.addConstrs( (b[i,e]   <= 1.0 - b[i,e-1] for i in C_minus for e in E if e > 0 ), name='R-5k' )\n",
    "    mo.addConstrs( (f[i,e]   <= 1.0 - f[i,e-1] for i in C_plus  for e in E if e > 0 ),  name='R-5l' )\n",
    "    mo.addConstrs( (x[i,j,e] <= 1.0 - x[i,j,e-1] for (i,j) in dom_e for e in E if e > 0 ), name='R-5m');\n",
    "    \n",
    "if K.size > 1:\n",
    "    mo.addConstrs( (y.sum(0,'*',k) <= y.sum(0,'*',k-1) for k in K if k > 0 ), name='R-5e')\n",
    "    mo.addConstrs( (y[i,j,k] <= 1.0 - y[i,j,k-1] for (i,j) in dom_v for k in K if k > 0 ), name='R-5o');\n",
    "    \n",
    "end = time.time()\n",
    "print('SI: Took {} seconds.'.format(end-start))"
   ]
  },
  {
   "cell_type": "code",
   "execution_count": 26,
   "metadata": {
    "code_folding": [
     0
    ]
   },
   "outputs": [],
   "source": [
    "# Valid inequalities\n",
    "mo.addConstr( quicksum( B[i+n] - B[i] for i in C_minus ) >= d_p.sum(), \"VB-b\")\n",
    "mo.addConstr( quicksum( B[i+n] - B[i] for i in C_minus ) <= E.size*α, \"VB-6a\");"
   ]
  },
  {
   "cell_type": "markdown",
   "metadata": {},
   "source": [
    "---"
   ]
  },
  {
   "cell_type": "code",
   "execution_count": 27,
   "metadata": {},
   "outputs": [
    {
     "name": "stdout",
     "output_type": "stream",
     "text": [
      "{2: 44.0}\n"
     ]
    }
   ],
   "source": [
    "Λ   = [ np.append(a, arange(a.size + b + 1, (b+1)*a.size + 1) ) for b,a in enumerate([(E+1)]) ]\n",
    "Λ_β = {λ: d_p.sum()/λ for λ in np.unique(np.concatenate(Λ)) if d_p.sum()/λ <= α}\n",
    "print(Λ_β)"
   ]
  },
  {
   "cell_type": "code",
   "execution_count": 28,
   "metadata": {},
   "outputs": [
    {
     "data": {
      "text/plain": [
       "{2: 44.0}"
      ]
     },
     "execution_count": 28,
     "metadata": {},
     "output_type": "execute_result"
    }
   ],
   "source": [
    "{λ: d_p.sum()/λ for λ in np.unique(np.concatenate(Λ)) if (d_p.sum())/λ <= α - (τ_p[0,:][1:].min() + τ_p[:,0][1:].min())}"
   ]
  },
  {
   "cell_type": "code",
   "execution_count": 29,
   "metadata": {},
   "outputs": [
    {
     "data": {
      "text/plain": [
       "(2, 44.0)"
      ]
     },
     "execution_count": 29,
     "metadata": {},
     "output_type": "execute_result"
    }
   ],
   "source": [
    "F_2, T_1 = max(Λ_β.items(), key=lambda x: x[1]) \n",
    "F_2, T_1"
   ]
  },
  {
   "cell_type": "code",
   "execution_count": 30,
   "metadata": {
    "scrolled": true
   },
   "outputs": [
    {
     "data": {
      "text/plain": [
       "2"
      ]
     },
     "execution_count": 30,
     "metadata": {},
     "output_type": "execute_result"
    }
   ],
   "source": [
    "F_3 = [k+1 for k in K if F_2 <= Q * (k+1)].pop(0)\n",
    "F_3"
   ]
  },
  {
   "cell_type": "code",
   "execution_count": 31,
   "metadata": {},
   "outputs": [],
   "source": [
    "# Additional bound over the number of required pollsters\n",
    "mo.addConstr(z.sum(0,'*','*','*') >= F_2);\n",
    "# Additional bound over the number of required vehicles\n",
    "mo.addConstr(y.sum(0,'*','*','*') >= F_3);"
   ]
  },
  {
   "cell_type": "code",
   "execution_count": 32,
   "metadata": {},
   "outputs": [],
   "source": [
    "deque( (v.setAttr('BranchPriority', 10) for v in y.values()), 0);\n",
    "#deque( (v.setAttr('BranchPriority', 10) for v in z.values()), 0)"
   ]
  },
  {
   "cell_type": "markdown",
   "metadata": {},
   "source": [
    "## Optimization"
   ]
  },
  {
   "cell_type": "markdown",
   "metadata": {},
   "source": [
    "Pick the best solution (if any) from below."
   ]
  },
  {
   "cell_type": "code",
   "execution_count": 33,
   "metadata": {
    "scrolled": true
   },
   "outputs": [
    {
     "name": "stdout",
     "output_type": "stream",
     "text": [
      "Discarded solution information\n",
      "Reset all parameters\n",
      "Changed value of parameter VarBranch to 1\n",
      "   Prev: -1  Min: -1  Max: 3  Default: -1\n",
      "Parameter BranchDir unchanged\n",
      "   Value: 0  Min: -1  Max: 1  Default: 0\n",
      "Changed value of parameter TimeLimit to 360.0\n",
      "   Prev: inf  Min: 0.0  Max: inf  Default: inf\n",
      "Gurobi Optimizer version 9.0.2 build v9.0.2rc0 (mac64)\n",
      "Optimize a model with 2071 rows, 2288 columns and 14388 nonzeros\n",
      "Model fingerprint: 0x11d762bb\n",
      "Variable types: 22 continuous, 2266 integer (2266 binary)\n",
      "Coefficient statistics:\n",
      "  Matrix range     [1e+00, 1e+02]\n",
      "  Objective range  [4e+01, 1e+02]\n",
      "  Bounds range     [1e+00, 7e+01]\n",
      "  RHS range        [1e+00, 2e+02]\n",
      "Presolve removed 67 rows and 11 columns\n",
      "Presolve time: 0.11s\n",
      "Presolved: 2004 rows, 2277 columns, 13944 nonzeros\n",
      "Variable types: 22 continuous, 2255 integer (2255 binary)\n",
      "\n",
      "Root relaxation: objective 2.800000e+02, 1194 iterations, 0.31 seconds\n",
      "\n",
      "    Nodes    |    Current Node    |     Objective Bounds      |     Work\n",
      " Expl Unexpl |  Obj  Depth IntInf | Incumbent    BestBd   Gap | It/Node Time\n",
      "\n",
      "     0     0  280.00000    0   13          -  280.00000      -     -    0s\n",
      "     0     0  280.00000    0  117          -  280.00000      -     -    1s\n",
      "     0     0  280.00000    0   83          -  280.00000      -     -    1s\n",
      "     0     0  280.00000    0   12          -  280.00000      -     -    1s\n",
      "     0     0  280.00000    0   11          -  280.00000      -     -    2s\n",
      "     0     0  280.00000    0   15          -  280.00000      -     -    2s\n",
      "     0     0  280.00000    0   17          -  280.00000      -     -    2s\n",
      "     0     0  280.00000    0   47          -  280.00000      -     -    2s\n",
      "     0     0  280.00000    0    8          -  280.00000      -     -    2s\n",
      "     0     0  280.00000    0   60          -  280.00000      -     -    2s\n",
      "     0     0  280.00000    0   10          -  280.00000      -     -    2s\n",
      "     0     0  280.00000    0   10          -  280.00000      -     -    2s\n",
      "     0     0  280.00000    0   10          -  280.00000      -     -    2s\n",
      "     0     0  280.00000    0   10          -  280.00000      -     -    2s\n",
      "     0     2  280.00000    0   10          -  280.00000      -     -    3s\n",
      "    24    37  280.00000    7  104          -  280.00000      -   452    5s\n",
      "   488   250  280.00000   15   32          -  280.00000      -   224   10s\n",
      "  1702   602  280.00000   24   48          -  280.00000      -   144   15s\n",
      "  2942   863  280.00000   38   13          -  280.00000      -   5.8   20s\n",
      " 12391  1403 infeasible   49               -  280.00000      -  11.5   25s\n",
      " 20893  2382  280.00000   49   31          -  280.00000      -  11.4   37s\n",
      " 26371  2889  280.00000   64   23          -  280.00000      -  11.7   40s\n",
      " 34681  3563 infeasible   64               -  280.00000      -  12.0   45s\n",
      " 40405  3957 infeasible   66               -  280.00000      -  12.5   50s\n",
      " 46649  4445 infeasible   51               -  280.00000      -  12.6   55s\n",
      "*46882   233              35     280.0000000  280.00000  0.00%  12.7   55s\n",
      "\n",
      "Cutting planes:\n",
      "  Implied bound: 3\n",
      "  Projected implied bound: 1\n",
      "  Flow cover: 1\n",
      "  RLT: 9\n",
      "\n",
      "Explored 46951 nodes (940083 simplex iterations) in 55.47 seconds\n",
      "Thread count was 4 (of 4 available processors)\n",
      "\n",
      "Solution count 1: 280 \n",
      "\n",
      "Optimal solution found (tolerance 1.00e-04)\n",
      "Best objective 2.800000000000e+02, best bound 2.800000000000e+02, gap 0.0000%\n"
     ]
    }
   ],
   "source": [
    "mo.reset()\n",
    "mo.resetParams()\n",
    "mo.Params.VarBranch = 1\n",
    "mo.Params.BranchDir = 0\n",
    "mo.Params.TimeLimit = 360\n",
    "#mo.Params.Cuts = 0\n",
    "mo.optimize()"
   ]
  },
  {
   "cell_type": "code",
   "execution_count": 34,
   "metadata": {},
   "outputs": [],
   "source": [
    "Γ = {λ: d_p.sum()/λ for λ in np.unique(np.concatenate(Λ)) \n",
    "                 if (d_p.sum())/λ <= α - (τ_p[0,:][1:].min() + τ_p[:,0][1:].min())}\n",
    "if Γ != Λ_β:\n",
    "    F_2, T_1 = max(Γ.items(), key=lambda x: x[1]) \n",
    "    print('Bound can be tightened with',F_2,'pollsters!')\n",
    "    mo.addConstr(z.sum(0,'*','*','*') >= F_2);"
   ]
  },
  {
   "cell_type": "code",
   "execution_count": null,
   "metadata": {},
   "outputs": [],
   "source": [
    "mo.Params.TimeLimit = 360\n",
    "mo.optimize()"
   ]
  },
  {
   "cell_type": "code",
   "execution_count": null,
   "metadata": {},
   "outputs": [],
   "source": []
  },
  {
   "cell_type": "code",
   "execution_count": null,
   "metadata": {
    "code_folding": [
     0
    ]
   },
   "outputs": [],
   "source": [
    "# Parametrised\n",
    "mo.reset()\n",
    "mo.resetParams()\n",
    "#mo.setParam('Symmetry', 2) #mo.setParam('BranchDir', 1); mo.setParam('Heuristics',1)\n",
    "\n",
    "mo.Params.MIPFocus = 1;    \n",
    "mo.Params.Heuristics = 0.33\n",
    "mo.Params.Cuts = 3;      #<- w/o finds some feasible solutions \n",
    "mo.Params.Method = 2\n",
    "\n",
    "mo.Params.SimplexPricing = 3\n",
    "mo.Params.CutAggPasses = 12;    mo.Params.CutPasses = 12;   mo.Params.PrePasses = 8\n",
    "\n",
    "mo.Params.ImproveStartTime = 100\n",
    "\n",
    "\n",
    "mo.setParam('Presolve', 2)\n",
    "mo.Params.GURO_PAR_PREPROBE = 3\n",
    "mo.Params.PreSparsify = 1\n",
    "mo.Params.PrePasses = 500 # best solution so far w/ 500\n",
    "\n",
    "mo.Params.TimeLimit = 10*60\n",
    "mo.optimize()"
   ]
  },
  {
   "cell_type": "code",
   "execution_count": null,
   "metadata": {},
   "outputs": [],
   "source": []
  },
  {
   "cell_type": "markdown",
   "metadata": {},
   "source": [
    "## Results"
   ]
  },
  {
   "cell_type": "markdown",
   "metadata": {},
   "source": [
    "<div class=\"alert alert-block alert-warning\">\n",
    "We identify variables that have assigned a non-zero value.\n",
    "</div>"
   ]
  },
  {
   "cell_type": "code",
   "execution_count": 34,
   "metadata": {},
   "outputs": [],
   "source": [
    "X = tupledict({nn: v for nn, v in x.items() if v.x > 0.0})\n",
    "Y = tupledict({nn: v for nn, v in y.items() if v.x > 0.0})\n",
    "Z = tupledict({nn: v for nn, v in z.items() if v.x > 0.0})\n",
    "\n",
    "A = tupledict({nn: v for nn, v in b.items() if v.x > 0.0})\n",
    "F = tupledict({nn: v for nn, v in f.items() if v.x > 0.0})"
   ]
  },
  {
   "cell_type": "markdown",
   "metadata": {},
   "source": [
    "Active pollsters and vehicles are first identified. This simplifies iterations."
   ]
  },
  {
   "cell_type": "code",
   "execution_count": 35,
   "metadata": {},
   "outputs": [],
   "source": [
    "Active_Pollsters = {v[1] for v in A.keys()}\n",
    "Active_Vehicles  = {v[2] for v in Y.keys()}"
   ]
  },
  {
   "cell_type": "code",
   "execution_count": 36,
   "metadata": {
    "scrolled": true
   },
   "outputs": [
    {
     "name": "stdout",
     "output_type": "stream",
     "text": [
      "A solution was found with 2 pollsters and 2 vehicles.\n"
     ]
    }
   ],
   "source": [
    "print('A solution was found with',len(Active_Pollsters),'pollsters and',len(Active_Vehicles),'vehicles.')"
   ]
  },
  {
   "cell_type": "code",
   "execution_count": null,
   "metadata": {},
   "outputs": [],
   "source": []
  },
  {
   "cell_type": "code",
   "execution_count": 37,
   "metadata": {},
   "outputs": [],
   "source": [
    "Out_File = 'Instances/Results_Partition-'+ str(n) +'-2-a.xlsx'"
   ]
  },
  {
   "cell_type": "code",
   "execution_count": 38,
   "metadata": {
    "code_folding": [
     0
    ]
   },
   "outputs": [],
   "source": [
    "with pd.ExcelWriter(Out_File) as writer:\n",
    "    # General results\n",
    "    Hoja = DataFrame({'0':['Active pollsters','Active vehicles', 'Objective','GAP','Time'], \n",
    "                      '1':[len(Active_Pollsters), len(Active_Vehicles), \n",
    "                               mo.ObjVal, str(around(mo.MIPGap * 100,2)) + ' %', around(mo.Runtime,2)]})\n",
    "    Hoja.to_excel(writer, 'Summary', header=False, index= False)\n",
    "    writer.sheets['Summary'].set_column('A:A', 15)\n",
    "    \n",
    "    # Pollster routing\n",
    "    X_visits = zeros([n+1,n+1], dtype=int)\n",
    "    for pairs in X.keys():\n",
    "        coords = tuple([vv if vv <= n else vv%n if vv<2*n else n for vv in pairs[:-1] ])\n",
    "        X_visits[coords] = pairs[-1] + 1\n",
    "            \n",
    "    Hoja = DataFrame(X_visits).replace({0:''})\n",
    "    Hoja.columns = [str(v) for v in range(0,n+1) ]\n",
    "    Hoja.to_excel(writer, 'Pollster routing')\n",
    "    \n",
    "    # Vehicle routing\n",
    "    Y_visits = zeros([n+1,n+1], dtype=int)\n",
    "    for pairs in Y.keys():\n",
    "        coords = tuple([vv if vv <= n else vv%n if vv<2*n else n if vv == 2*n else 0 for vv in pairs[:-1] ])\n",
    "        Y_visits[coords] = pairs[-1] + 1\n",
    "    \n",
    "    Hoja = DataFrame(Y_visits).replace({0:''})\n",
    "    Hoja.columns = [str(v) for v in range(0,n+1) ]\n",
    "    Hoja.to_excel(writer, 'Vehicle routing')\n",
    "    \n",
    "    # Shared routing\n",
    "    Z_visits = zeros([n+1,n+1], dtype='<U'+str(2*n))\n",
    "    for pairs in Z.keys():\n",
    "        coords = tuple([vv if vv <= n else vv%n if vv<2*n else n if vv == 2*n else 0 for vv in pairs[:-1] ])\n",
    "        if Z_visits[coords] == '':\n",
    "            Z_visits[coords]  = str(pairs[-1] + 1)\n",
    "        else:\n",
    "            Z_visits[coords] += ', ' + str(pairs[-1] + 1)\n",
    "    \n",
    "    Hoja = DataFrame(Z_visits).replace({0:''})\n",
    "    Hoja.columns = [str(v) for v in range(0,n+1) ]\n",
    "    Hoja.to_excel(writer, 'Shared routing')\n",
    "    \n",
    "    # Times    \n",
    "    Hoja = DataFrame({'Time i':[ B[i].x for i in C_minus ], 'Time i+n':[ B[i].x for i in C_plus ]})\n",
    "    Hoja.index = C_minus\n",
    "    Hoja.to_excel(writer, 'Times')"
   ]
  },
  {
   "cell_type": "code",
   "execution_count": null,
   "metadata": {},
   "outputs": [],
   "source": []
  },
  {
   "cell_type": "code",
   "execution_count": null,
   "metadata": {},
   "outputs": [],
   "source": []
  },
  {
   "cell_type": "code",
   "execution_count": 39,
   "metadata": {},
   "outputs": [
    {
     "data": {
      "text/plain": [
       "(100.0, 40.0, 60.0, 10.0, 45.0)"
      ]
     },
     "execution_count": 39,
     "metadata": {},
     "output_type": "execute_result"
    }
   ],
   "source": [
    "β, ρ_0, ρ_1, P, α"
   ]
  },
  {
   "cell_type": "markdown",
   "metadata": {},
   "source": [
    "$a$"
   ]
  },
  {
   "cell_type": "code",
   "execution_count": 39,
   "metadata": {
    "cell_style": "split",
    "code_folding": [
     1
    ],
    "scrolled": true
   },
   "outputs": [
    {
     "name": "stdout",
     "output_type": "stream",
     "text": [
      "b[4,1,0].lb = 1\n",
      "b[5,0,0].lb = 1\n",
      "b[9,0,0].lb = 1\n",
      "f[15,0,0].lb = 1\n",
      "f[16,1,0].lb = 1\n",
      "f[19,0,0].lb = 1\n",
      "x[4,14,1,0].lb = 1\n",
      "x[5,15,0,0].lb = 1\n",
      "x[6,16,1,0].lb = 1\n",
      "x[8,18,1,0].lb = 1\n",
      "x[9,19,0,0].lb = 1\n",
      "x[14,8,1,0].lb = 1\n",
      "x[18,6,1,0].lb = 1\n",
      "y[0,4,1,0].lb = 1\n",
      "y[0,5,0,0].lb = 1\n",
      "y[16,21,1,0].lb = 1\n",
      "y[19,21,0,0].lb = 1\n",
      "y[4,16,1,0].lb = 1\n",
      "y[5,15,0,0].lb = 1\n",
      "y[9,19,0,0].lb = 1\n",
      "y[15,9,0,0].lb = 1\n",
      "z[0,4,1,0].lb = 1\n",
      "z[0,5,0,0].lb = 1\n",
      "z[16,21,1,0].lb = 1\n",
      "z[19,21,0,0].lb = 1\n",
      "z[15,9,0,0].lb = 1\n",
      "B[4,0].lb = 4.23\n",
      "B[5,0].lb = 2.55\n",
      "B[6,0].lb = 34.61\n",
      "B[8,0].lb = 18.64\n",
      "B[9,0].lb = 21.2\n",
      "B[14,0].lb = 5.23\n",
      "B[15,0].lb = 18.55\n",
      "B[16,0].lb = 43.61\n",
      "B[18,0].lb = 28.64\n",
      "B[19,0].lb = 22.2\n"
     ]
    }
   ],
   "source": [
    "'''Actual scale'''\n",
    "if mo.status != 3 and mo.objVal < 1e+4:\n",
    "    for v in mo.getVars():\n",
    "        if v.x > 1e-5:\n",
    "            print('%s,%s.lb = %g' % (v.varName[:-1], '0]', v.x))"
   ]
  },
  {
   "cell_type": "code",
   "execution_count": 41,
   "metadata": {
    "cell_style": "split",
    "code_folding": [
     1
    ],
    "scrolled": true
   },
   "outputs": [
    {
     "name": "stdout",
     "output_type": "stream",
     "text": [
      "b[4,0,1].lb = 1\n",
      "b[6,0,1].lb = 1\n",
      "b[9,1,1].lb = 1\n",
      "b[11,0,1].lb = 1\n",
      "b[12,1,1].lb = 1\n",
      "f[16,0,1].lb = 1\n",
      "f[18,0,1].lb = 1\n",
      "f[21,1,1].lb = 1\n",
      "f[23,0,1].lb = 1\n",
      "f[24,1,1].lb = 1\n",
      "x[4,16,0,1].lb = 1\n",
      "x[6,18,0,1].lb = 1\n",
      "x[9,21,1,1].lb = 1\n",
      "x[11,23,0,1].lb = 1\n",
      "x[12,24,1,1].lb = 1\n",
      "y[0,4,1,1].lb = 1\n",
      "y[0,9,0,1].lb = 1\n",
      "y[18,25,1,1].lb = 1\n",
      "y[24,25,0,1].lb = 1\n",
      "y[4,21,1,1].lb = 1\n",
      "y[6,24,0,1].lb = 1\n",
      "y[9,16,0,1].lb = 1\n",
      "y[11,23,0,1].lb = 1\n",
      "y[12,18,1,1].lb = 1\n",
      "y[16,11,0,1].lb = 1\n",
      "y[21,12,1,1].lb = 1\n",
      "y[23,6,0,1].lb = 1\n",
      "z[0,4,0,1].lb = 1\n",
      "z[0,9,1,1].lb = 1\n",
      "z[18,25,0,1].lb = 1\n",
      "z[24,25,1,1].lb = 1\n",
      "z[16,11,0,1].lb = 1\n",
      "z[21,12,1,1].lb = 1\n",
      "z[23,6,0,1].lb = 1\n",
      "B[4,1].lb = 4.23\n",
      "B[6,1].lb = 34.76\n",
      "B[9,1].lb = 4.32\n",
      "B[11,1].lb = 16.47\n",
      "B[12,1].lb = 22.74\n",
      "B[16,1].lb = 14.23\n",
      "B[18,1].lb = 44\n",
      "B[21,1].lb = 20.89\n",
      "B[23,1].lb = 31.47\n",
      "B[24,1].lb = 39.74\n"
     ]
    }
   ],
   "source": [
    "'''Actual scale'''\n",
    "if mo.status != 3 and mo.objVal < 1e+4:\n",
    "    for v in mo.getVars():\n",
    "        if v.x > 1e-5:\n",
    "            print('%s,%s.lb = %g' % (v.varName[:-1], '1]', v.x))"
   ]
  },
  {
   "cell_type": "markdown",
   "metadata": {},
   "source": [
    "$b$"
   ]
  },
  {
   "cell_type": "code",
   "execution_count": 41,
   "metadata": {
    "cell_style": "split",
    "code_folding": [
     1
    ],
    "scrolled": true
   },
   "outputs": [
    {
     "name": "stdout",
     "output_type": "stream",
     "text": [
      "b[4,1,0].lb = 1\n",
      "b[5,0,0].lb = 1\n",
      "b[9,0,0].lb = 1\n",
      "f[15,0,0].lb = 1\n",
      "f[16,1,0].lb = 1\n",
      "f[19,0,0].lb = 1\n",
      "x[4,14,1,0].lb = 1\n",
      "x[5,15,0,0].lb = 1\n",
      "x[6,16,1,0].lb = 1\n",
      "x[8,18,1,0].lb = 1\n",
      "x[9,19,0,0].lb = 1\n",
      "x[14,8,1,0].lb = 1\n",
      "x[18,6,1,0].lb = 1\n",
      "y[0,4,1,0].lb = 1\n",
      "y[0,5,0,0].lb = 1\n",
      "y[16,21,1,0].lb = 1\n",
      "y[19,21,0,0].lb = 1\n",
      "y[4,16,1,0].lb = 1\n",
      "y[5,15,0,0].lb = 1\n",
      "y[9,19,0,0].lb = 1\n",
      "y[15,9,0,0].lb = 1\n",
      "z[0,4,1,0].lb = 1\n",
      "z[0,5,0,0].lb = 1\n",
      "z[16,21,1,0].lb = 1\n",
      "z[19,21,0,0].lb = 1\n",
      "z[15,9,0,0].lb = 1\n",
      "B[4,0].lb = 4.23\n",
      "B[5,0].lb = 2.55\n",
      "B[6,0].lb = 34.61\n",
      "B[8,0].lb = 18.64\n",
      "B[9,0].lb = 21.2\n",
      "B[14,0].lb = 5.23\n",
      "B[15,0].lb = 18.55\n",
      "B[16,0].lb = 43.61\n",
      "B[18,0].lb = 28.64\n",
      "B[19,0].lb = 22.2\n"
     ]
    }
   ],
   "source": [
    "'''Actual scale'''\n",
    "if mo.status != 3 and mo.objVal < 1e+4:\n",
    "    for v in mo.getVars():\n",
    "        if v.x > 1e-5:\n",
    "            print('%s,%s.lb = %g' % (v.varName[:-1], '0]', v.x))"
   ]
  },
  {
   "cell_type": "code",
   "execution_count": 42,
   "metadata": {
    "cell_style": "split",
    "code_folding": [
     1
    ],
    "scrolled": true
   },
   "outputs": [
    {
     "name": "stdout",
     "output_type": "stream",
     "text": [
      "b[4,1,1].lb = 1\n",
      "b[5,0,1].lb = 1\n",
      "b[9,0,1].lb = 1\n",
      "f[15,0,1].lb = 1\n",
      "f[16,1,1].lb = 1\n",
      "f[19,0,1].lb = 1\n",
      "x[4,14,1,1].lb = 1\n",
      "x[5,15,0,1].lb = 1\n",
      "x[6,16,1,1].lb = 1\n",
      "x[8,18,1,1].lb = 1\n",
      "x[9,19,0,1].lb = 1\n",
      "x[14,8,1,1].lb = 1\n",
      "x[18,6,1,1].lb = 1\n",
      "y[0,4,1,1].lb = 1\n",
      "y[0,5,0,1].lb = 1\n",
      "y[16,21,1,1].lb = 1\n",
      "y[19,21,0,1].lb = 1\n",
      "y[4,16,1,1].lb = 1\n",
      "y[5,15,0,1].lb = 1\n",
      "y[9,19,0,1].lb = 1\n",
      "y[15,9,0,1].lb = 1\n",
      "z[0,4,1,1].lb = 1\n",
      "z[0,5,0,1].lb = 1\n",
      "z[16,21,1,1].lb = 1\n",
      "z[19,21,0,1].lb = 1\n",
      "z[15,9,0,1].lb = 1\n",
      "B[4,1].lb = 4.23\n",
      "B[5,1].lb = 2.55\n",
      "B[6,1].lb = 34.61\n",
      "B[8,1].lb = 18.64\n",
      "B[9,1].lb = 21.2\n",
      "B[14,1].lb = 5.23\n",
      "B[15,1].lb = 18.55\n",
      "B[16,1].lb = 43.61\n",
      "B[18,1].lb = 28.64\n",
      "B[19,1].lb = 22.2\n"
     ]
    }
   ],
   "source": [
    "'''Actual scale'''\n",
    "if mo.status != 3 and mo.objVal < 1e+4:\n",
    "    for v in mo.getVars():\n",
    "        if v.x > 1e-5:\n",
    "            print('%s,%s.lb = %g' % (v.varName[:-1], '1]', v.x))"
   ]
  },
  {
   "cell_type": "markdown",
   "metadata": {},
   "source": [
    "$c$"
   ]
  },
  {
   "cell_type": "code",
   "execution_count": 39,
   "metadata": {
    "cell_style": "split",
    "code_folding": [
     1
    ],
    "scrolled": true
   },
   "outputs": [
    {
     "name": "stdout",
     "output_type": "stream",
     "text": [
      "b[11,1,0].lb = 1\n",
      "b[14,0,0].lb = 1\n",
      "f[27,1,0].lb = 1\n",
      "f[28,0,0].lb = 1\n",
      "x[9,23,1,0].lb = 1\n",
      "x[11,25,1,0].lb = 1\n",
      "x[13,27,1,0].lb = 1\n",
      "x[14,28,0,0].lb = 1\n",
      "x[23,13,1,0].lb = 1\n",
      "x[25,9,1,0].lb = 1\n",
      "y[0,11,0,0].lb = 1\n",
      "y[0,14,1,0].lb = 1\n",
      "y[27,29,0,0].lb = 1\n",
      "y[28,29,1,0].lb = 1\n",
      "y[11,27,0,0].lb = 1\n",
      "y[14,28,1,0].lb = 1\n",
      "z[0,11,1,0].lb = 1\n",
      "z[0,14,0,0].lb = 1\n",
      "z[27,29,1,0].lb = 1\n",
      "z[28,29,0,0].lb = 1\n",
      "B[9,0].lb = 16.18\n",
      "B[11,0].lb = 4.51\n",
      "B[13,0].lb = 23.81\n",
      "B[14,0].lb = 4.51\n",
      "B[23,0].lb = 18.18\n",
      "B[25,0].lb = 13.51\n",
      "B[27,0].lb = 36.81\n",
      "B[28,0].lb = 23.51\n"
     ]
    }
   ],
   "source": [
    "'''Actual scale'''\n",
    "if mo.status != 3 and mo.objVal < 1e+4:\n",
    "    for v in mo.getVars():\n",
    "        if v.x > 1e-5:\n",
    "            print('%s,%s.lb = %g' % (v.varName[:-1], '0]', v.x))"
   ]
  },
  {
   "cell_type": "code",
   "execution_count": 40,
   "metadata": {
    "cell_style": "split",
    "code_folding": [
     1
    ],
    "scrolled": true
   },
   "outputs": [
    {
     "name": "stdout",
     "output_type": "stream",
     "text": [
      "b[11,1,1].lb = 1\n",
      "b[14,0,1].lb = 1\n",
      "f[27,1,1].lb = 1\n",
      "f[28,0,1].lb = 1\n",
      "x[9,23,1,1].lb = 1\n",
      "x[11,25,1,1].lb = 1\n",
      "x[13,27,1,1].lb = 1\n",
      "x[14,28,0,1].lb = 1\n",
      "x[23,13,1,1].lb = 1\n",
      "x[25,9,1,1].lb = 1\n",
      "y[0,11,0,1].lb = 1\n",
      "y[0,14,1,1].lb = 1\n",
      "y[27,29,0,1].lb = 1\n",
      "y[28,29,1,1].lb = 1\n",
      "y[11,27,0,1].lb = 1\n",
      "y[14,28,1,1].lb = 1\n",
      "z[0,11,1,1].lb = 1\n",
      "z[0,14,0,1].lb = 1\n",
      "z[27,29,1,1].lb = 1\n",
      "z[28,29,0,1].lb = 1\n",
      "B[9,1].lb = 16.18\n",
      "B[11,1].lb = 4.51\n",
      "B[13,1].lb = 23.81\n",
      "B[14,1].lb = 4.51\n",
      "B[23,1].lb = 18.18\n",
      "B[25,1].lb = 13.51\n",
      "B[27,1].lb = 36.81\n",
      "B[28,1].lb = 23.51\n"
     ]
    }
   ],
   "source": [
    "'''Actual scale'''\n",
    "if mo.status != 3 and mo.objVal < 1e+4:\n",
    "    for v in mo.getVars():\n",
    "        if v.x > 1e-5:\n",
    "            print('%s,%s.lb = %g' % (v.varName[:-1], '1]', v.x))"
   ]
  },
  {
   "cell_type": "markdown",
   "metadata": {},
   "source": [
    "$d$"
   ]
  },
  {
   "cell_type": "code",
   "execution_count": 39,
   "metadata": {
    "cell_style": "split",
    "code_folding": [
     1
    ],
    "scrolled": true
   },
   "outputs": [
    {
     "name": "stdout",
     "output_type": "stream",
     "text": [
      "b[1,0,0].lb = 1\n",
      "b[3,1,0].lb = 1\n",
      "f[15,0,0].lb = 1\n",
      "f[16,1,0].lb = 1\n",
      "x[1,15,0,0].lb = 1\n",
      "x[2,16,1,0].lb = 1\n",
      "x[3,17,1,0].lb = 1\n",
      "x[17,2,1,0].lb = 1\n",
      "y[0,1,0,0].lb = 1\n",
      "y[0,3,1,0].lb = 1\n",
      "y[15,29,0,0].lb = 1\n",
      "y[16,29,1,0].lb = 1\n",
      "y[1,15,0,0].lb = 1\n",
      "y[3,16,1,0].lb = 1\n",
      "z[0,1,0,0].lb = 1\n",
      "z[0,3,1,0].lb = 1\n",
      "z[15,29,0,0].lb = 1\n",
      "z[16,29,1,0].lb = 1\n",
      "B[1,0].lb = 3.69\n",
      "B[2,0].lb = 19.79\n",
      "B[3,0].lb = 3.42\n",
      "B[15,0].lb = 19.69\n",
      "B[16,0].lb = 28.79\n",
      "B[17,0].lb = 18.42\n"
     ]
    }
   ],
   "source": [
    "'''Actual scale'''\n",
    "if mo.status != 3 and mo.objVal < 1e+4:\n",
    "    for v in mo.getVars():\n",
    "        if v.x > 1e-5:\n",
    "            print('%s,%s.lb = %g' % (v.varName[:-1], '0]', v.x))"
   ]
  },
  {
   "cell_type": "code",
   "execution_count": 40,
   "metadata": {
    "cell_style": "split",
    "code_folding": [
     1
    ],
    "scrolled": true
   },
   "outputs": [
    {
     "name": "stdout",
     "output_type": "stream",
     "text": [
      "b[1,0,1].lb = 1\n",
      "b[3,1,1].lb = 1\n",
      "f[15,0,1].lb = 1\n",
      "f[16,1,1].lb = 1\n",
      "x[1,15,0,1].lb = 1\n",
      "x[2,16,1,1].lb = 1\n",
      "x[3,17,1,1].lb = 1\n",
      "x[17,2,1,1].lb = 1\n",
      "y[0,1,0,1].lb = 1\n",
      "y[0,3,1,1].lb = 1\n",
      "y[15,29,0,1].lb = 1\n",
      "y[16,29,1,1].lb = 1\n",
      "y[1,15,0,1].lb = 1\n",
      "y[3,16,1,1].lb = 1\n",
      "z[0,1,0,1].lb = 1\n",
      "z[0,3,1,1].lb = 1\n",
      "z[15,29,0,1].lb = 1\n",
      "z[16,29,1,1].lb = 1\n",
      "B[1,1].lb = 3.69\n",
      "B[2,1].lb = 19.79\n",
      "B[3,1].lb = 3.42\n",
      "B[15,1].lb = 19.69\n",
      "B[16,1].lb = 28.79\n",
      "B[17,1].lb = 18.42\n"
     ]
    }
   ],
   "source": [
    "'''Actual scale'''\n",
    "if mo.status != 3 and mo.objVal < 1e+4:\n",
    "    for v in mo.getVars():\n",
    "        if v.x > 1e-5:\n",
    "            print('%s,%s.lb = %g' % (v.varName[:-1], '1]', v.x))"
   ]
  },
  {
   "cell_type": "code",
   "execution_count": null,
   "metadata": {},
   "outputs": [],
   "source": []
  },
  {
   "cell_type": "code",
   "execution_count": null,
   "metadata": {},
   "outputs": [],
   "source": []
  },
  {
   "cell_type": "code",
   "execution_count": null,
   "metadata": {},
   "outputs": [],
   "source": []
  },
  {
   "cell_type": "code",
   "execution_count": null,
   "metadata": {},
   "outputs": [],
   "source": []
  },
  {
   "cell_type": "code",
   "execution_count": null,
   "metadata": {},
   "outputs": [],
   "source": []
  },
  {
   "cell_type": "code",
   "execution_count": 80,
   "metadata": {
    "cell_style": "split",
    "collapsed": true
   },
   "outputs": [
    {
     "name": "stdout",
     "output_type": "stream",
     "text": [
      "b[1,1,0].lb = 1\n",
      "b[2,0,0].lb = 1\n",
      "b[3,2,0].lb = 1\n",
      "b[6,0,0].lb = 1\n",
      "b[7,1,0].lb = 1\n",
      "b[8,0,0].lb = 1\n",
      "b[9,2,0].lb = 1\n",
      "b[12,1,0].lb = 1\n",
      "b[14,2,0].lb = 1\n",
      "b[17,2,0].lb = 1\n",
      "b[19,0,0].lb = 1\n",
      "f[21,1,0].lb = 1\n",
      "f[22,0,0].lb = 1\n",
      "f[23,2,0].lb = 1\n",
      "f[26,0,0].lb = 1\n",
      "f[27,1,0].lb = 1\n",
      "f[28,0,0].lb = 1\n",
      "f[29,2,0].lb = 1\n",
      "f[32,1,0].lb = 1\n",
      "f[34,2,0].lb = 1\n",
      "f[37,2,0].lb = 1\n",
      "f[39,0,0].lb = 1\n",
      "x[1,21,1,0].lb = 1\n",
      "x[2,22,0,0].lb = 1\n",
      "x[3,23,2,0].lb = 1\n",
      "x[6,26,0,0].lb = 1\n",
      "x[7,27,1,0].lb = 1\n",
      "x[8,28,0,0].lb = 1\n",
      "x[9,29,2,0].lb = 1\n",
      "x[12,32,1,0].lb = 1\n",
      "x[14,34,2,0].lb = 1\n",
      "x[17,37,2,0].lb = 1\n",
      "x[19,39,0,0].lb = 1\n",
      "y[0,6,0,0].lb = 1\n",
      "y[0,39,1,0].lb = 1\n",
      "y[28,41,0,0].lb = 1\n",
      "y[37,41,1,0].lb = 1\n",
      "y[1,37,1,0].lb = 1\n",
      "y[2,27,1,0].lb = 1\n",
      "y[3,23,0,0].lb = 1\n",
      "y[6,7,0,0].lb = 1\n",
      "y[7,26,0,0].lb = 1\n",
      "y[8,12,0,0].lb = 1\n",
      "y[9,2,1,0].lb = 1\n",
      "y[12,34,0,0].lb = 1\n",
      "y[14,21,0,0].lb = 1\n",
      "y[17,32,0,0].lb = 1\n",
      "y[19,29,0,0].lb = 1\n",
      "y[21,22,0,0].lb = 1\n",
      "y[22,8,0,0].lb = 1\n",
      "y[23,17,0,0].lb = 1\n",
      "y[26,19,0,0].lb = 1\n",
      "y[27,1,1,0].lb = 1\n",
      "y[29,14,0,0].lb = 1\n",
      "y[32,28,0,0].lb = 1\n",
      "y[34,3,0,0].lb = 1\n",
      "y[39,9,1,0].lb = 1\n",
      "z[0,6,0,0].lb = 1\n",
      "z[0,6,1,0].lb = 1\n",
      "z[0,39,2,0].lb = 1\n",
      "z[28,41,0,0].lb = 1\n",
      "z[28,41,1,0].lb = 1\n",
      "z[37,41,2,0].lb = 1\n",
      "z[6,7,1,0].lb = 1\n",
      "z[8,12,1,0].lb = 1\n",
      "z[9,2,0,0].lb = 1\n",
      "z[21,22,1,0].lb = 1\n",
      "z[22,8,0,0].lb = 1\n",
      "z[22,8,1,0].lb = 1\n",
      "z[23,17,2,0].lb = 1\n",
      "z[26,19,0,0].lb = 1\n",
      "z[27,1,1,0].lb = 1\n",
      "z[29,14,2,0].lb = 1\n",
      "z[32,28,1,0].lb = 1\n",
      "z[34,3,2,0].lb = 1\n",
      "z[39,9,0,0].lb = 1\n",
      "z[39,9,2,0].lb = 1\n",
      "B[1,0].lb = 24.42\n",
      "B[2,0].lb = 18.02\n",
      "B[3,0].lb = 47.85\n",
      "B[6,0].lb = 3.59\n",
      "B[7,0].lb = 6.53\n",
      "B[8,0].lb = 39.77\n",
      "B[9,0].lb = 17.02\n",
      "B[12,0].lb = 41.56\n",
      "B[14,0].lb = 34.66\n",
      "B[17,0].lb = 52.27\n",
      "B[19,0].lb = 15\n",
      "B[21,0].lb = 37.42\n",
      "B[22,0].lb = 39.2\n",
      "B[23,0].lb = 49.85\n",
      "B[26,0].lb = 11.59\n",
      "B[27,0].lb = 20.23\n",
      "B[28,0].lb = 64.87\n",
      "B[29,0].lb = 31.24\n",
      "B[32,0].lb = 62.79\n",
      "B[34,0].lb = 45.36\n",
      "B[37,0].lb = 57.27\n",
      "B[39,0].lb = 16\n"
     ]
    }
   ],
   "source": [
    "'''Actual scale'''\n",
    "if mo.status != 3 and mo.objVal < 1e+4:\n",
    "    for v in mo.getVars():\n",
    "        if v.x > 1e-5:\n",
    "            print('%s,%s.lb = %g' % (v.varName[:-1], '0]', v.x))"
   ]
  },
  {
   "cell_type": "code",
   "execution_count": 108,
   "metadata": {
    "cell_style": "split",
    "collapsed": true
   },
   "outputs": [
    {
     "name": "stdout",
     "output_type": "stream",
     "text": [
      "b[1,0].start = 1\n",
      "b[2,0].start = 1\n",
      "b[3,0].start = 1\n",
      "b[4,0].start = 1\n",
      "b[5,0].start = 1\n",
      "b[6,0].start = 1\n",
      "b[8,0].start = 1\n",
      "b[10,0].start = 1\n",
      "b[11,0].start = 1\n",
      "f[12,0].start = 1\n",
      "f[13,0].start = 1\n",
      "f[14,0].start = 1\n",
      "f[15,0].start = 1\n",
      "f[16,0].start = 1\n",
      "f[17,0].start = 1\n",
      "f[19,0].start = 1\n",
      "f[20,0].start = 1\n",
      "f[22,0].start = 1\n",
      "x[1,12,0].start = 1\n",
      "x[2,13,0].start = 1\n",
      "x[3,14,0].start = 1\n",
      "x[4,15,0].start = 1\n",
      "x[5,16,0].start = 1\n",
      "x[6,17,0].start = 1\n",
      "x[7,18,0].start = 1\n",
      "x[8,19,0].start = 1\n",
      "x[9,20,0].start = 1\n",
      "x[10,21,0].start = 1\n",
      "x[11,22,0].start = 1\n",
      "x[18,9,0].start = 1\n",
      "x[21,7,0].start = 1\n",
      "y[0,3,0].start = 1\n",
      "y[16,23,0].start = 1\n",
      "y[1,12,0].start = 1\n",
      "y[2,13,0].start = 1\n",
      "y[3,14,0].start = 1\n",
      "y[4,15,0].start = 1\n",
      "y[5,16,0].start = 1\n",
      "y[6,17,0].start = 1\n",
      "y[8,19,0].start = 1\n",
      "y[10,20,0].start = 1\n",
      "y[11,22,0].start = 1\n",
      "y[12,10,0].start = 1\n",
      "y[13,8,0].start = 1\n",
      "y[14,2,0].start = 1\n",
      "y[15,11,0].start = 1\n",
      "y[17,1,0].start = 1\n",
      "y[19,4,0].start = 1\n",
      "y[20,5,0].start = 1\n",
      "y[22,6,0].start = 1\n",
      "z[0,3,0].start = 1\n",
      "z[16,23,0].start = 1\n",
      "z[12,10,0].start = 1\n",
      "z[13,8,0].start = 1\n",
      "z[14,2,0].start = 1\n",
      "z[15,11,0].start = 1\n",
      "z[17,1,0].start = 1\n",
      "z[19,4,0].start = 1\n",
      "z[20,5,0].start = 1\n",
      "z[22,6,0].start = 1\n",
      "B[1].start = 73.21\n",
      "B[2].start = 7.42\n",
      "B[3].start = 3.41\n",
      "B[4].start = 33.85\n",
      "B[5].start = 124.06\n",
      "B[6].start = 47.73\n",
      "B[7].start = 100.48\n",
      "B[8].start = 25.63\n",
      "B[9].start = 120.16\n",
      "B[10].start = 88.39\n",
      "B[11].start = 45.26\n",
      "B[12].start = 86.21\n",
      "B[13].start = 23.42\n",
      "B[14].start = 5.41\n",
      "B[15].start = 41.85\n",
      "B[16].start = 137.06\n",
      "B[17].start = 66.73\n",
      "B[18].start = 102.48\n",
      "B[19].start = 31.63\n",
      "B[20].start = 123.16\n",
      "B[21].start = 93.39\n",
      "B[22].start = 46.26\n"
     ]
    }
   ],
   "source": [
    "'''Actual scale'''\n",
    "if mo.status != 3 and mo.objVal < 1e+4:\n",
    "    for v in mo.getVars():\n",
    "        if v.x > 1e-5:\n",
    "            print('%s.start = %g' % (v.varName, v.x))"
   ]
  },
  {
   "cell_type": "markdown",
   "metadata": {},
   "source": [
    "---"
   ]
  }
 ],
 "metadata": {
  "kernelspec": {
   "display_name": "A - Python 3",
   "language": "python",
   "name": "python3"
  },
  "language_info": {
   "codemirror_mode": {
    "name": "ipython",
    "version": 3
   },
   "file_extension": ".py",
   "mimetype": "text/x-python",
   "name": "python",
   "nbconvert_exporter": "python",
   "pygments_lexer": "ipython3",
   "version": "3.10.14"
  },
  "nbTranslate": {
   "displayLangs": [
    "*"
   ],
   "hotkey": "alt-t",
   "langInMainMenu": true,
   "sourceLang": "en",
   "targetLang": "fr",
   "useGoogleTranslate": true
  }
 },
 "nbformat": 4,
 "nbformat_minor": 2
}
