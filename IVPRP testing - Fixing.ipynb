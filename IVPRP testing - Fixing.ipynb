{
 "cells": [
  {
   "cell_type": "markdown",
   "metadata": {},
   "source": [
    "# Integrated model for routing pollsters and vehicles"
   ]
  },
  {
   "cell_type": "markdown",
   "metadata": {},
   "source": [
    "<div class=\"alert alert-block alert-info\">\n",
    "This notebook contains the code to build and solve the Integrated Vehicles and Polsters Routing Problem (IVPRP). \n",
    "</div>"
   ]
  },
  {
   "cell_type": "code",
   "execution_count": 1,
   "metadata": {},
   "outputs": [],
   "source": [
    "from gurobipy import *"
   ]
  },
  {
   "cell_type": "code",
   "execution_count": 2,
   "metadata": {
    "code_folding": [
     0
    ]
   },
   "outputs": [],
   "source": [
    "# Packages\n",
    "import numpy  as np\n",
    "import pandas as pd\n",
    "import time\n",
    "from collections import deque"
   ]
  },
  {
   "cell_type": "code",
   "execution_count": 3,
   "metadata": {
    "code_folding": [
     0
    ]
   },
   "outputs": [],
   "source": [
    "# Aliases\n",
    "append, arange, around, asarray, loadtxt, zeros = np.append, np.arange, np.around, np.asarray, np.loadtxt, np.zeros\n",
    "DataFrame, concat = pd.DataFrame, pd.concat"
   ]
  },
  {
   "cell_type": "code",
   "execution_count": 4,
   "metadata": {
    "code_folding": [
     0
    ]
   },
   "outputs": [],
   "source": [
    "# General functions for reading and writing\n",
    "def Reader(nom):    return loadtxt('Instances/'+ nom + '.txt' )\n",
    "def P_Reader(n):    return  Reader('Pollster_' + str(n))\n",
    "def V_Reader(n):    return  Reader( 'Vehicle_' + str(n))\n",
    "def S_Reader(n):    return  Reader( 'Service_' + str(n))\n",
    "def T_Reader(n):    return  Reader(    'Time_' + str(n))\n",
    "\n",
    "def Write(df,nom):  return DataFrame(df).to_csv('Instances/'+ nom +'.txt', header=None, index=None, sep=' ', mode='a')"
   ]
  },
  {
   "cell_type": "markdown",
   "metadata": {},
   "source": [
    "## Basics"
   ]
  },
  {
   "cell_type": "markdown",
   "metadata": {},
   "source": [
    "<div class=\"alert alert-block alert-warning\">\n",
    "First, basic data is registered:\n",
    "    \n",
    "* $n$ is the number of stores to be visited,\n",
    "* $E$ is the set of available pollsters,\n",
    "* $K$ is the set of available vehicles,\n",
    "* $Q$ is the vehicle's capacity,\n",
    "* $S$ is the number of days.\n",
    "</div>"
   ]
  },
  {
   "cell_type": "code",
   "execution_count": 5,
   "metadata": {},
   "outputs": [],
   "source": [
    "n = 50\n",
    "E = arange(5);    K = arange(3);    Q = min(4,E.size);    S = arange(15)"
   ]
  },
  {
   "cell_type": "markdown",
   "metadata": {},
   "source": [
    "<div class=\"alert alert-block alert-success\">\n",
    "Now we read the data associated with the instance.\n",
    "</div>"
   ]
  },
  {
   "cell_type": "code",
   "execution_count": 6,
   "metadata": {},
   "outputs": [],
   "source": [
    "Service  = S_Reader(n)\n",
    "Poll     = P_Reader(n)\n",
    "Vehicles = V_Reader(n)\n",
    "Time     = T_Reader(n)"
   ]
  },
  {
   "cell_type": "markdown",
   "metadata": {},
   "source": [
    "<div class=\"alert alert-block alert-warning\">\n",
    "The read matrices are processed:\n",
    "    \n",
    "* $d$ captures pollstering times,\n",
    "* $t$ is the time that a pollster takes to walk among pairs of stores,\n",
    "* $\\tau$ is the time that vehicles take to move between pairs of stores,\n",
    "\n",
    "* $[\\rho_0,\\rho_1]$ is the time window for breaks,\n",
    "* $P$ is the length of the pause,\n",
    "* $\\beta$ is the time horizon limit.\n",
    "</div>"
   ]
  },
  {
   "cell_type": "code",
   "execution_count": 7,
   "metadata": {},
   "outputs": [],
   "source": [
    "d = append(around(Service, 2), 0.0)\n",
    "t = around(Poll, 2)\n",
    "τ = around(Vehicles, 2)\n",
    "ρ_0, ρ_1, P, β = Time.ravel()"
   ]
  },
  {
   "cell_type": "code",
   "execution_count": 8,
   "metadata": {},
   "outputs": [
    {
     "data": {
      "text/plain": [
       "1126.0"
      ]
     },
     "execution_count": 8,
     "metadata": {},
     "output_type": "execute_result"
    }
   ],
   "source": [
    "d[1:-1].sum()"
   ]
  },
  {
   "cell_type": "code",
   "execution_count": 9,
   "metadata": {},
   "outputs": [
    {
     "data": {
      "text/plain": [
       "25.0"
      ]
     },
     "execution_count": 9,
     "metadata": {},
     "output_type": "execute_result"
    }
   ],
   "source": [
    "P"
   ]
  },
  {
   "cell_type": "markdown",
   "metadata": {},
   "source": [
    "<div class=\"alert alert-block alert-warning\">\n",
    "At last costs are fixed:\n",
    "    \n",
    "* $\\kappa_0$ is the daily cost of operations,\n",
    "* $\\kappa_1$ is the cost of hiring a vehicle,\n",
    "* $\\kappa_2$ is the cost of hiring a pollster.\n",
    "</div>"
   ]
  },
  {
   "cell_type": "code",
   "execution_count": 10,
   "metadata": {},
   "outputs": [],
   "source": [
    "κ_0 = 200.0\n",
    "κ_1 = 100.0\n",
    "κ_2 = 40.0"
   ]
  },
  {
   "cell_type": "code",
   "execution_count": null,
   "metadata": {},
   "outputs": [],
   "source": []
  },
  {
   "cell_type": "code",
   "execution_count": 11,
   "metadata": {},
   "outputs": [
    {
     "data": {
      "text/html": [
       "<div>\n",
       "<style scoped>\n",
       "    .dataframe tbody tr th:only-of-type {\n",
       "        vertical-align: middle;\n",
       "    }\n",
       "\n",
       "    .dataframe tbody tr th {\n",
       "        vertical-align: top;\n",
       "    }\n",
       "\n",
       "    .dataframe thead th {\n",
       "        text-align: right;\n",
       "    }\n",
       "</style>\n",
       "<table border=\"1\" class=\"dataframe\">\n",
       "  <thead>\n",
       "    <tr style=\"text-align: right;\">\n",
       "      <th></th>\n",
       "      <th>0</th>\n",
       "      <th>1</th>\n",
       "      <th>2</th>\n",
       "      <th>3</th>\n",
       "      <th>4</th>\n",
       "      <th>5</th>\n",
       "      <th>6</th>\n",
       "      <th>7</th>\n",
       "      <th>8</th>\n",
       "      <th>9</th>\n",
       "      <th>...</th>\n",
       "      <th>40</th>\n",
       "      <th>41</th>\n",
       "      <th>42</th>\n",
       "      <th>43</th>\n",
       "      <th>44</th>\n",
       "      <th>45</th>\n",
       "      <th>46</th>\n",
       "      <th>47</th>\n",
       "      <th>48</th>\n",
       "      <th>49</th>\n",
       "    </tr>\n",
       "  </thead>\n",
       "  <tbody>\n",
       "    <tr>\n",
       "      <th>0</th>\n",
       "      <td></td>\n",
       "      <td></td>\n",
       "      <td></td>\n",
       "      <td></td>\n",
       "      <td></td>\n",
       "      <td></td>\n",
       "      <td></td>\n",
       "      <td></td>\n",
       "      <td></td>\n",
       "      <td></td>\n",
       "      <td>...</td>\n",
       "      <td></td>\n",
       "      <td></td>\n",
       "      <td></td>\n",
       "      <td></td>\n",
       "      <td></td>\n",
       "      <td></td>\n",
       "      <td></td>\n",
       "      <td></td>\n",
       "      <td></td>\n",
       "      <td></td>\n",
       "    </tr>\n",
       "    <tr>\n",
       "      <th>1</th>\n",
       "      <td></td>\n",
       "      <td></td>\n",
       "      <td></td>\n",
       "      <td></td>\n",
       "      <td></td>\n",
       "      <td></td>\n",
       "      <td></td>\n",
       "      <td></td>\n",
       "      <td></td>\n",
       "      <td></td>\n",
       "      <td>...</td>\n",
       "      <td></td>\n",
       "      <td></td>\n",
       "      <td></td>\n",
       "      <td></td>\n",
       "      <td></td>\n",
       "      <td></td>\n",
       "      <td></td>\n",
       "      <td></td>\n",
       "      <td></td>\n",
       "      <td></td>\n",
       "    </tr>\n",
       "    <tr>\n",
       "      <th>2</th>\n",
       "      <td></td>\n",
       "      <td></td>\n",
       "      <td></td>\n",
       "      <td></td>\n",
       "      <td></td>\n",
       "      <td></td>\n",
       "      <td></td>\n",
       "      <td></td>\n",
       "      <td></td>\n",
       "      <td></td>\n",
       "      <td>...</td>\n",
       "      <td></td>\n",
       "      <td></td>\n",
       "      <td></td>\n",
       "      <td></td>\n",
       "      <td></td>\n",
       "      <td></td>\n",
       "      <td></td>\n",
       "      <td></td>\n",
       "      <td></td>\n",
       "      <td></td>\n",
       "    </tr>\n",
       "    <tr>\n",
       "      <th>3</th>\n",
       "      <td></td>\n",
       "      <td></td>\n",
       "      <td></td>\n",
       "      <td></td>\n",
       "      <td></td>\n",
       "      <td></td>\n",
       "      <td></td>\n",
       "      <td></td>\n",
       "      <td></td>\n",
       "      <td></td>\n",
       "      <td>...</td>\n",
       "      <td></td>\n",
       "      <td></td>\n",
       "      <td></td>\n",
       "      <td></td>\n",
       "      <td></td>\n",
       "      <td></td>\n",
       "      <td></td>\n",
       "      <td></td>\n",
       "      <td></td>\n",
       "      <td></td>\n",
       "    </tr>\n",
       "    <tr>\n",
       "      <th>4</th>\n",
       "      <td></td>\n",
       "      <td></td>\n",
       "      <td></td>\n",
       "      <td></td>\n",
       "      <td></td>\n",
       "      <td></td>\n",
       "      <td></td>\n",
       "      <td></td>\n",
       "      <td></td>\n",
       "      <td></td>\n",
       "      <td>...</td>\n",
       "      <td></td>\n",
       "      <td></td>\n",
       "      <td></td>\n",
       "      <td></td>\n",
       "      <td></td>\n",
       "      <td></td>\n",
       "      <td></td>\n",
       "      <td></td>\n",
       "      <td></td>\n",
       "      <td></td>\n",
       "    </tr>\n",
       "  </tbody>\n",
       "</table>\n",
       "<p>5 rows × 50 columns</p>\n",
       "</div>"
      ],
      "text/plain": [
       "  0  1  2  3  4  5  6  7  8  9   ... 40 41 42 43 44 45 46 47 48 49\n",
       "0                                ...                              \n",
       "1                                ...                              \n",
       "2                                ...                              \n",
       "3                                ...                              \n",
       "4                                ...                              \n",
       "\n",
       "[5 rows x 50 columns]"
      ]
     },
     "execution_count": 11,
     "metadata": {},
     "output_type": "execute_result"
    }
   ],
   "source": [
    "DataFrame(1*(t < τ[1:,1:])).replace({0:''}).head()"
   ]
  },
  {
   "cell_type": "markdown",
   "metadata": {},
   "source": [
    "Finding an upper bound:"
   ]
  },
  {
   "cell_type": "markdown",
   "metadata": {},
   "source": [
    "\\begin{align}\n",
    "    &\\min_{(e\\in E, k\\in K, s\\in S)} \\kappa_0 (s+1) + \\kappa_1 (k+1)(s+1) + \\kappa_{2} (e+1)(s+1)\n",
    "    \\\\\n",
    "    \\text{subject to} \\qquad &\n",
    "    \\\\\n",
    "    & \\dfrac{\\left( \\sum_{i\\in C_-} t_{i,i+n} + (e+1) \\times (s+1) \\times P \\right)}{(e+1)\\times (s+1)} + \\dfrac{ \\left( \\sum \\max_{i} \\tau_{} + \\max_{j} \\tau \\right) }{ (k+1) \\times (s+1) } \\leq B_{\\max}\n",
    "    \\\\\n",
    "    & (e+1) \\leq Q (k+1)\n",
    "\\end{align}"
   ]
  },
  {
   "cell_type": "code",
   "execution_count": 12,
   "metadata": {
    "scrolled": true
   },
   "outputs": [
    {
     "name": "stdout",
     "output_type": "stream",
     "text": [
      "\n",
      "\n",
      "At most there should be 5 pollsters, 3 vehicles, and 2 days.\n"
     ]
    }
   ],
   "source": [
    "Feas = {(e+1,k+1,s+1): (d.sum() + (e+1)*(s+1)*P)/((e+1)*(s+1)) \n",
    "            + (τ.max(axis=0) + τ.max(axis=1)).sum()/((k+1)*(s+1)*(1)) for e in E for k in K for s in S}\n",
    "#{(e+1,k+1,s+1): (d.sum() + (e+1)*(s+1)*P)/((e+1)*(s+1)) + τ.sum()/((k+1)*(s+1)*(e+2)) for e in E for k in K for s in S}\n",
    "#print({aa: (around(bb,2), bb < β) for aa,bb in Feas.items()})\n",
    "print('')\n",
    "Feas = {aa: κ_2 * aa[0] * aa[2] + κ_1 * aa[1] * aa[2] + κ_0 * aa[2] for aa,bb in Feas.items() if (bb < β) and (aa[1] <= aa[0] <= Q * (aa[1]))}\n",
    "mE, mK, mS = min(Feas, key=Feas.get)\n",
    "#print(Feas)\n",
    "print('\\nAt most there should be',mE,'pollsters,',mK,'vehicles, and',mS,'days.')"
   ]
  },
  {
   "cell_type": "code",
   "execution_count": 13,
   "metadata": {},
   "outputs": [],
   "source": [
    "E = arange(mE);    K = arange(mK);    S = arange(mS)"
   ]
  },
  {
   "cell_type": "markdown",
   "metadata": {},
   "source": [
    "## Graph"
   ]
  },
  {
   "cell_type": "markdown",
   "metadata": {},
   "source": [
    "<div class=\"alert alert-block alert-warning\">\n",
    "The multigraph is built.\n",
    "</div>"
   ]
  },
  {
   "cell_type": "code",
   "execution_count": 14,
   "metadata": {},
   "outputs": [],
   "source": [
    "m = 2*n\n",
    "\n",
    "# Domain for vehicles.                         Graph size:    (2*n) * (n + 1) + (2*n-1) * n = 4*(n**2) + n\n",
    "dom_v  = [ (0,j)   for j in range(1,m+1) ] \n",
    "dom_v += [ (j,m+1) for j in range(1,m+1) ]\n",
    "dom_v += [ (i,j)   for i in range(1,m+1) for j in range(1,m+1) if j not in [i,i-n]]\n",
    "\n",
    "# Domain for pollsters.                        Graph size:    (n-1)**2 + (n-1) + n = n**2\n",
    "dom_e  = [ (i,i+n) for i in range(  1,n+1) ]\n",
    "dom_e += [ (i,j)   for i in range(1+n,m+1) for j in range(1,n+1) if j!=i-n ]"
   ]
  },
  {
   "cell_type": "code",
   "execution_count": 15,
   "metadata": {},
   "outputs": [],
   "source": [
    "C_minus, C_plus, C_0, C_m, C = range(1,n+1), range(n+1,2*n+1),  range(0,n+1), range(1,2*n+2),  range(1,2*n+1)"
   ]
  },
  {
   "cell_type": "markdown",
   "metadata": {},
   "source": [
    "## Integer Programming Model"
   ]
  },
  {
   "cell_type": "markdown",
   "metadata": {},
   "source": [
    "<div class=\"alert alert-block alert-warning\">\n",
    "Now we are ready to build the IP model for IVPRP.\n",
    "</div>"
   ]
  },
  {
   "cell_type": "code",
   "execution_count": 16,
   "metadata": {},
   "outputs": [
    {
     "name": "stdout",
     "output_type": "stream",
     "text": [
      "Using license file /Users/andy/gurobi.lic\n",
      "Academic license - for non-commercial use only\n"
     ]
    }
   ],
   "source": [
    "mo = Model()\n",
    "x, y, z, b, f, w, B, u = {}, {}, {}, {}, {}, {}, {}, {}"
   ]
  },
  {
   "cell_type": "markdown",
   "metadata": {},
   "source": [
    "### Variables and Objective"
   ]
  },
  {
   "cell_type": "code",
   "execution_count": 17,
   "metadata": {},
   "outputs": [],
   "source": [
    "# Pollster variables\n",
    "## Nodes\n",
    "b = mo.addVars( C_minus, E, S, vtype = 'B', name ='b')             # **begining**    n * |S|*|E|\n",
    "f = mo.addVars( C_plus,  E, S, vtype = 'B', name ='f')             # **ending**      n * |S|*|E|\n",
    "w = mo.addVars( C_minus, E, S, vtype = 'B', name ='w')             # **break**       n * |S|*|E|\n",
    "## Arcs\n",
    "x = mo.addVars( dom_e, E, S, vtype = 'B', name = 'x')              # **Walking paths**     n^2 * |S|*|E|\n",
    "\n",
    "# Vehicle variables\n",
    "y = mo.addVars( dom_v, K, S, vtype = 'B', name = 'y')               # **Vehicle-paths**     (4*n^2+n)*|K|*|S|\n",
    "z = mo.addVars( dom_v, E, S, vtype = 'B', name = 'z')               # **t-paths**           (4*n^2+n)*|E|*|S|\n",
    "\n",
    "# Time and days variables\n",
    "B = mo.addVars( C, vtype = 'C', name = 'B', ub  = β )               # **In-Out timing**     2*n\n",
    "u = mo.addVars( S, vtype = 'B', name = 'u', obj = κ_0)              # **Day**               |S|\n",
    "\n",
    "mo.update()"
   ]
  },
  {
   "cell_type": "markdown",
   "metadata": {},
   "source": [
    "Additional terms in objective"
   ]
  },
  {
   "cell_type": "code",
   "execution_count": 18,
   "metadata": {},
   "outputs": [],
   "source": [
    "deque( (v.setAttr('obj', κ_1) for v in y.select(0,'*')), 0)\n",
    "deque( (v.setAttr('obj', κ_2) for v in z.select(0,'*')), 0)\n",
    "mo.setAttr('ModelSense', GRB.MINIMIZE)"
   ]
  },
  {
   "cell_type": "code",
   "execution_count": 19,
   "metadata": {},
   "outputs": [],
   "source": [
    "mo.update()"
   ]
  },
  {
   "cell_type": "markdown",
   "metadata": {},
   "source": [
    "### Constraints"
   ]
  },
  {
   "cell_type": "markdown",
   "metadata": {},
   "source": [
    "<div class=\"alert alert-block alert-warning\">\n",
    "We begin with constraints for pollster routing, these are constraints $(1a)$ to $(1h)$.\n",
    "</div>"
   ]
  },
  {
   "cell_type": "code",
   "execution_count": 20,
   "metadata": {
    "code_folding": [
     0
    ]
   },
   "outputs": [
    {
     "name": "stdout",
     "output_type": "stream",
     "text": [
      "First block took 0.1628739833831787 seconds to compute.\n"
     ]
    }
   ],
   "source": [
    "# x & z vars interaction\n",
    "start = time.time()\n",
    "# 1a - Exclusive attention:      sum x[i,i+n] = 1\n",
    "mo.addConstrs( (x.sum(i,i+n,'*') == 1 for i in C_minus), name='R-1a');\n",
    "\n",
    "# 1b,c - Flow conservation:          sum_j x[j,i] - x[i,j] = b[i] - f[i]\n",
    "mo.addConstrs( (x.sum('*',i,e,s) == x[i,i+n,e,s] - b[i,e,s] for i in C_minus for s in S for e in E), name='R-1b')\n",
    "mo.addConstrs( (x.sum(i,'*',e,s) == x[i-n,i,e,s] - f[i,e,s] for i in C_plus for s in S for e in E), name='R-1c')\n",
    "\n",
    "# 1d,e,f,g — Terminal pick-up and delivery:  sum_j z[i,j] <= 1\n",
    "mo.addConstrs( (z.sum('*',i,e,s) <= 1.0 - x[i,i+n,e,s] + b[i,e,s] for i in C_minus for s in S for e in E), name='R-1d')\n",
    "mo.addConstrs( (z.sum(i,'*',e,s) <= 1.0 - x[i-n,i,e,s] + f[i,e,s] for i in C_plus for s in S for e in E), name='R-1e')\n",
    "\n",
    "mo.addConstrs( (z.sum('*',i,e,s) - z.sum(i,'*',e,s) == b[i,e,s] for i in C_minus for s in S for e in E), name='R-1f')\n",
    "mo.addConstrs( (z.sum('*',i,e,s) - z.sum(i,'*',e,s) == -f[i,e,s] for i in C_plus for s in S for e in E), name='R-1g')\n",
    "\n",
    "# 1h – One trip per day for each pollster\n",
    "mo.addConstrs( (z.sum(0,'*',e,s) <= u[s] for s in S for e in E), name='R-1h')\n",
    "\n",
    "\n",
    "end = time.time()\n",
    "print('First block took {} seconds to compute.'.format(end-start))\n",
    "\n",
    "mo.update()"
   ]
  },
  {
   "cell_type": "markdown",
   "metadata": {},
   "source": [
    "<div class=\"alert alert-block alert-warning\">\n",
    "Then we turn to vehicle routing, these are constraints $(2a)$ to $(2f)$.\n",
    "</div>"
   ]
  },
  {
   "cell_type": "code",
   "execution_count": 21,
   "metadata": {
    "code_folding": [
     0
    ]
   },
   "outputs": [
    {
     "name": "stdout",
     "output_type": "stream",
     "text": [
      "Took 0.5854108333587646 seconds.\n"
     ]
    }
   ],
   "source": [
    "# y & z vars interaction\n",
    "start = time.time()\n",
    "# 2a,b - Terminal arrivals:       sum_(j,k) y[i,j] = sum_e b[i] + f[i]\n",
    "mo.addConstrs( (y.sum(i,'*','*',s) == b.sum(i,'*',s) for i in C_minus for s in S), name='R-2a')\n",
    "mo.addConstrs( (y.sum(i,'*','*',s) == f.sum(i,'*',s) for i in C_plus for s in S), name='R-2b')\n",
    "# 2c,d – Flow conservation:       sum_j y[i,j] - sum_j y[j,i] = 0\n",
    "mo.addConstrs( (y.sum('*',i,k,s) == y.sum(i,'*',k,s) for i in C for k in K for s in S ), name='R-2c')\n",
    "mo.addConstrs( (y.sum('*',2*n+1,k,s) == y.sum(0,'*',k,s) for k in K for s in S ), name='R-2d')\n",
    "# 2e – One trip per day for each vehicle:     sum_i y[0,i] <= 1\n",
    "mo.addConstrs( (y.sum(0,'*',k,s) <= u[s] for k in K for s in S ), name='R-2e')\n",
    "# 2f – Capacity load:             sum_e z[i,j] <= Q sum_k y[i,j]\n",
    "mo.addConstrs( (z.sum(i,j,'*',s) <= Q*y.sum(i,j,'*',s) for (i,j) in dom_v for s in S ), name='R-2f')\n",
    "\n",
    "end = time.time()\n",
    "print('Took {} seconds.'.format(end-start))\n",
    "\n",
    "mo.update()"
   ]
  },
  {
   "cell_type": "markdown",
   "metadata": {},
   "source": [
    "<div class=\"alert alert-block alert-warning\">\n",
    "Next are time management and shift lengths $(3a)$ to $(3e)$.\n",
    "</div>"
   ]
  },
  {
   "cell_type": "code",
   "execution_count": 22,
   "metadata": {},
   "outputs": [],
   "source": [
    "M = β + max(τ.max(), t.max()) + 10. #1e+4"
   ]
  },
  {
   "cell_type": "code",
   "execution_count": 23,
   "metadata": {
    "code_folding": [
     0
    ]
   },
   "outputs": [
    {
     "name": "stdout",
     "output_type": "stream",
     "text": [
      "Took 0.1975250244140625 seconds.\n"
     ]
    }
   ],
   "source": [
    "# B vars enforce connected paths\n",
    "start = time.time()\n",
    "# 3a,b – Arriving marker:  B[j] >= B[i] + t[i,j] + sum_s w[i] P - M(1 - sum_s x[i,j])\n",
    "mo.addConstrs( (B[i+n] - B[i] - d[i] >= P*w.sum(i,'*') for i in C_minus ), name='R-3a')\n",
    "mo.addConstrs( (B[j] - B[i+n] - t[i-1,j-1] >= -M*(1.0 - x.sum(i+n,j,'*')) \n",
    "               for i in C_minus for j in C_minus if j!=i ), name='R-3b')\n",
    "## Trivial\n",
    "mo.addConstrs( (B[i+n] - B[i] >= 0.0 for i in C_minus ), name='R-3-o')\n",
    "# 3c — Arrival after transport: B[j] >= B[i] + τ_{i,j} - M(1 - sum_{s,k} y[i,j] )\n",
    "mo.addConstrs( \n",
    "    (B[j] - B[i] + M*(1.0 - y.sum(i,j,'*')) >= τ[i % (n+1) + (1 if i > n else 0), j % (n+1) + (1 if j > n else 0)] \n",
    "     for (i,j) in dom_v if i!=0 and j!=2*n+1 ), name='R-3c')\n",
    "# 3d — First transportation: B[i] >= tau_{0,i} - M(1 - sum_{s,k} y[0,i]^{k,s} )\n",
    "mo.addConstrs( (B[i] >= τ[0, i % (n+1) + (1 if i > n else 0)] - β*(1.0 - y.sum(0,i,'*','*')) \n",
    "               for i in C ), name='R-3d')\n",
    "\n",
    "# 3e — Arrival marks: B[2n+1]^{s} >= B[i] + tau_{i,2n+1} - M(1-y[i,2n+1])\n",
    "mo.addConstrs( ( β * u[s] - B[i] >= τ[i % (n+1) + (1 if i > n else 0),0] - M*(1.0 - y.sum(i,2*n+1,'*',s))\n",
    "               for i in C for s in S ), name='R-3e')\n",
    "# 3f – There's no TW information available.\n",
    "end = time.time()\n",
    "print('Took {} seconds.'.format(end-start))\n",
    "\n",
    "mo.update()"
   ]
  },
  {
   "cell_type": "markdown",
   "metadata": {},
   "source": [
    "<div class=\"alert alert-block alert-warning\">\n",
    "Lastly, pollster breaks are considered in $(4a)$ through $(4c)$.\n",
    "</div>"
   ]
  },
  {
   "cell_type": "code",
   "execution_count": 24,
   "metadata": {
    "code_folding": [
     0
    ]
   },
   "outputs": [
    {
     "name": "stdout",
     "output_type": "stream",
     "text": [
      "Took 0.019819021224975586 seconds.\n"
     ]
    }
   ],
   "source": [
    "# w vars interact\n",
    "start = time.time()\n",
    "# 4a — Breaks TW:   p0 sum_{e,s} w[i] <= B[i] + d[i] <= p1 + M( 1 - sum_s w[i] )\n",
    "mo.addConstrs( (ρ_0*w.sum(i,'*') - B[i] - d[i] <= 0.0 for i in C_minus ), name='R-4a0')\n",
    "mo.addConstrs( (B[i] + d[i] - ρ_1 - β*(1.0 - w.sum(i,'*')) <= 0.0 for i in C_minus ), name='R-4a1')\n",
    "# 4b – One break per pollster:     w[i] <=  x[i,j]\n",
    "mo.addConstrs( (w[i,e,s] <= x[i,i+n,e,s] for i in C_minus for e in E for s in S ), name='R-4b')\n",
    "# 5c — Mandatory breaks:   sum_i w[i] = sum_j z[0,j]\n",
    "mo.addConstrs( (w.sum('*',e,s) == z.sum(0,'*',e,s) for e in E for s in S ), name='R-4b')\n",
    "\n",
    "end = time.time()\n",
    "print('Took {} seconds.'.format(end-start))\n",
    "\n",
    "mo.update()"
   ]
  },
  {
   "cell_type": "markdown",
   "metadata": {},
   "source": [
    "### Symmetry breaking inequalities"
   ]
  },
  {
   "cell_type": "markdown",
   "metadata": {},
   "source": [
    "<div class=\"alert alert-block alert-warning\">\n",
    "Constraints $(5a)$ to $(5l)$ are added here.\n",
    "</div>"
   ]
  },
  {
   "cell_type": "code",
   "execution_count": 25,
   "metadata": {
    "code_folding": [
     0
    ]
   },
   "outputs": [
    {
     "name": "stdout",
     "output_type": "stream",
     "text": [
      "SI: Took 0.04883599281311035 seconds.\n"
     ]
    }
   ],
   "source": [
    "# More\n",
    "start = time.time()\n",
    "\n",
    "mo.addConstr( z.sum(0,'*',0,0) == 1 , name='R-5a')\n",
    "mo.addConstr( y.sum(0,'*',0,0) == 1 , name='R-5d')\n",
    "\n",
    "if E.size > 1:\n",
    "    mo.addConstrs( (z.sum(0,'*',e,s) <= z.sum(0,'*',e-1,s) for e in E for s in S if e > 0 ), name='R-5b')\n",
    "    \n",
    "    if S.size > 1:\n",
    "        mo.addConstrs( \n",
    "            (b.sum('*',e,s) <= n - quicksum(b[i,e-1,r] for i in C_minus for r in S if r<=s-1) \n",
    "             for e in E for s in S if e > 0 if s > 0 ), name='R-5k')\n",
    "        mo.addConstrs( \n",
    "            (f.sum('*',e,s) <= n - quicksum(f[i,e-1,r] for i in C_plus for r in S if r<=s-1) \n",
    "             for e in E for s in S if e > 0 if s > 0 ), name='R-5l')\n",
    "        \n",
    "if S.size > 1:\n",
    "    mo.addConstrs( (z.sum(0,'*',e,s) <= z.sum(0,'*',e,s-1) for e in E for s in S if s > 0 ), name='R-5c')\n",
    "    mo.addConstrs( (y.sum(0,'*',k,s) <= y.sum(0,'*',k,s-1) for k in K for s in S if s > 0 ), name='R-5f')\n",
    "    mo.addConstrs( (b.sum(i,'*',s) <= 1.0 - b.sum(i,'*',s-1) for i in C_minus for s in S if s > 0 ), name='R-5g')\n",
    "    mo.addConstrs( (f.sum(i,'*',s) <= 1.0 - f.sum(i,'*',s-1) for i in C_plus  for s in S if s > 0 ), name='R-5h')\n",
    "    mo.addConstrs( (x.sum('*',i,'*',s) <= 1.0 - b.sum(i,'*',s-1) for i in C_minus for s in S if s > 0 ), name='R-5i')\n",
    "    mo.addConstrs( (x.sum(i,'*','*',s) <= 1.0 - f.sum(i,'*',s-1) for i in C_plus  for s in S if s > 0 ), name='R-5j')\n",
    "    mo.addConstrs( (u[s] <= u[s-1] for s in S if s > 0), name='R-5m')\n",
    "    \n",
    "if K.size > 1:\n",
    "    mo.addConstrs( (y.sum(0,'*',k,s) <= y.sum(0,'*',k-1,s) for k in K for s in S if k > 0 ), name='R-5e')\n",
    "    \n",
    "end = time.time()\n",
    "print('SI: Took {} seconds.'.format(end-start))"
   ]
  },
  {
   "cell_type": "markdown",
   "metadata": {},
   "source": [
    "---"
   ]
  },
  {
   "cell_type": "code",
   "execution_count": 107,
   "metadata": {},
   "outputs": [
    {
     "name": "stdout",
     "output_type": "stream",
     "text": [
      "{6: 187.66666666666666, 7: 160.85714285714286, 8: 140.75, 9: 125.11111111111111, 10: 112.6}\n"
     ]
    }
   ],
   "source": [
    "Λ   = [ np.append(a, arange(a.size + b + 1, (b+1)*a.size + 1) ) for b,a in enumerate([(E+1) + s for s in S]) ]\n",
    "# [ arange(s+1, (s+1)*E.size) for s in S ]\n",
    "Λ_β = {λ: d.sum()/λ for λ in np.unique(np.concatenate(Λ)) if d.sum()/λ <= β - P}\n",
    "print(Λ_β)"
   ]
  },
  {
   "cell_type": "code",
   "execution_count": 108,
   "metadata": {},
   "outputs": [
    {
     "data": {
      "text/plain": [
       "{6: 187.66666666666666,\n",
       " 7: 160.85714285714286,\n",
       " 8: 140.75,\n",
       " 9: 125.11111111111111,\n",
       " 10: 112.6}"
      ]
     },
     "execution_count": 108,
     "metadata": {},
     "output_type": "execute_result"
    }
   ],
   "source": [
    "{λ: d.sum()/λ for λ in np.unique(np.concatenate(Λ)) if d.sum()/λ <= β - (P + τ[0,:][1:].min() + τ[:,0][1:].min())}"
   ]
  },
  {
   "cell_type": "code",
   "execution_count": 109,
   "metadata": {},
   "outputs": [],
   "source": [
    "F_2, T_1 = max(Λ_β.items(), key=lambda x: x[1]) \n",
    "F_1 = next(a for a,b in enumerate(Λ) if F_2 in b) + 1\n",
    "F_3 = [k for k in arange(F_1, K.size * F_1 + 1) if F_2 <= Q * k].pop(0)"
   ]
  },
  {
   "cell_type": "code",
   "execution_count": 110,
   "metadata": {},
   "outputs": [
    {
     "name": "stdout",
     "output_type": "stream",
     "text": [
      "Lower bounds found: |S| >= 2 |K| >= 2 |E| >= 6\n"
     ]
    }
   ],
   "source": [
    "print('Lower bounds found: |S| >=', F_1, '|K| >=',F_3, '|E| >=', F_2)"
   ]
  },
  {
   "cell_type": "code",
   "execution_count": 30,
   "metadata": {},
   "outputs": [],
   "source": [
    "# Additional bound over the number of days\n",
    "mo.addConstr( u.sum() >= F_1)\n",
    "# Additional bound over the number of required pollsters\n",
    "mo.addConstr(z.sum(0,'*','*','*') >= F_2);\n",
    "# Additional bound over the number of required vehicles\n",
    "mo.addConstr(y.sum(0,'*','*','*') >= F_3);"
   ]
  },
  {
   "cell_type": "code",
   "execution_count": 31,
   "metadata": {},
   "outputs": [],
   "source": [
    "mo.addConstrs( (z.sum(0,'*',0,s) == u[s] for s in S) )\n",
    "mo.addConstrs( (y.sum(0,'*',0,s) == u[s] for s in S) );"
   ]
  },
  {
   "cell_type": "code",
   "execution_count": 32,
   "metadata": {},
   "outputs": [],
   "source": [
    "#mo.addConstrs( (z.sum(0,'*','*',s) <= z.sum(0,'*','*',s-1) for s in S if s>0) )\n",
    "mo.addConstrs( (y.sum(0,'*','*',s) <= y.sum(0,'*','*',s-1) for s in S if s>0) );"
   ]
  },
  {
   "cell_type": "code",
   "execution_count": 33,
   "metadata": {},
   "outputs": [],
   "source": [
    "deque( (v.setAttr('BranchPriority', 10) for v in y.values()), 0);\n",
    "#deque( (v.setAttr('BranchPriority', 10) for v in z.values()), 0)"
   ]
  },
  {
   "cell_type": "markdown",
   "metadata": {},
   "source": [
    "## Optimization"
   ]
  },
  {
   "cell_type": "code",
   "execution_count": 34,
   "metadata": {
    "code_folding": [
     0
    ]
   },
   "outputs": [],
   "source": [
    "# Piece of solution\n",
    "\n",
    "# Day 1\n",
    "# First half\n",
    "b[4,1,0].lb = 1\n",
    "b[5,0,0].lb = 1\n",
    "b[9,0,0].lb = 1\n",
    "f[15,0,0].lb = 1\n",
    "f[16,1,0].lb = 1\n",
    "f[19,0,0].lb = 1\n",
    "x[4,14,1,0].lb = 1\n",
    "x[5,15,0,0].lb = 1\n",
    "x[6,16,1,0].lb = 1\n",
    "x[8,18,1,0].lb = 1\n",
    "x[9,19,0,0].lb = 1\n",
    "x[14,8,1,0].lb = 1\n",
    "x[18,6,1,0].lb = 1\n",
    "\n",
    "y[0,4,1,0].lb = 1\n",
    "y[0,5,0,0].lb = 1\n",
    "#y[16,21,1,0].lb = 1\n",
    "#y[19,21,0,0].lb = 1\n",
    "#y[4,16,1,0].lb = 1\n",
    "y[5,15,0,0].lb = 1\n",
    "#y[9,19,0,0].lb = 1\n",
    "y[15,9,0,0].lb = 1\n",
    "\n",
    "z[0,4,1,0].lb = 1\n",
    "z[0,5,0,0].lb = 1\n",
    "#z[16,21,1,0].lb = 1\n",
    "#z[19,21,0,0].lb = 1\n",
    "z[15,9,0,0].lb = 1\n",
    "\n",
    "# Second half\n",
    "b[4,1,0].lb = 1\n",
    "b[5,0,0].lb = 1\n",
    "b[9,0,0].lb = 1\n",
    "f[15,0,0].lb = 1\n",
    "f[16,1,0].lb = 1\n",
    "f[19,0,0].lb = 1\n",
    "x[4,14,1,0].lb = 1\n",
    "x[5,15,0,0].lb = 1\n",
    "x[6,16,1,0].lb = 1\n",
    "x[8,18,1,0].lb = 1\n",
    "x[9,19,0,0].lb = 1\n",
    "x[14,8,1,0].lb = 1\n",
    "x[18,6,1,0].lb = 1\n",
    "\n",
    "#y[0,4,1,0].lb = 1\n",
    "#y[0,5,0,0].lb = 1\n",
    "#y[16,21,1,0].lb = 1\n",
    "#y[19,21,0,0].lb = 1\n",
    "#y[4,16,1,0].lb = 1\n",
    "#y[5,15,0,0].lb = 1\n",
    "y[9,19,0,0].lb = 1\n",
    "y[15,9,0,0].lb = 1\n",
    "#z[0,4,1,0].lb = 1\n",
    "#z[0,5,0,0].lb = 1\n",
    "#z[16,21,1,0].lb = 1\n",
    "#z[19,21,0,0].lb = 1\n",
    "z[15,9,0,0].lb = 1\n",
    "\n",
    "\n",
    "# Day 2\n",
    "# First half\n",
    "\n",
    "\n",
    "\n",
    "# Second half\n",
    "\n",
    "\n"
   ]
  },
  {
   "cell_type": "markdown",
   "metadata": {},
   "source": [
    "Pick the best solution (if any) from below."
   ]
  },
  {
   "cell_type": "code",
   "execution_count": 35,
   "metadata": {
    "scrolled": true
   },
   "outputs": [
    {
     "name": "stdout",
     "output_type": "stream",
     "text": [
      "Discarded solution information\n",
      "Reset all parameters\n",
      "Changed value of parameter VarBranch to 1\n",
      "   Prev: -1  Min: -1  Max: 3  Default: -1\n",
      "Parameter BranchDir unchanged\n",
      "   Value: 0  Min: -1  Max: 1  Default: 0\n",
      "Changed value of parameter TimeLimit to 360.0\n",
      "   Prev: inf  Min: 0.0  Max: inf  Default: inf\n",
      "Gurobi Optimizer version 9.0.2 build v9.0.2rc0 (mac64)\n",
      "Optimize a model with 3327 rows, 7366 columns and 35800 nonzeros\n",
      "Model fingerprint: 0x86579e2e\n",
      "Variable types: 28 continuous, 7338 integer (7338 binary)\n",
      "Coefficient statistics:\n",
      "  Matrix range     [1e+00, 1e+02]\n",
      "  Objective range  [4e+01, 2e+02]\n",
      "  Bounds range     [1e+00, 1e+02]\n",
      "  RHS range        [1e+00, 2e+02]\n",
      "Presolve removed 3327 rows and 7366 columns\n",
      "Presolve time: 0.03s\n",
      "Presolve: All rows and columns removed\n",
      "\n",
      "Explored 0 nodes (0 simplex iterations) in 0.07 seconds\n",
      "Thread count was 1 (of 4 available processors)\n",
      "\n",
      "Solution count 1: 960 \n",
      "\n",
      "Optimal solution found (tolerance 1.00e-04)\n",
      "Best objective 9.600000000000e+02, best bound 9.600000000000e+02, gap 0.0000%\n"
     ]
    }
   ],
   "source": [
    "mo.reset()\n",
    "mo.resetParams()\n",
    "mo.Params.VarBranch = 1\n",
    "mo.Params.BranchDir = 0\n",
    "mo.Params.TimeLimit = 360\n",
    "#mo.Params.Cuts = 0\n",
    "mo.optimize()"
   ]
  },
  {
   "cell_type": "code",
   "execution_count": 53,
   "metadata": {
    "code_folding": [
     0
    ],
    "collapsed": true
   },
   "outputs": [
    {
     "name": "stdout",
     "output_type": "stream",
     "text": [
      "Discarded solution information\n",
      "Reset all parameters\n",
      "Changed value of parameter MIPFocus to 1\n",
      "   Prev: 0  Min: 0  Max: 3  Default: 0\n",
      "Changed value of parameter Heuristics to 0.33\n",
      "   Prev: 0.05  Min: 0.0  Max: 1.0  Default: 0.05\n",
      "Changed value of parameter Cuts to 3\n",
      "   Prev: -1  Min: -1  Max: 3  Default: -1\n",
      "Changed value of parameter Method to 2\n",
      "   Prev: -1  Min: -1  Max: 5  Default: -1\n",
      "Changed value of parameter SimplexPricing to 3\n",
      "   Prev: -1  Min: -1  Max: 3  Default: -1\n",
      "Changed value of parameter CutAggPasses to 12\n",
      "   Prev: -1  Min: -1  Max: 2000000000  Default: -1\n",
      "Changed value of parameter CutPasses to 12\n",
      "   Prev: -1  Min: -1  Max: 2000000000  Default: -1\n",
      "Changed value of parameter PrePasses to 8\n",
      "   Prev: -1  Min: -1  Max: 2000000000  Default: -1\n",
      "Changed value of parameter ImproveStartTime to 100.0\n",
      "   Prev: inf  Min: 0.0  Max: inf  Default: inf\n",
      "Changed value of parameter Presolve to 2\n",
      "   Prev: -1  Min: -1  Max: 2  Default: -1\n",
      "Changed value of parameter GURO_PAR_PREPROBE to 3\n",
      "   Prev: 1  Min: 0  Max: 3  Default: 1\n",
      "Changed value of parameter PreSparsify to 1\n",
      "   Prev: -1  Min: -1  Max: 1  Default: -1\n",
      "Changed value of parameter PrePasses to 500\n",
      "   Prev: 8  Min: -1  Max: 2000000000  Default: -1\n",
      "Changed value of parameter TimeLimit to 600.0\n",
      "   Prev: inf  Min: 0.0  Max: inf  Default: inf\n",
      "Gurobi Optimizer version 9.0.2 build v9.0.2rc0 (mac64)\n",
      "Optimize a model with 3327 rows, 7366 columns and 35800 nonzeros\n",
      "Model fingerprint: 0x4539b00b\n",
      "Variable types: 28 continuous, 7338 integer (7338 binary)\n",
      "Coefficient statistics:\n",
      "  Matrix range     [1e+00, 1e+02]\n",
      "  Objective range  [4e+01, 2e+02]\n",
      "  Bounds range     [1e+00, 1e+02]\n",
      "  RHS range        [1e+00, 2e+02]\n",
      "Sparsify removed 624 nonzeros (5%)\n",
      "Presolve removed 2285 rows and 5451 columns\n",
      "Presolve time: 0.42s\n",
      "Presolved: 1042 rows, 1915 columns, 12896 nonzeros\n",
      "Variable types: 43 continuous, 1872 integer (1869 binary)\n",
      "Presolve removed 12 rows and 3 columns\n",
      "Presolved: 1030 rows, 1912 columns, 12731 nonzeros\n",
      "\n",
      "Root barrier log...\n",
      "\n",
      "Ordering time: 0.01s\n",
      "\n",
      "Barrier statistics:\n",
      " AA' NZ     : 4.775e+04\n",
      " Factor NZ  : 1.523e+05 (roughly 2 MBytes of memory)\n",
      " Factor Ops : 4.699e+07 (less than 1 second per iteration)\n",
      " Threads    : 2\n",
      "\n",
      "                  Objective                Residual\n",
      "Iter       Primal          Dual         Primal    Dual     Compl     Time\n",
      "   0   7.16526742e+04 -3.22636419e+05  8.06e+02 9.97e-01  1.10e+03     1s\n",
      "   1   2.21426752e+04 -2.36500066e+05  2.33e+02 8.65e-01  3.02e+02     1s\n",
      "   2   4.25175062e+03 -8.58222912e+04  3.52e+01 1.63e-13  5.05e+01     1s\n",
      "   3   1.22054297e+03 -2.92187998e+04  3.65e+00 3.38e-14  9.30e+00     1s\n",
      "   4   6.45113653e+02 -2.03957877e+03  2.00e-01 4.09e-14  6.69e-01     1s\n",
      "   5   5.24414122e+02  1.57133838e+02  4.11e-02 1.40e-13  1.09e-01     1s\n",
      "   6   4.80257912e+02  4.78656000e+02  1.80e-04 5.63e-14  4.86e-04     1s\n",
      "   7   4.80000472e+02  4.79998656e+02  1.51e-07 6.46e-14  5.11e-07     1s\n",
      "   8   4.80000000e+02  4.79999999e+02  1.11e-10 7.67e-14  4.52e-10     1s\n",
      "   9   4.80000000e+02  4.80000000e+02  5.80e-12 5.83e-14  4.40e-13     1s\n",
      "\n",
      "Barrier solved model in 9 iterations and 1.07 seconds\n",
      "Optimal objective 4.80000000e+02\n",
      "\n",
      "\n",
      "Root relaxation: objective 4.800000e+02, 828 iterations, 0.57 seconds\n",
      "\n",
      "    Nodes    |    Current Node    |     Objective Bounds      |     Work\n",
      " Expl Unexpl |  Obj  Depth IntInf | Incumbent    BestBd   Gap | It/Node Time\n",
      "\n",
      "     0     0  480.00000    0    9          -  480.00000      -     -    1s\n",
      "     0     0  480.00000    0    7          -  480.00000      -     -    1s\n",
      "     0     0  480.00000    0   14          -  480.00000      -     -    2s\n",
      "     0     0  480.00000    0   33          -  480.00000      -     -    2s\n",
      "     0     0  480.00000    0   24          -  480.00000      -     -    2s\n",
      "     0     0  480.00000    0   24          -  480.00000      -     -    2s\n",
      "     0     0  480.00000    0   23          -  480.00000      -     -    2s\n",
      "     0     0  480.00000    0   23          -  480.00000      -     -    2s\n",
      "     0     0  480.00000    0   17          -  480.00000      -     -    3s\n",
      "     0     0  480.00000    0   58          -  480.00000      -     -    3s\n",
      "     0     0  480.00000    0   23          -  480.00000      -     -    3s\n",
      "     0     0  480.00000    0   23          -  480.00000      -     -    3s\n",
      "     0     0  480.00000    0   23          -  480.00000      -     -    4s\n",
      "     0     0  480.00000    0   30          -  480.00000      -     -    4s\n",
      "     0     0  480.00000    0   29          -  480.00000      -     -    4s\n",
      "     0     0  480.00000    0   22          -  480.00000      -     -    5s\n",
      "     0     0  480.00000    0   21          -  480.00000      -     -    5s\n",
      "     0     0  480.00000    0   20          -  480.00000      -     -    5s\n",
      "     0     0  480.00000    0   20          -  480.00000      -     -    5s\n",
      "     0     0  480.00000    0   16          -  480.00000      -     -    6s\n",
      "     0     0  480.00000    0   22          -  480.00000      -     -    6s\n",
      "     0     0  480.00000    0   16          -  480.00000      -     -   44s\n",
      "     0     0  480.00000    0   19          -  480.00000      -     -   44s\n",
      "     0     0  480.00000    0   19          -  480.00000      -     -   44s\n",
      "     0     0  480.00000    0   15          -  480.00000      -     -   45s\n",
      "     0     0  480.00000    0   22          -  480.00000      -     -   47s\n",
      "     0     0  480.00000    0   22          -  480.00000      -     -   48s\n",
      "     0     0  480.00000    0   29          -  480.00000      -     -   48s\n",
      "     0     0  480.00000    0   19          -  480.00000      -     -   50s\n",
      "     0     0  480.00000    0   68          -  480.00000      -     -   50s\n",
      "     0     0  480.00000    0   44          -  480.00000      -     -   52s\n",
      "     0     0  480.00000    0   42          -  480.00000      -     -   52s\n",
      "     0     0  480.00000    0   30          -  480.00000      -     -   53s\n",
      "     0     0  480.00000    0   29          -  480.00000      -     -   53s\n",
      "     0     0  480.00000    0   29          -  480.00000      -     -   55s\n",
      "     0     0  480.00000    0   51          -  480.00000      -     -   56s\n",
      "     0     0  480.00000    0   37          -  480.00000      -     -   56s\n",
      "     0     0  480.00000    0   23          -  480.00000      -     -   56s\n",
      "     0     0  480.00000    0   23          -  480.00000      -     -   56s\n",
      "     0     0  480.00000    0   24          -  480.00000      -     -   57s\n",
      "     0     0  480.00000    0   13          -  480.00000      -     -   57s\n",
      "H    0     0                     960.0000000  480.00000  50.0%     -  126s\n",
      "\n",
      "Resetting heuristic parameters to focus on improving solution\n",
      "(using Heuristics=0.5 and RINS=10)...\n",
      "\n",
      "     1     1  480.00000    0   11  960.00000  480.00000  50.0%   0.0  130s\n",
      "     1     1  480.00000    0   32  960.00000  480.00000  50.0%   0.0  135s\n",
      "     1     2  480.00000    0   26  960.00000  480.00000  50.0% 25485  140s\n",
      "     1     2  480.00000    0   16  960.00000  480.00000  50.0% 25485  145s\n",
      "     1     2  480.00000    0   23  960.00000  480.00000  50.0% 25485  150s\n",
      "     1     2  480.00000    0   16  960.00000  480.00000  50.0% 25485  155s\n",
      "H  428   113                     920.0000000  480.00000  47.8%  96.3  157s\n",
      "H  438   106                     820.0000000  480.00000  41.5%  94.8  157s\n",
      "   760   107 infeasible   40       820.00000  480.00000  41.5%  65.2  160s\n",
      "   990   169  480.00000   36   30  820.00000  480.00000  41.5%  56.2  165s\n",
      "  1048   187  480.00000   47   58  820.00000  480.00000  41.5%  54.3  170s\n",
      "  1117   191  480.00000   36   38  820.00000  480.00000  41.5%  52.7  176s\n",
      "  1150   191  480.00000   42   62  820.00000  480.00000  41.5%  52.0  180s\n",
      "  1202   199 infeasible   42       820.00000  480.00000  41.5%  50.9  186s\n",
      "  1235   219  480.00000   47   42  820.00000  480.00000  41.5%  50.3  191s\n",
      "  1268   213 infeasible   51       820.00000  480.00000  41.5%  49.3  196s\n",
      "  1303   215 infeasible   40       820.00000  480.00000  41.5%  48.3  200s\n",
      "  1366   220  480.00000   39   23  820.00000  480.00000  41.5%  47.0  205s\n",
      "  1398   231  480.00000   47   21  820.00000  480.00000  41.5%  46.4  212s\n",
      "  1435   232 infeasible   52       820.00000  480.00000  41.5%  45.8  216s\n",
      "  1467   249  480.00000   43   20  820.00000  480.00000  41.5%  45.3  221s\n"
     ]
    },
    {
     "name": "stdout",
     "output_type": "stream",
     "text": [
      "  1494   264  480.00000   48   22  820.00000  480.00000  41.5%  44.8  225s\n",
      "  1522   277  480.00000   53   57  820.00000  480.00000  41.5%  44.3  231s\n",
      "  1584   275 infeasible   56       820.00000  480.00000  41.5%  43.3  236s\n",
      "  1635   281  480.00000   43   33  820.00000  480.00000  41.5%  42.6  241s\n",
      "  1677   287  480.00000   48   16  820.00000  480.00000  41.5%  42.0  247s\n",
      "  1710   293  480.00000   51   68  820.00000  480.00000  41.5%  41.7  250s\n",
      "  1749   298 infeasible   48       820.00000  480.00000  41.5%  41.2  256s\n",
      "  1803   306 infeasible   50       820.00000  480.00000  41.5%  40.7  262s\n",
      "  1827   308 infeasible   54       820.00000  480.00000  41.5%  40.4  266s\n",
      "  1882   305 infeasible   53       820.00000  480.00000  41.5%  39.9  273s\n",
      "  1912   307 infeasible   54       820.00000  480.00000  41.5%  39.6  278s\n",
      "  1942   307  480.00000   38   36  820.00000  480.00000  41.5%  39.2  281s\n",
      "  1992   305  480.00000   46   58  820.00000  480.00000  41.5%  38.8  286s\n",
      "  2014   310 infeasible   37       820.00000  480.00000  41.5%  38.7  290s\n",
      "  2053   305 infeasible   41       820.00000  480.00000  41.5%  38.2  295s\n",
      "  2139   305 infeasible   56       820.00000  480.00000  41.5%  37.2  304s\n",
      "  2165   299 infeasible   61       820.00000  480.00000  41.5%  36.9  310s\n",
      "  2222   299 infeasible   47       820.00000  480.00000  41.5%  36.4  315s\n",
      "  2253   298 infeasible   54       820.00000  480.00000  41.5%  36.2  321s\n",
      "  2306   299  480.00000   47   20  820.00000  480.00000  41.5%  36.0  326s\n",
      "  2341   311 infeasible   53       820.00000  480.00000  41.5%  35.7  331s\n",
      "  2386   317  480.00000   59   49  820.00000  480.00000  41.5%  35.4  337s\n",
      "  2408   331  480.00000   47   24  820.00000  480.00000  41.5%  35.4  344s\n",
      "  2462   349  480.00000   36   40  820.00000  480.00000  41.5%  35.0  350s\n",
      "  2486   357  480.00000   43   21  820.00000  480.00000  41.5%  34.9  356s\n",
      "  2526   350  480.00000   58   48  820.00000  480.00000  41.5%  34.7  362s\n",
      "  2565   345  480.00000   57   36  820.00000  480.00000  41.5%  34.6  369s\n",
      "  2633   345 infeasible   42       820.00000  480.00000  41.5%  34.2  376s\n",
      "  2673   352  480.00000   39   37  820.00000  480.00000  41.5%  34.0  384s\n",
      "  2737   349 infeasible   43       820.00000  480.00000  41.5%  33.5  391s\n",
      "  2779   366  480.00000   59   21  820.00000  480.00000  41.5%  33.3  398s\n",
      "  2828   363 infeasible   42       820.00000  480.00000  41.5%  33.7  406s\n",
      "  2886   374  480.00000   43   74  820.00000  480.00000  41.5%  33.6  417s\n",
      "  2942   370 infeasible   47       820.00000  480.00000  41.5%  33.4  427s\n",
      "  2998   368  480.00000   52   29  820.00000  480.00000  41.5%  33.3  437s\n",
      "  3073   366 infeasible   47       820.00000  480.00000  41.5%  32.9  447s\n",
      "  3146   370 infeasible   41       820.00000  480.00000  41.5%  32.6  459s\n",
      "  3220   376 infeasible   49       820.00000  480.00000  41.5%  32.4  473s\n",
      "  3289   373 infeasible   45       820.00000  480.00000  41.5%  32.3  485s\n",
      "  3364   388  480.00000   42   24  820.00000  480.00000  41.5%  32.1  497s\n",
      "  3449   392 infeasible   56       820.00000  480.00000  41.5%  31.9  508s\n",
      "  3513   398 infeasible   62       820.00000  480.00000  41.5%  32.0  524s\n",
      "  3602   406 infeasible   40       820.00000  480.00000  41.5%  31.8  538s\n",
      "  3694   410  480.00000   40   27  820.00000  480.00000  41.5%  31.8  540s\n",
      "  3700   414  480.00000   50   14  820.00000  480.00000  41.5%  31.7  545s\n",
      "  3707   419  480.00000   38   32  820.00000  480.00000  41.5%  31.7  550s\n",
      "  3713   423  480.00000   48   44  820.00000  480.00000  41.5%  31.6  555s\n",
      "  4475   345  480.00000   64   59  820.00000  480.00000  41.5%  33.7  560s\n",
      "  5556   191 infeasible   61       820.00000  480.00000  41.5%  34.8  565s\n",
      "  6591   225 infeasible   66       820.00000  480.00000  41.5%  35.2  571s\n",
      "  7068   259 infeasible   81       820.00000  480.00000  41.5%  35.6  575s\n",
      "  8018   301  480.00000   65   34  820.00000  480.00000  41.5%  36.1  580s\n",
      "  9072   382  480.00000   66   38  820.00000  480.00000  41.5%  36.6  585s\n",
      " 10142   394 infeasible   74       820.00000  480.00000  41.5%  37.4  591s\n",
      " 10976   392 infeasible   66       820.00000  480.00000  41.5%  37.7  596s\n",
      " 11935   471 infeasible   64       820.00000  480.00000  41.5%  37.7  600s\n",
      "\n",
      "Cutting planes:\n",
      "  Gomory: 1\n",
      "  Cover: 16\n",
      "  Implied bound: 91\n",
      "  MIR: 234\n",
      "  StrongCG: 8\n",
      "  Flow cover: 699\n",
      "  GUB cover: 1\n",
      "  Inf proof: 6\n",
      "  Zero half: 82\n",
      "  RLT: 18\n",
      "  Relax-and-lift: 35\n",
      "\n",
      "Explored 12128 nodes (469880 simplex iterations) in 600.07 seconds\n",
      "Thread count was 4 (of 4 available processors)\n",
      "\n",
      "Solution count 3: 820 920 960 \n",
      "\n",
      "Time limit reached\n",
      "Best objective 8.200000000000e+02, best bound 4.800000000000e+02, gap 41.4634%\n"
     ]
    }
   ],
   "source": [
    "# Parametrised\n",
    "mo.reset()\n",
    "mo.resetParams()\n",
    "#mo.setParam('Symmetry', 2) #mo.setParam('BranchDir', 1); mo.setParam('Heuristics',1)\n",
    "\n",
    "mo.Params.MIPFocus = 1;    \n",
    "mo.Params.Heuristics = 0.33\n",
    "mo.Params.Cuts = 3;      #<- w/o finds some feasible solutions \n",
    "mo.Params.Method = 2\n",
    "\n",
    "mo.Params.SimplexPricing = 3\n",
    "mo.Params.CutAggPasses = 12;    mo.Params.CutPasses = 12;   mo.Params.PrePasses = 8\n",
    "\n",
    "mo.Params.ImproveStartTime = 100\n",
    "\n",
    "\n",
    "mo.setParam('Presolve', 2)\n",
    "mo.Params.GURO_PAR_PREPROBE = 3\n",
    "mo.Params.PreSparsify = 1\n",
    "mo.Params.PrePasses = 500 # best solution so far w/ 500\n",
    "\n",
    "mo.Params.TimeLimit = 10*60\n",
    "mo.optimize()"
   ]
  },
  {
   "cell_type": "markdown",
   "metadata": {},
   "source": [
    "If fixing some variables generates a feasible solution, we can test against it:"
   ]
  },
  {
   "cell_type": "code",
   "execution_count": 50,
   "metadata": {
    "scrolled": false
   },
   "outputs": [
    {
     "data": {
      "text/plain": [
       "deque([])"
      ]
     },
     "execution_count": 50,
     "metadata": {},
     "output_type": "execute_result"
    }
   ],
   "source": [
    "deque( (v.setAttr('Start', v.x) for v in mo.getVars()), 0);\n",
    "deque( (v.setAttr('LB', 0.0) for v in mo.getVars()), 0);"
   ]
  },
  {
   "cell_type": "code",
   "execution_count": null,
   "metadata": {},
   "outputs": [],
   "source": []
  },
  {
   "cell_type": "markdown",
   "metadata": {},
   "source": [
    "## Results"
   ]
  },
  {
   "cell_type": "markdown",
   "metadata": {},
   "source": [
    "<div class=\"alert alert-block alert-warning\">\n",
    "We identify variables that have assigned a non-zero value.\n",
    "</div>"
   ]
  },
  {
   "cell_type": "code",
   "execution_count": 47,
   "metadata": {},
   "outputs": [],
   "source": [
    "X = tupledict({nn: v for nn, v in x.items() if v.x > 0.0})\n",
    "Y = tupledict({nn: v for nn, v in y.items() if v.x > 0.0})\n",
    "Z = tupledict({nn: v for nn, v in z.items() if v.x > 0.0})\n",
    "\n",
    "A = tupledict({nn: v for nn, v in b.items() if v.x > 0.0})\n",
    "F = tupledict({nn: v for nn, v in f.items() if v.x > 0.0})\n",
    "W = tupledict({nn: v for nn, v in w.items() if v.x > 0.0})\n",
    "U = tupledict({nn: v for nn, v in u.items() if v.x > 0.0})"
   ]
  },
  {
   "cell_type": "markdown",
   "metadata": {},
   "source": [
    "The last dictionary, `U`, contains which days are active. As a result, we can store only those days. Moreover, this also simplifies iterations. A similar treatment can be done with `E` and `K`."
   ]
  },
  {
   "cell_type": "code",
   "execution_count": 48,
   "metadata": {},
   "outputs": [],
   "source": [
    "Active_Days      = U.keys()\n",
    "Active_Pollsters = {v[1] for v in A.keys()}\n",
    "Active_Vehicles  = {v[2] for v in Y.keys()}"
   ]
  },
  {
   "cell_type": "code",
   "execution_count": 49,
   "metadata": {
    "scrolled": true
   },
   "outputs": [
    {
     "name": "stdout",
     "output_type": "stream",
     "text": [
      "A solution was found with 2 pollsters, 2 vehicles, and 1 days.\n"
     ]
    }
   ],
   "source": [
    "print('A solution was found with',len(Active_Pollsters),'pollsters,',len(Active_Vehicles),'vehicles, and',len(Active_Days),'days.')"
   ]
  },
  {
   "cell_type": "code",
   "execution_count": 50,
   "metadata": {},
   "outputs": [],
   "source": [
    "Out_File = 'Instances/Results_Fixing_P-2-a-b-'+ str(n) +'.xlsx'"
   ]
  },
  {
   "cell_type": "code",
   "execution_count": 51,
   "metadata": {
    "code_folding": [
     0
    ]
   },
   "outputs": [],
   "source": [
    "with pd.ExcelWriter(Out_File) as writer:\n",
    "    # General results\n",
    "    Hoja = DataFrame({'0':['Active days','Active pollsters','Active vehicles', 'Objective','GAP','Time'], \n",
    "                      '1':[len(U), len(Active_Pollsters), len(Active_Vehicles), \n",
    "                               mo.ObjVal, str(around(mo.MIPGap * 100,2)) + ' %', around(mo.Runtime,2)]})\n",
    "    Hoja.to_excel(writer, 'Summary', header=False, index= False)\n",
    "    writer.sheets['Summary'].set_column('A:A', 15)\n",
    "    \n",
    "    # Pollster routing\n",
    "    X_visits = [zeros([n+1,n+1], dtype=int) for days in Active_Days]\n",
    "    for days in Active_Days:\n",
    "        X_day = (v[:-1] for v in X.keys() if v[-1] == days)\n",
    "        for pairs in X_day:\n",
    "            coords = tuple([vv if vv <= n else vv%n if vv<2*n else n for vv in pairs[:-1] ])\n",
    "            X_visits[days][coords] = pairs[-1] + 1\n",
    "            \n",
    "    Hoja = concat([DataFrame(X_visits[days]) for days in Active_Days], axis=1).replace({0:''})\n",
    "    Hoja.columns = [str(v) + ' day ' + str(days) for days in Active_Days for v in C_0 ]\n",
    "    Hoja.to_excel(writer, 'Pollster routing')\n",
    "    \n",
    "    # Vehicle routing\n",
    "    Y_visits = [zeros([n+1,n+1], dtype=int) for days in Active_Days]\n",
    "    for days in Active_Days:\n",
    "        Y_day = (v[:-1] for v in Y.keys() if v[-1] == days)\n",
    "        for pairs in Y_day:\n",
    "            coords = tuple([vv if vv <= n else vv%n if vv<2*n else n if vv == 2*n else 0 for vv in pairs[:-1] ])\n",
    "            Y_visits[days][coords] = pairs[-1] + 1\n",
    "    \n",
    "    Hoja = concat([DataFrame(Y_visits[days]) for days in Active_Days], axis=1).replace({0:''})\n",
    "    Hoja.columns = [str(v) + ' day ' + str(days) for days in Active_Days for v in C_0 ]\n",
    "    Hoja.to_excel(writer, 'Vehicle routing')\n",
    "    \n",
    "    # Shared routing\n",
    "    Z_visits = [zeros([n+1,n+1], dtype='<U'+str(2*n)) for days in Active_Days]\n",
    "    for days in Active_Days:\n",
    "        Z_day = (v[:-1] for v in Z.keys() if v[-1] == days)\n",
    "        for pairs in Z_day:\n",
    "            coords = tuple([vv if vv <= n else vv%n if vv<2*n else n if vv == 2*n else 0 for vv in pairs[:-1] ])\n",
    "            if Z_visits[days][coords] == '':\n",
    "                Z_visits[days][coords] = str(pairs[-1] + 1)\n",
    "            else:\n",
    "                Z_visits[days][coords] += ', ' + str(pairs[-1] + 1)\n",
    "    \n",
    "    Hoja = concat([DataFrame(Z_visits[days]) for days in Active_Days], axis=1).replace({0:''})\n",
    "    Hoja.columns = [str(v) + ' day ' + str(days) for days in Active_Days for v in C_0 ]\n",
    "    Hoja.to_excel(writer, 'Shared routing')\n",
    "    \n",
    "    # Times and breaks\n",
    "    W_breaks = [ zeros(n, dtype=int) for days in Active_Days]\n",
    "    for days in Active_Days:\n",
    "        for v in (v[:-1] for v in W.keys() if v[-1] == days):\n",
    "            W_breaks[days][v[0]-1] = v[1]+1\n",
    "    \n",
    "    Hoja = DataFrame({'Time i':[ B[i].x for i in C_minus ], 'Time i+n':[ B[i].x for i in C_plus ]})\n",
    "    Hoja = concat([Hoja]+[DataFrame(W_breaks[days]) for days in Active_Days], axis=1).replace({0:''})\n",
    "    Hoja.columns = list(Hoja.columns[:2]) + ['break day '+str(days) for days in Active_Days]\n",
    "    Hoja.index = arange(1,n+1)\n",
    "    Hoja.to_excel(writer, 'Times and breaks per pollster')\n",
    "    writer.sheets['Times and breaks per pollster'].set_column('D:AA', 15)"
   ]
  },
  {
   "cell_type": "markdown",
   "metadata": {},
   "source": [
    "---"
   ]
  }
 ],
 "metadata": {
  "kernelspec": {
   "display_name": "A - Python 3",
   "language": "python",
   "name": "python3"
  },
  "language_info": {
   "codemirror_mode": {
    "name": "ipython",
    "version": 3
   },
   "file_extension": ".py",
   "mimetype": "text/x-python",
   "name": "python",
   "nbconvert_exporter": "python",
   "pygments_lexer": "ipython3",
   "version": "3.10.14"
  },
  "nbTranslate": {
   "displayLangs": [
    "*"
   ],
   "hotkey": "alt-t",
   "langInMainMenu": true,
   "sourceLang": "en",
   "targetLang": "fr",
   "useGoogleTranslate": true
  }
 },
 "nbformat": 4,
 "nbformat_minor": 2
}
